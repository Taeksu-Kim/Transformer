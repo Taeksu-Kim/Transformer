{
  "cells": [
    {
      "cell_type": "code",
      "execution_count": null,
      "metadata": {
        "colab": {
          "base_uri": "https://localhost:8080/"
        },
        "id": "PY9gIZoPREnL",
        "outputId": "bfe875c0-4058-44cd-bc70-61f2501fc3a2"
      },
      "outputs": [
        {
          "output_type": "stream",
          "name": "stdout",
          "text": [
            "Looking in indexes: https://pypi.org/simple, https://us-python.pkg.dev/colab-wheels/public/simple/\n",
            "Collecting transformers==4.7\n",
            "  Downloading transformers-4.7.0-py3-none-any.whl (2.5 MB)\n",
            "\u001b[K     |████████████████████████████████| 2.5 MB 8.3 MB/s \n",
            "\u001b[?25hCollecting torchinfo\n",
            "  Downloading torchinfo-1.7.0-py3-none-any.whl (22 kB)\n",
            "Requirement already satisfied: numpy>=1.17 in /usr/local/lib/python3.7/dist-packages (from transformers==4.7) (1.21.6)\n",
            "Requirement already satisfied: pyyaml in /usr/local/lib/python3.7/dist-packages (from transformers==4.7) (6.0)\n",
            "Requirement already satisfied: packaging in /usr/local/lib/python3.7/dist-packages (from transformers==4.7) (21.3)\n",
            "Requirement already satisfied: tqdm>=4.27 in /usr/local/lib/python3.7/dist-packages (from transformers==4.7) (4.64.1)\n",
            "Collecting tokenizers<0.11,>=0.10.1\n",
            "  Downloading tokenizers-0.10.3-cp37-cp37m-manylinux_2_5_x86_64.manylinux1_x86_64.manylinux_2_12_x86_64.manylinux2010_x86_64.whl (3.3 MB)\n",
            "\u001b[K     |████████████████████████████████| 3.3 MB 39.1 MB/s \n",
            "\u001b[?25hCollecting sacremoses\n",
            "  Downloading sacremoses-0.0.53.tar.gz (880 kB)\n",
            "\u001b[K     |████████████████████████████████| 880 kB 41.4 MB/s \n",
            "\u001b[?25hRequirement already satisfied: importlib-metadata in /usr/local/lib/python3.7/dist-packages (from transformers==4.7) (4.12.0)\n",
            "Collecting huggingface-hub==0.0.8\n",
            "  Downloading huggingface_hub-0.0.8-py3-none-any.whl (34 kB)\n",
            "Requirement already satisfied: filelock in /usr/local/lib/python3.7/dist-packages (from transformers==4.7) (3.8.0)\n",
            "Requirement already satisfied: requests in /usr/local/lib/python3.7/dist-packages (from transformers==4.7) (2.23.0)\n",
            "Requirement already satisfied: regex!=2019.12.17 in /usr/local/lib/python3.7/dist-packages (from transformers==4.7) (2022.6.2)\n",
            "Requirement already satisfied: zipp>=0.5 in /usr/local/lib/python3.7/dist-packages (from importlib-metadata->transformers==4.7) (3.8.1)\n",
            "Requirement already satisfied: typing-extensions>=3.6.4 in /usr/local/lib/python3.7/dist-packages (from importlib-metadata->transformers==4.7) (4.1.1)\n",
            "Requirement already satisfied: pyparsing!=3.0.5,>=2.0.2 in /usr/local/lib/python3.7/dist-packages (from packaging->transformers==4.7) (3.0.9)\n",
            "Requirement already satisfied: idna<3,>=2.5 in /usr/local/lib/python3.7/dist-packages (from requests->transformers==4.7) (2.10)\n",
            "Requirement already satisfied: certifi>=2017.4.17 in /usr/local/lib/python3.7/dist-packages (from requests->transformers==4.7) (2022.6.15)\n",
            "Requirement already satisfied: chardet<4,>=3.0.2 in /usr/local/lib/python3.7/dist-packages (from requests->transformers==4.7) (3.0.4)\n",
            "Requirement already satisfied: urllib3!=1.25.0,!=1.25.1,<1.26,>=1.21.1 in /usr/local/lib/python3.7/dist-packages (from requests->transformers==4.7) (1.24.3)\n",
            "Requirement already satisfied: six in /usr/local/lib/python3.7/dist-packages (from sacremoses->transformers==4.7) (1.15.0)\n",
            "Requirement already satisfied: click in /usr/local/lib/python3.7/dist-packages (from sacremoses->transformers==4.7) (7.1.2)\n",
            "Requirement already satisfied: joblib in /usr/local/lib/python3.7/dist-packages (from sacremoses->transformers==4.7) (1.1.0)\n",
            "Building wheels for collected packages: sacremoses\n",
            "  Building wheel for sacremoses (setup.py) ... \u001b[?25l\u001b[?25hdone\n",
            "  Created wheel for sacremoses: filename=sacremoses-0.0.53-py3-none-any.whl size=895260 sha256=f8f5048c06991e742b1a83d6819a1973630fe5324083eff78c4753587ce5d6a3\n",
            "  Stored in directory: /root/.cache/pip/wheels/87/39/dd/a83eeef36d0bf98e7a4d1933a4ad2d660295a40613079bafc9\n",
            "Successfully built sacremoses\n",
            "Installing collected packages: tokenizers, sacremoses, huggingface-hub, transformers, torchinfo\n",
            "Successfully installed huggingface-hub-0.0.8 sacremoses-0.0.53 tokenizers-0.10.3 torchinfo-1.7.0 transformers-4.7.0\n"
          ]
        }
      ],
      "source": [
        "!pip install transformers==4.7 torchinfo"
      ]
    },
    {
      "cell_type": "code",
      "execution_count": null,
      "metadata": {
        "colab": {
          "base_uri": "https://localhost:8080/"
        },
        "id": "iYucaGAGRmJX",
        "outputId": "8accb793-9ab0-4c1f-8313-46172d4ae246"
      },
      "outputs": [
        {
          "output_type": "stream",
          "name": "stdout",
          "text": [
            "Cloning into 'Transformer'...\n",
            "remote: Enumerating objects: 66, done.\u001b[K\n",
            "remote: Counting objects: 100% (66/66), done.\u001b[K\n",
            "remote: Compressing objects: 100% (42/42), done.\u001b[K\n",
            "remote: Total 66 (delta 26), reused 38 (delta 14), pack-reused 0\u001b[K\n",
            "Unpacking objects: 100% (66/66), done.\n"
          ]
        }
      ],
      "source": [
        "!git clone https://github.com/Taeksu-Kim/Transformer.git"
      ]
    },
    {
      "cell_type": "code",
      "execution_count": null,
      "metadata": {
        "colab": {
          "base_uri": "https://localhost:8080/"
        },
        "id": "fHZ0wWoTRmLv",
        "outputId": "c75ae595-e483-4187-e66b-99f1f3da9eba"
      },
      "outputs": [
        {
          "output_type": "stream",
          "name": "stdout",
          "text": [
            "/content/Transformer/PyTorch\n"
          ]
        }
      ],
      "source": [
        "cd Transformer/PyTorch"
      ]
    },
    {
      "cell_type": "code",
      "source": [
        "# 데이터 다운로드\n",
        "!wget https://raw.githubusercontent.com/e9t/nsmc/master/ratings_train.txt\n",
        "!wget https://raw.githubusercontent.com/e9t/nsmc/master/ratings_test.txt"
      ],
      "metadata": {
        "colab": {
          "base_uri": "https://localhost:8080/"
        },
        "id": "t8sYk7HN4d54",
        "outputId": "194b0af4-3e8c-46b2-8b45-94b9cc4dac02"
      },
      "execution_count": null,
      "outputs": [
        {
          "output_type": "stream",
          "name": "stdout",
          "text": [
            "--2022-09-15 21:56:41--  https://raw.githubusercontent.com/e9t/nsmc/master/ratings_train.txt\n",
            "Resolving raw.githubusercontent.com (raw.githubusercontent.com)... 185.199.110.133, 185.199.108.133, 185.199.111.133, ...\n",
            "Connecting to raw.githubusercontent.com (raw.githubusercontent.com)|185.199.110.133|:443... connected.\n",
            "HTTP request sent, awaiting response... 200 OK\n",
            "Length: 14628807 (14M) [text/plain]\n",
            "Saving to: ‘ratings_train.txt’\n",
            "\n",
            "ratings_train.txt   100%[===================>]  13.95M  --.-KB/s    in 0.08s   \n",
            "\n",
            "2022-09-15 21:56:42 (180 MB/s) - ‘ratings_train.txt’ saved [14628807/14628807]\n",
            "\n",
            "--2022-09-15 21:56:42--  https://raw.githubusercontent.com/e9t/nsmc/master/ratings_test.txt\n",
            "Resolving raw.githubusercontent.com (raw.githubusercontent.com)... 185.199.108.133, 185.199.109.133, 185.199.110.133, ...\n",
            "Connecting to raw.githubusercontent.com (raw.githubusercontent.com)|185.199.108.133|:443... connected.\n",
            "HTTP request sent, awaiting response... 200 OK\n",
            "Length: 4893335 (4.7M) [text/plain]\n",
            "Saving to: ‘ratings_test.txt’\n",
            "\n",
            "ratings_test.txt    100%[===================>]   4.67M  --.-KB/s    in 0.04s   \n",
            "\n",
            "2022-09-15 21:56:43 (111 MB/s) - ‘ratings_test.txt’ saved [4893335/4893335]\n",
            "\n"
          ]
        }
      ]
    },
    {
      "cell_type": "code",
      "execution_count": null,
      "metadata": {
        "id": "soWE65AlSDP9"
      },
      "outputs": [],
      "source": [
        "# common\n",
        "import math\n",
        "import random\n",
        "import os\n",
        "import gc\n",
        "import numpy as np\n",
        "import pandas as pd\n",
        "from tqdm import tqdm\n",
        "import matplotlib.pyplot as plt\n",
        "from sklearn.model_selection import train_test_split\n",
        "\n",
        "from torchinfo import summary\n",
        "\n",
        "import torch\n",
        "import torch.nn as nn\n",
        "from torch.utils.data import Dataset\n",
        "\n",
        "from transformers import AutoTokenizer\n",
        "\n",
        "# custom\n",
        "from transformer import Transformer, TransformerEncoder, get_attn_pad_mask"
      ]
    },
    {
      "cell_type": "code",
      "execution_count": null,
      "metadata": {
        "id": "kOxo_8pmc0tI"
      },
      "outputs": [],
      "source": [
        "def seed_everything(seed: int = 42):\n",
        "    random.seed(seed)\n",
        "    np.random.seed(seed)\n",
        "    torch.manual_seed(seed)\n",
        "    torch.cuda.manual_seed(seed)  # type: ignore\n",
        "    torch.backends.cudnn.deterministic = True  # type: ignore\n",
        "    torch.backends.cudnn.benchmark = False  # type: ignore\n",
        "    torch.cuda.manual_seed_all(seed)\n",
        "\n",
        "seed = 42\n",
        "\n",
        "seed_everything(seed)"
      ]
    },
    {
      "cell_type": "code",
      "execution_count": null,
      "metadata": {
        "id": "OyV4zC-teD-Y"
      },
      "outputs": [],
      "source": [
        "device = torch.device('cuda:0' if torch.cuda.is_available() else 'cpu')\n",
        "\n",
        "epochs = 300\n",
        "learning_rate = 1e-4\n",
        "weight_decay = 1e-2\n",
        "batch_size = 64\n",
        "\n",
        "gradient_scaler = True\n",
        "# use_lr_scheduler = False\n",
        "\n",
        "early_stopping_patience = 10\n",
        "\n",
        "save_name = 'tft_model'"
      ]
    },
    {
      "cell_type": "code",
      "execution_count": null,
      "metadata": {
        "id": "Vcy_7abBaWGX",
        "colab": {
          "base_uri": "https://localhost:8080/",
          "height": 177,
          "referenced_widgets": [
            "9e487314fb944c93865932fcdd8b03bf",
            "543dbf91ccbf4059b7fae9ba4590ec2d",
            "ee9b5cea6e9a4322af16acce42609ec5",
            "1cbfd1265bdc4cdcab9fadbc451bc246",
            "0ec5ff99530b48e1bc5da25c9486a0ec",
            "24bc8a054a5245fe90cdf6cc4554ad8f",
            "f638b0158c204a83a70456dab94890e5",
            "94b8c003a6804497bd0d5c4c4df3e23e",
            "bbf3d5b44f734bf98a13d2af07282989",
            "72d9a509d7f348fc9a3c716b77d7e565",
            "55967854a0cd418f9de6222612485e04",
            "e961938dc2c7413aa26fb06505336842",
            "88d0e3131ded41d5bdaeb35154e56d18",
            "27a340f8f2134d6fb373203b3c20f213",
            "2e9c8b0bb128429a823682808222d0ec",
            "cc505096726b48c18018119f299339e3",
            "ef4e0a8408fa49898c9871757b2a3b03",
            "7ff27d4ec9774a13bbefbba686149030",
            "3195e89ccabc48e9b173e64f25ab286d",
            "ba70f21294ed4f62930bbe279844adc9",
            "c535865cdccb4993aec8b9b70d7ac4fb",
            "d75cf85292314be4844a97a01b5ed04a",
            "76d081b7844445919303c108c0c52180",
            "3697e49923264a49a0ea5bbffb399af5",
            "0f40ca9d99b84776bbb42aacf5510032",
            "cab7d5ddf1124387afcbf64164e3c024",
            "acb37d9051a8411e869631d00fb92c7e",
            "6744b0b9260c47a39c1e7664dd7821c1",
            "f0c91514d38541a09d016a6511d1b341",
            "8765aea5de29420fbebcdd3bbaa5b2e1",
            "0d8381f140c44b5db12321e9e489b805",
            "4add3a91c0e14df495f0787fd5cec89f",
            "ce094d8566d04a08bae0e505635ac6b5",
            "3c68b1984b294128944fb3c7720dabdd",
            "5a3e15ee23e94c489d487478daf2c428",
            "219fa9c831ab498981ad99d19a5fb008",
            "96f7bb7d8d474d8c92f5ee55a61afb81",
            "bb38b3868dc64c4899347226218fd140",
            "3123e79940174fdf9d8b08baf7dd00c7",
            "8a23b24a36234ab5b8876fe35b9255f5",
            "4663e541e18c4d609ac14d15289901ce",
            "efd8870941644a3db69d2828c2ed90a3",
            "0e08c021676e43e8ae430b3f21e21a2d",
            "96bc1819f0bc471abfd625796c0f106e",
            "4cf9978bc41c45eb8201c18398bf9890",
            "0188da7019ee43a39300d4d76c28473a",
            "0c28a401f1ce413d8bbc7d0087bdb5ab",
            "03a216db5ea943bb8a54d151c260aa7d",
            "5726011321a647b39ecd66decef4bd30",
            "ce6d2783e1e2479bb1649c5432dc5abc",
            "5531773e7cd54706bfc3305d1a636986",
            "ddb359f4f1fd4c2cb0efb507cbdcf83f",
            "2c68d609feb540f7aa9d653a776c2fb7",
            "28513ddeca254fba9ff11987e0e45c08",
            "238ac70f107f4b7684cca21d3c8255d2"
          ]
        },
        "outputId": "a380d723-f27a-4ccc-c4b4-e4138f0a0c7c"
      },
      "outputs": [
        {
          "output_type": "display_data",
          "data": {
            "text/plain": [
              "Downloading:   0%|          | 0.00/870 [00:00<?, ?B/s]"
            ],
            "application/vnd.jupyter.widget-view+json": {
              "version_major": 2,
              "version_minor": 0,
              "model_id": "9e487314fb944c93865932fcdd8b03bf"
            }
          },
          "metadata": {}
        },
        {
          "output_type": "display_data",
          "data": {
            "text/plain": [
              "Downloading:   0%|          | 0.00/241k [00:00<?, ?B/s]"
            ],
            "application/vnd.jupyter.widget-view+json": {
              "version_major": 2,
              "version_minor": 0,
              "model_id": "e961938dc2c7413aa26fb06505336842"
            }
          },
          "metadata": {}
        },
        {
          "output_type": "display_data",
          "data": {
            "text/plain": [
              "Downloading:   0%|          | 0.00/492k [00:00<?, ?B/s]"
            ],
            "application/vnd.jupyter.widget-view+json": {
              "version_major": 2,
              "version_minor": 0,
              "model_id": "76d081b7844445919303c108c0c52180"
            }
          },
          "metadata": {}
        },
        {
          "output_type": "display_data",
          "data": {
            "text/plain": [
              "Downloading:   0%|          | 0.00/169 [00:00<?, ?B/s]"
            ],
            "application/vnd.jupyter.widget-view+json": {
              "version_major": 2,
              "version_minor": 0,
              "model_id": "3c68b1984b294128944fb3c7720dabdd"
            }
          },
          "metadata": {}
        },
        {
          "output_type": "display_data",
          "data": {
            "text/plain": [
              "Downloading:   0%|          | 0.00/373 [00:00<?, ?B/s]"
            ],
            "application/vnd.jupyter.widget-view+json": {
              "version_major": 2,
              "version_minor": 0,
              "model_id": "4cf9978bc41c45eb8201c18398bf9890"
            }
          },
          "metadata": {}
        }
      ],
      "source": [
        "model_path = \"monologg/kobigbird-bert-base\"\n",
        "tokenizer = AutoTokenizer.from_pretrained(model_path)"
      ]
    },
    {
      "cell_type": "code",
      "source": [
        "train_df = pd.read_csv('ratings_train.txt', sep=\"\\t\", engine=\"python\")"
      ],
      "metadata": {
        "id": "-g7KS5N_7xb_"
      },
      "execution_count": null,
      "outputs": []
    },
    {
      "cell_type": "code",
      "source": [
        "train_df.isna().sum()"
      ],
      "metadata": {
        "colab": {
          "base_uri": "https://localhost:8080/"
        },
        "id": "MN7o2iM1oQ7e",
        "outputId": "a7a3f881-cd5e-4715-b5a1-a95cddd61551"
      },
      "execution_count": null,
      "outputs": [
        {
          "output_type": "execute_result",
          "data": {
            "text/plain": [
              "id          0\n",
              "document    5\n",
              "label       0\n",
              "dtype: int64"
            ]
          },
          "metadata": {},
          "execution_count": 7
        }
      ]
    },
    {
      "cell_type": "code",
      "source": [
        "train_df = train_df.dropna()"
      ],
      "metadata": {
        "id": "SzvA1YhHo62d"
      },
      "execution_count": null,
      "outputs": []
    },
    {
      "cell_type": "code",
      "source": [
        "test_df = pd.read_csv('ratings_test.txt', sep=\"\\t\", engine=\"python\")"
      ],
      "metadata": {
        "id": "mx2YPbyE5MHF"
      },
      "execution_count": null,
      "outputs": []
    },
    {
      "cell_type": "code",
      "source": [
        "test_df.isna().sum()"
      ],
      "metadata": {
        "colab": {
          "base_uri": "https://localhost:8080/"
        },
        "id": "BSkuGq4vpBx6",
        "outputId": "7899e863-1434-481d-b113-1100275bca3a"
      },
      "execution_count": null,
      "outputs": [
        {
          "output_type": "execute_result",
          "data": {
            "text/plain": [
              "id          0\n",
              "document    3\n",
              "label       0\n",
              "dtype: int64"
            ]
          },
          "metadata": {},
          "execution_count": 11
        }
      ]
    },
    {
      "cell_type": "code",
      "source": [
        "test_df = test_df.dropna()"
      ],
      "metadata": {
        "id": "hMjQA7NcpD1T"
      },
      "execution_count": null,
      "outputs": []
    },
    {
      "cell_type": "code",
      "source": [
        "train_df"
      ],
      "metadata": {
        "colab": {
          "base_uri": "https://localhost:8080/",
          "height": 424
        },
        "id": "tXiNfmJp87JZ",
        "outputId": "80e4d48d-d79e-4965-92a3-25f3375e693d"
      },
      "execution_count": null,
      "outputs": [
        {
          "output_type": "execute_result",
          "data": {
            "text/plain": [
              "              id                                           document  label\n",
              "0        9976970                                아 더빙.. 진짜 짜증나네요 목소리      0\n",
              "1        3819312                  흠...포스터보고 초딩영화줄....오버연기조차 가볍지 않구나      1\n",
              "2       10265843                                  너무재밓었다그래서보는것을추천한다      0\n",
              "3        9045019                      교도소 이야기구먼 ..솔직히 재미는 없다..평점 조정      0\n",
              "4        6483659  사이몬페그의 익살스런 연기가 돋보였던 영화!스파이더맨에서 늙어보이기만 했던 커스틴 ...      1\n",
              "...          ...                                                ...    ...\n",
              "149995   6222902                                인간이 문제지.. 소는 뭔죄인가..      0\n",
              "149996   8549745                                      평점이 너무 낮아서...      1\n",
              "149997   9311800                    이게 뭐요? 한국인은 거들먹거리고 필리핀 혼혈은 착하다?      0\n",
              "149998   2376369                        청춘 영화의 최고봉.방황과 우울했던 날들의 자화상      1\n",
              "149999   9619869                           한국 영화 최초로 수간하는 내용이 담긴 영화      0\n",
              "\n",
              "[149995 rows x 3 columns]"
            ],
            "text/html": [
              "\n",
              "  <div id=\"df-2dc2a432-7dd1-4e82-9909-652f9fae68bf\">\n",
              "    <div class=\"colab-df-container\">\n",
              "      <div>\n",
              "<style scoped>\n",
              "    .dataframe tbody tr th:only-of-type {\n",
              "        vertical-align: middle;\n",
              "    }\n",
              "\n",
              "    .dataframe tbody tr th {\n",
              "        vertical-align: top;\n",
              "    }\n",
              "\n",
              "    .dataframe thead th {\n",
              "        text-align: right;\n",
              "    }\n",
              "</style>\n",
              "<table border=\"1\" class=\"dataframe\">\n",
              "  <thead>\n",
              "    <tr style=\"text-align: right;\">\n",
              "      <th></th>\n",
              "      <th>id</th>\n",
              "      <th>document</th>\n",
              "      <th>label</th>\n",
              "    </tr>\n",
              "  </thead>\n",
              "  <tbody>\n",
              "    <tr>\n",
              "      <th>0</th>\n",
              "      <td>9976970</td>\n",
              "      <td>아 더빙.. 진짜 짜증나네요 목소리</td>\n",
              "      <td>0</td>\n",
              "    </tr>\n",
              "    <tr>\n",
              "      <th>1</th>\n",
              "      <td>3819312</td>\n",
              "      <td>흠...포스터보고 초딩영화줄....오버연기조차 가볍지 않구나</td>\n",
              "      <td>1</td>\n",
              "    </tr>\n",
              "    <tr>\n",
              "      <th>2</th>\n",
              "      <td>10265843</td>\n",
              "      <td>너무재밓었다그래서보는것을추천한다</td>\n",
              "      <td>0</td>\n",
              "    </tr>\n",
              "    <tr>\n",
              "      <th>3</th>\n",
              "      <td>9045019</td>\n",
              "      <td>교도소 이야기구먼 ..솔직히 재미는 없다..평점 조정</td>\n",
              "      <td>0</td>\n",
              "    </tr>\n",
              "    <tr>\n",
              "      <th>4</th>\n",
              "      <td>6483659</td>\n",
              "      <td>사이몬페그의 익살스런 연기가 돋보였던 영화!스파이더맨에서 늙어보이기만 했던 커스틴 ...</td>\n",
              "      <td>1</td>\n",
              "    </tr>\n",
              "    <tr>\n",
              "      <th>...</th>\n",
              "      <td>...</td>\n",
              "      <td>...</td>\n",
              "      <td>...</td>\n",
              "    </tr>\n",
              "    <tr>\n",
              "      <th>149995</th>\n",
              "      <td>6222902</td>\n",
              "      <td>인간이 문제지.. 소는 뭔죄인가..</td>\n",
              "      <td>0</td>\n",
              "    </tr>\n",
              "    <tr>\n",
              "      <th>149996</th>\n",
              "      <td>8549745</td>\n",
              "      <td>평점이 너무 낮아서...</td>\n",
              "      <td>1</td>\n",
              "    </tr>\n",
              "    <tr>\n",
              "      <th>149997</th>\n",
              "      <td>9311800</td>\n",
              "      <td>이게 뭐요? 한국인은 거들먹거리고 필리핀 혼혈은 착하다?</td>\n",
              "      <td>0</td>\n",
              "    </tr>\n",
              "    <tr>\n",
              "      <th>149998</th>\n",
              "      <td>2376369</td>\n",
              "      <td>청춘 영화의 최고봉.방황과 우울했던 날들의 자화상</td>\n",
              "      <td>1</td>\n",
              "    </tr>\n",
              "    <tr>\n",
              "      <th>149999</th>\n",
              "      <td>9619869</td>\n",
              "      <td>한국 영화 최초로 수간하는 내용이 담긴 영화</td>\n",
              "      <td>0</td>\n",
              "    </tr>\n",
              "  </tbody>\n",
              "</table>\n",
              "<p>149995 rows × 3 columns</p>\n",
              "</div>\n",
              "      <button class=\"colab-df-convert\" onclick=\"convertToInteractive('df-2dc2a432-7dd1-4e82-9909-652f9fae68bf')\"\n",
              "              title=\"Convert this dataframe to an interactive table.\"\n",
              "              style=\"display:none;\">\n",
              "        \n",
              "  <svg xmlns=\"http://www.w3.org/2000/svg\" height=\"24px\"viewBox=\"0 0 24 24\"\n",
              "       width=\"24px\">\n",
              "    <path d=\"M0 0h24v24H0V0z\" fill=\"none\"/>\n",
              "    <path d=\"M18.56 5.44l.94 2.06.94-2.06 2.06-.94-2.06-.94-.94-2.06-.94 2.06-2.06.94zm-11 1L8.5 8.5l.94-2.06 2.06-.94-2.06-.94L8.5 2.5l-.94 2.06-2.06.94zm10 10l.94 2.06.94-2.06 2.06-.94-2.06-.94-.94-2.06-.94 2.06-2.06.94z\"/><path d=\"M17.41 7.96l-1.37-1.37c-.4-.4-.92-.59-1.43-.59-.52 0-1.04.2-1.43.59L10.3 9.45l-7.72 7.72c-.78.78-.78 2.05 0 2.83L4 21.41c.39.39.9.59 1.41.59.51 0 1.02-.2 1.41-.59l7.78-7.78 2.81-2.81c.8-.78.8-2.07 0-2.86zM5.41 20L4 18.59l7.72-7.72 1.47 1.35L5.41 20z\"/>\n",
              "  </svg>\n",
              "      </button>\n",
              "      \n",
              "  <style>\n",
              "    .colab-df-container {\n",
              "      display:flex;\n",
              "      flex-wrap:wrap;\n",
              "      gap: 12px;\n",
              "    }\n",
              "\n",
              "    .colab-df-convert {\n",
              "      background-color: #E8F0FE;\n",
              "      border: none;\n",
              "      border-radius: 50%;\n",
              "      cursor: pointer;\n",
              "      display: none;\n",
              "      fill: #1967D2;\n",
              "      height: 32px;\n",
              "      padding: 0 0 0 0;\n",
              "      width: 32px;\n",
              "    }\n",
              "\n",
              "    .colab-df-convert:hover {\n",
              "      background-color: #E2EBFA;\n",
              "      box-shadow: 0px 1px 2px rgba(60, 64, 67, 0.3), 0px 1px 3px 1px rgba(60, 64, 67, 0.15);\n",
              "      fill: #174EA6;\n",
              "    }\n",
              "\n",
              "    [theme=dark] .colab-df-convert {\n",
              "      background-color: #3B4455;\n",
              "      fill: #D2E3FC;\n",
              "    }\n",
              "\n",
              "    [theme=dark] .colab-df-convert:hover {\n",
              "      background-color: #434B5C;\n",
              "      box-shadow: 0px 1px 3px 1px rgba(0, 0, 0, 0.15);\n",
              "      filter: drop-shadow(0px 1px 2px rgba(0, 0, 0, 0.3));\n",
              "      fill: #FFFFFF;\n",
              "    }\n",
              "  </style>\n",
              "\n",
              "      <script>\n",
              "        const buttonEl =\n",
              "          document.querySelector('#df-2dc2a432-7dd1-4e82-9909-652f9fae68bf button.colab-df-convert');\n",
              "        buttonEl.style.display =\n",
              "          google.colab.kernel.accessAllowed ? 'block' : 'none';\n",
              "\n",
              "        async function convertToInteractive(key) {\n",
              "          const element = document.querySelector('#df-2dc2a432-7dd1-4e82-9909-652f9fae68bf');\n",
              "          const dataTable =\n",
              "            await google.colab.kernel.invokeFunction('convertToInteractive',\n",
              "                                                     [key], {});\n",
              "          if (!dataTable) return;\n",
              "\n",
              "          const docLinkHtml = 'Like what you see? Visit the ' +\n",
              "            '<a target=\"_blank\" href=https://colab.research.google.com/notebooks/data_table.ipynb>data table notebook</a>'\n",
              "            + ' to learn more about interactive tables.';\n",
              "          element.innerHTML = '';\n",
              "          dataTable['output_type'] = 'display_data';\n",
              "          await google.colab.output.renderOutput(dataTable, element);\n",
              "          const docLink = document.createElement('div');\n",
              "          docLink.innerHTML = docLinkHtml;\n",
              "          element.appendChild(docLink);\n",
              "        }\n",
              "      </script>\n",
              "    </div>\n",
              "  </div>\n",
              "  "
            ]
          },
          "metadata": {},
          "execution_count": 13
        }
      ]
    },
    {
      "cell_type": "code",
      "source": [
        "tokenizer.tokenize('너무재밓었다그래서보는것을추천한다')"
      ],
      "metadata": {
        "colab": {
          "base_uri": "https://localhost:8080/"
        },
        "id": "2jfEciEL87Qh",
        "outputId": "93a671c8-8ecb-4eef-9ad1-38c4af4e77c8"
      },
      "execution_count": null,
      "outputs": [
        {
          "output_type": "execute_result",
          "data": {
            "text/plain": [
              "['[UNK]']"
            ]
          },
          "metadata": {},
          "execution_count": 14
        }
      ]
    },
    {
      "cell_type": "code",
      "source": [
        "!pip install git+https://github.com/haven-jeon/PyKoSpacing.git"
      ],
      "metadata": {
        "colab": {
          "base_uri": "https://localhost:8080/",
          "height": 1000
        },
        "id": "MTm2wvr8cAx5",
        "outputId": "a7d9098c-5901-4b36-cb77-36511560743b"
      },
      "execution_count": null,
      "outputs": [
        {
          "output_type": "stream",
          "name": "stdout",
          "text": [
            "Looking in indexes: https://pypi.org/simple, https://us-python.pkg.dev/colab-wheels/public/simple/\n",
            "Collecting git+https://github.com/haven-jeon/PyKoSpacing.git\n",
            "  Cloning https://github.com/haven-jeon/PyKoSpacing.git to /tmp/pip-req-build-uu52ugvj\n",
            "  Running command git clone -q https://github.com/haven-jeon/PyKoSpacing.git /tmp/pip-req-build-uu52ugvj\n",
            "Requirement already satisfied: tensorflow==2.7.2 in /usr/local/lib/python3.7/dist-packages (from pykospacing==0.5) (2.7.2+zzzcolab20220516114640)\n",
            "Requirement already satisfied: h5py==3.1.0 in /usr/local/lib/python3.7/dist-packages (from pykospacing==0.5) (3.1.0)\n",
            "Collecting argparse>=1.4.0\n",
            "  Using cached argparse-1.4.0-py2.py3-none-any.whl (23 kB)\n",
            "Requirement already satisfied: numpy>=1.14.5 in /usr/local/lib/python3.7/dist-packages (from h5py==3.1.0->pykospacing==0.5) (1.21.6)\n",
            "Requirement already satisfied: cached-property in /usr/local/lib/python3.7/dist-packages (from h5py==3.1.0->pykospacing==0.5) (1.5.2)\n",
            "Requirement already satisfied: keras<2.8,>=2.7.0rc0 in /usr/local/lib/python3.7/dist-packages (from tensorflow==2.7.2->pykospacing==0.5) (2.7.0)\n",
            "Requirement already satisfied: libclang>=9.0.1 in /usr/local/lib/python3.7/dist-packages (from tensorflow==2.7.2->pykospacing==0.5) (14.0.6)\n",
            "Requirement already satisfied: grpcio<2.0,>=1.24.3 in /usr/local/lib/python3.7/dist-packages (from tensorflow==2.7.2->pykospacing==0.5) (1.48.1)\n",
            "Requirement already satisfied: astunparse>=1.6.0 in /usr/local/lib/python3.7/dist-packages (from tensorflow==2.7.2->pykospacing==0.5) (1.6.3)\n",
            "Requirement already satisfied: tensorboard~=2.6 in /usr/local/lib/python3.7/dist-packages (from tensorflow==2.7.2->pykospacing==0.5) (2.8.0)\n",
            "Requirement already satisfied: absl-py>=0.4.0 in /usr/local/lib/python3.7/dist-packages (from tensorflow==2.7.2->pykospacing==0.5) (1.2.0)\n",
            "Requirement already satisfied: tensorflow-io-gcs-filesystem>=0.21.0 in /usr/local/lib/python3.7/dist-packages (from tensorflow==2.7.2->pykospacing==0.5) (0.26.0)\n",
            "Requirement already satisfied: termcolor>=1.1.0 in /usr/local/lib/python3.7/dist-packages (from tensorflow==2.7.2->pykospacing==0.5) (1.1.0)\n",
            "Requirement already satisfied: keras-preprocessing>=1.1.1 in /usr/local/lib/python3.7/dist-packages (from tensorflow==2.7.2->pykospacing==0.5) (1.1.2)\n",
            "Requirement already satisfied: six>=1.12.0 in /usr/local/lib/python3.7/dist-packages (from tensorflow==2.7.2->pykospacing==0.5) (1.15.0)\n",
            "Requirement already satisfied: google-pasta>=0.1.1 in /usr/local/lib/python3.7/dist-packages (from tensorflow==2.7.2->pykospacing==0.5) (0.2.0)\n",
            "Requirement already satisfied: typing-extensions>=3.6.6 in /usr/local/lib/python3.7/dist-packages (from tensorflow==2.7.2->pykospacing==0.5) (4.1.1)\n",
            "Requirement already satisfied: gast<0.5.0,>=0.2.1 in /usr/local/lib/python3.7/dist-packages (from tensorflow==2.7.2->pykospacing==0.5) (0.4.0)\n",
            "Requirement already satisfied: protobuf>=3.9.2 in /usr/local/lib/python3.7/dist-packages (from tensorflow==2.7.2->pykospacing==0.5) (3.17.3)\n",
            "Requirement already satisfied: wheel<1.0,>=0.32.0 in /usr/local/lib/python3.7/dist-packages (from tensorflow==2.7.2->pykospacing==0.5) (0.37.1)\n",
            "Requirement already satisfied: tensorflow-estimator<2.8,~=2.7.0rc0 in /usr/local/lib/python3.7/dist-packages (from tensorflow==2.7.2->pykospacing==0.5) (2.7.0)\n",
            "Requirement already satisfied: opt-einsum>=2.3.2 in /usr/local/lib/python3.7/dist-packages (from tensorflow==2.7.2->pykospacing==0.5) (3.3.0)\n",
            "Requirement already satisfied: wrapt>=1.11.0 in /usr/local/lib/python3.7/dist-packages (from tensorflow==2.7.2->pykospacing==0.5) (1.14.1)\n",
            "Requirement already satisfied: flatbuffers<3.0,>=1.12 in /usr/local/lib/python3.7/dist-packages (from tensorflow==2.7.2->pykospacing==0.5) (2.0.7)\n",
            "Requirement already satisfied: google-auth-oauthlib<0.5,>=0.4.1 in /usr/local/lib/python3.7/dist-packages (from tensorboard~=2.6->tensorflow==2.7.2->pykospacing==0.5) (0.4.6)\n",
            "Requirement already satisfied: werkzeug>=0.11.15 in /usr/local/lib/python3.7/dist-packages (from tensorboard~=2.6->tensorflow==2.7.2->pykospacing==0.5) (1.0.1)\n",
            "Requirement already satisfied: tensorboard-data-server<0.7.0,>=0.6.0 in /usr/local/lib/python3.7/dist-packages (from tensorboard~=2.6->tensorflow==2.7.2->pykospacing==0.5) (0.6.1)\n",
            "Requirement already satisfied: markdown>=2.6.8 in /usr/local/lib/python3.7/dist-packages (from tensorboard~=2.6->tensorflow==2.7.2->pykospacing==0.5) (3.4.1)\n",
            "Requirement already satisfied: requests<3,>=2.21.0 in /usr/local/lib/python3.7/dist-packages (from tensorboard~=2.6->tensorflow==2.7.2->pykospacing==0.5) (2.23.0)\n",
            "Requirement already satisfied: setuptools>=41.0.0 in /usr/local/lib/python3.7/dist-packages (from tensorboard~=2.6->tensorflow==2.7.2->pykospacing==0.5) (57.4.0)\n",
            "Requirement already satisfied: tensorboard-plugin-wit>=1.6.0 in /usr/local/lib/python3.7/dist-packages (from tensorboard~=2.6->tensorflow==2.7.2->pykospacing==0.5) (1.8.1)\n",
            "Requirement already satisfied: google-auth<3,>=1.6.3 in /usr/local/lib/python3.7/dist-packages (from tensorboard~=2.6->tensorflow==2.7.2->pykospacing==0.5) (1.35.0)\n",
            "Requirement already satisfied: rsa<5,>=3.1.4 in /usr/local/lib/python3.7/dist-packages (from google-auth<3,>=1.6.3->tensorboard~=2.6->tensorflow==2.7.2->pykospacing==0.5) (4.9)\n",
            "Requirement already satisfied: pyasn1-modules>=0.2.1 in /usr/local/lib/python3.7/dist-packages (from google-auth<3,>=1.6.3->tensorboard~=2.6->tensorflow==2.7.2->pykospacing==0.5) (0.2.8)\n",
            "Requirement already satisfied: cachetools<5.0,>=2.0.0 in /usr/local/lib/python3.7/dist-packages (from google-auth<3,>=1.6.3->tensorboard~=2.6->tensorflow==2.7.2->pykospacing==0.5) (4.2.4)\n",
            "Requirement already satisfied: requests-oauthlib>=0.7.0 in /usr/local/lib/python3.7/dist-packages (from google-auth-oauthlib<0.5,>=0.4.1->tensorboard~=2.6->tensorflow==2.7.2->pykospacing==0.5) (1.3.1)\n",
            "Requirement already satisfied: importlib-metadata>=4.4 in /usr/local/lib/python3.7/dist-packages (from markdown>=2.6.8->tensorboard~=2.6->tensorflow==2.7.2->pykospacing==0.5) (4.12.0)\n",
            "Requirement already satisfied: zipp>=0.5 in /usr/local/lib/python3.7/dist-packages (from importlib-metadata>=4.4->markdown>=2.6.8->tensorboard~=2.6->tensorflow==2.7.2->pykospacing==0.5) (3.8.1)\n",
            "Requirement already satisfied: pyasn1<0.5.0,>=0.4.6 in /usr/local/lib/python3.7/dist-packages (from pyasn1-modules>=0.2.1->google-auth<3,>=1.6.3->tensorboard~=2.6->tensorflow==2.7.2->pykospacing==0.5) (0.4.8)\n",
            "Requirement already satisfied: chardet<4,>=3.0.2 in /usr/local/lib/python3.7/dist-packages (from requests<3,>=2.21.0->tensorboard~=2.6->tensorflow==2.7.2->pykospacing==0.5) (3.0.4)\n",
            "Requirement already satisfied: idna<3,>=2.5 in /usr/local/lib/python3.7/dist-packages (from requests<3,>=2.21.0->tensorboard~=2.6->tensorflow==2.7.2->pykospacing==0.5) (2.10)\n",
            "Requirement already satisfied: certifi>=2017.4.17 in /usr/local/lib/python3.7/dist-packages (from requests<3,>=2.21.0->tensorboard~=2.6->tensorflow==2.7.2->pykospacing==0.5) (2022.6.15)\n",
            "Requirement already satisfied: urllib3!=1.25.0,!=1.25.1,<1.26,>=1.21.1 in /usr/local/lib/python3.7/dist-packages (from requests<3,>=2.21.0->tensorboard~=2.6->tensorflow==2.7.2->pykospacing==0.5) (1.24.3)\n",
            "Requirement already satisfied: oauthlib>=3.0.0 in /usr/local/lib/python3.7/dist-packages (from requests-oauthlib>=0.7.0->google-auth-oauthlib<0.5,>=0.4.1->tensorboard~=2.6->tensorflow==2.7.2->pykospacing==0.5) (3.2.0)\n",
            "Installing collected packages: argparse\n",
            "Successfully installed argparse-1.4.0\n"
          ]
        },
        {
          "output_type": "display_data",
          "data": {
            "application/vnd.colab-display-data+json": {
              "pip_warning": {
                "packages": [
                  "argparse"
                ]
              }
            }
          },
          "metadata": {}
        }
      ]
    },
    {
      "cell_type": "code",
      "source": [
        "from pykospacing import Spacing\n",
        "\n",
        "spacing = Spacing()\n",
        "\n",
        "text = '너무재밓었다그래서보는것을추천한다'\n",
        "fixed_text = spacing(text) \n",
        "\n",
        "print(fixed_text)"
      ],
      "metadata": {
        "colab": {
          "base_uri": "https://localhost:8080/"
        },
        "id": "YAKbm0YC87S5",
        "outputId": "aab509db-79a9-4d47-b191-d74059d4f5f7"
      },
      "execution_count": null,
      "outputs": [
        {
          "output_type": "stream",
          "name": "stdout",
          "text": [
            "너무 재밓었다 그래서 보는 것을 추천한다\n"
          ]
        }
      ]
    },
    {
      "cell_type": "code",
      "source": [
        "tar_df = train_df\n",
        "\n",
        "tar_df['fixed_document'] = [ spacing(tar_df['document'].iloc[i]) for i in tqdm(range(tar_df.shape[0]))]"
      ],
      "metadata": {
        "colab": {
          "base_uri": "https://localhost:8080/"
        },
        "id": "9X-SFcvocduL",
        "outputId": "39f4a694-b3e0-4e85-8581-aff3f21e7834"
      },
      "execution_count": null,
      "outputs": [
        {
          "output_type": "stream",
          "name": "stderr",
          "text": [
            "100%|██████████| 149995/149995 [1:44:39<00:00, 23.88it/s]\n"
          ]
        }
      ]
    },
    {
      "cell_type": "code",
      "source": [
        "tar_df.to_csv('train_df.csv', index=False)"
      ],
      "metadata": {
        "id": "SPISlsZGha92"
      },
      "execution_count": null,
      "outputs": []
    },
    {
      "cell_type": "code",
      "source": [
        "tar_df = test_df\n",
        "\n",
        "tar_df['fixed_document'] = [ spacing(tar_df['document'].iloc[i]) for i in tqdm(range(tar_df.shape[0]))]"
      ],
      "metadata": {
        "colab": {
          "base_uri": "https://localhost:8080/"
        },
        "id": "OOKdQGLqc437",
        "outputId": "018800f2-8d1c-44d2-cadf-e95936afa2e7"
      },
      "execution_count": null,
      "outputs": [
        {
          "output_type": "stream",
          "name": "stderr",
          "text": [
            "100%|██████████| 49997/49997 [34:57<00:00, 23.84it/s]\n"
          ]
        }
      ]
    },
    {
      "cell_type": "code",
      "source": [
        "tar_df.to_csv('test_df.csv', index=False)"
      ],
      "metadata": {
        "id": "LKegfc3Tcdzc"
      },
      "execution_count": null,
      "outputs": []
    },
    {
      "cell_type": "code",
      "source": [
        "#여기서 부터"
      ],
      "metadata": {
        "id": "J9D1OHREJ_Yq"
      },
      "execution_count": null,
      "outputs": []
    },
    {
      "cell_type": "code",
      "source": [
        "train_df = pd.read_csv('train_df.csv')\n",
        "test_df = pd.read_csv('test_df.csv')"
      ],
      "metadata": {
        "id": "lObHRTvCPPOZ"
      },
      "execution_count": null,
      "outputs": []
    },
    {
      "cell_type": "code",
      "execution_count": null,
      "metadata": {
        "id": "hBob5L-SZW7Q"
      },
      "outputs": [],
      "source": [
        "def cal_token_len(text, tokenizer):\n",
        "  return len(tokenizer.encode(text))"
      ]
    },
    {
      "cell_type": "code",
      "source": [
        "tokenizer.encode(train_df.iloc[2595]['fixed_document'])"
      ],
      "metadata": {
        "colab": {
          "base_uri": "https://localhost:8080/"
        },
        "id": "Q2voEs9CPx8X",
        "outputId": "7d5a2df7-1bce-40b4-fde7-fcb614d129a3"
      },
      "execution_count": null,
      "outputs": [
        {
          "output_type": "execute_result",
          "data": {
            "text/plain": [
              "[2, 2760, 4630, 8721, 3]"
            ]
          },
          "metadata": {},
          "execution_count": 13
        }
      ]
    },
    {
      "cell_type": "code",
      "execution_count": null,
      "metadata": {
        "id": "bsFzl3chZW93",
        "colab": {
          "base_uri": "https://localhost:8080/"
        },
        "outputId": "328146d0-1ff8-4448-973c-bacd34a0ce77"
      },
      "outputs": [
        {
          "output_type": "stream",
          "name": "stderr",
          "text": [
            "100%|██████████| 149995/149995 [00:57<00:00, 2621.08it/s]\n"
          ]
        }
      ],
      "source": [
        "tar_df = train_df\n",
        "\n",
        "tar_df['token_len'] = [ cal_token_len(str(tar_df.iloc[i]['fixed_document']), tokenizer) for i in tqdm(range(tar_df.shape[0])) ]"
      ]
    },
    {
      "cell_type": "code",
      "execution_count": null,
      "metadata": {
        "id": "mx6dRe2uaFj-",
        "colab": {
          "base_uri": "https://localhost:8080/"
        },
        "outputId": "37ae4a9c-f9ba-4d96-e57a-7a9e9eb3ce1a"
      },
      "outputs": [
        {
          "output_type": "stream",
          "name": "stderr",
          "text": [
            "100%|██████████| 49997/49997 [00:19<00:00, 2602.46it/s]\n"
          ]
        }
      ],
      "source": [
        "tar_df = test_df\n",
        "\n",
        "tar_df['token_len'] = [ cal_token_len(str(tar_df.iloc[i]['fixed_document']), tokenizer) for i in tqdm(range(tar_df.shape[0])) ]"
      ]
    },
    {
      "cell_type": "code",
      "execution_count": null,
      "metadata": {
        "colab": {
          "base_uri": "https://localhost:8080/"
        },
        "id": "eaGKGsU4ZXAo",
        "outputId": "f2e9b630-9a17-47d7-f3d3-1d999a02f106"
      },
      "outputs": [
        {
          "output_type": "stream",
          "name": "stdout",
          "text": [
            "95% length : 62.0\n",
            "98% length : 75.0\n",
            "99% length : 80.0\n",
            "100% length : 142.0\n"
          ]
        }
      ],
      "source": [
        "tar_df = train_df\n",
        "\n",
        "tar_per_list = [95,98,99,100]\n",
        "tar_col = tar_df['token_len']\n",
        "\n",
        "for i in tar_per_list:\n",
        "    print('{}% length : {}'.format(i, np.percentile(tar_col,i)))"
      ]
    },
    {
      "cell_type": "code",
      "source": [
        "tar_df = test_df\n",
        "\n",
        "tar_per_list = [95,98,99,100]\n",
        "tar_col = tar_df['token_len']\n",
        "\n",
        "for i in tar_per_list:\n",
        "    print('{}% length : {}'.format(i, np.percentile(tar_col,i)))"
      ],
      "metadata": {
        "colab": {
          "base_uri": "https://localhost:8080/"
        },
        "id": "AngXCh8kLJAY",
        "outputId": "f63216d7-1599-4786-db15-220b7d588197"
      },
      "execution_count": null,
      "outputs": [
        {
          "output_type": "stream",
          "name": "stdout",
          "text": [
            "95% length : 62.0\n",
            "98% length : 76.0\n",
            "99% length : 80.0\n",
            "100% length : 112.0\n"
          ]
        }
      ]
    },
    {
      "cell_type": "code",
      "execution_count": null,
      "metadata": {
        "id": "uAh_OP14ZXF5"
      },
      "outputs": [],
      "source": [
        "max_input_len = 100"
      ]
    },
    {
      "cell_type": "code",
      "source": [
        "train_df.keys()"
      ],
      "metadata": {
        "colab": {
          "base_uri": "https://localhost:8080/"
        },
        "id": "cx-bHVUy9Mly",
        "outputId": "6235f35c-8956-48a6-9861-03a2521c6bb2"
      },
      "execution_count": null,
      "outputs": [
        {
          "output_type": "execute_result",
          "data": {
            "text/plain": [
              "Index(['id', 'document', 'label', 'fixed_document', 'token_len'], dtype='object')"
            ]
          },
          "metadata": {},
          "execution_count": 19
        }
      ]
    },
    {
      "cell_type": "code",
      "execution_count": null,
      "metadata": {
        "id": "C-oykEIycXwS"
      },
      "outputs": [],
      "source": [
        "train, valid =  train_test_split(train_df, test_size=0.2, stratify=train_df['label'],random_state=seed, shuffle=True)"
      ]
    },
    {
      "cell_type": "code",
      "execution_count": null,
      "metadata": {
        "id": "EHnr6x_4bk0W"
      },
      "outputs": [],
      "source": [
        "class movie_review_dataset(Dataset):\n",
        "\n",
        "  def __init__(self, df, max_input_len):\n",
        "    self.df = df\n",
        "    self.max_input_len = max_input_len\n",
        "\n",
        "  def __len__(self):\n",
        "    return self.df.shape[0]\n",
        "\n",
        "  def __getitem__(self, index):\n",
        "\n",
        "    return {'enc_inputs' : torch.tensor(tokenizer.encode(str(self.df['fixed_document'].iloc[index]),max_length=self.max_input_len, padding='max_length', truncation='only_first'), dtype=int),\n",
        "            'labels' : torch.tensor(self.df['label'].iloc[index], dtype=int),\n",
        "            }"
      ]
    },
    {
      "cell_type": "code",
      "execution_count": null,
      "metadata": {
        "id": "Uee1UbQRbthI"
      },
      "outputs": [],
      "source": [
        "train_dataset = movie_review_dataset(train, max_input_len)\n",
        "valid_dataset = movie_review_dataset(valid, max_input_len)\n",
        "\n",
        "train_dataloader = torch.utils.data.DataLoader(train_dataset, batch_size=batch_size, num_workers=0, shuffle=True)\n",
        "valid_dataloader = torch.utils.data.DataLoader(valid_dataset, batch_size=batch_size, num_workers=0, shuffle=True)"
      ]
    },
    {
      "cell_type": "code",
      "execution_count": null,
      "metadata": {
        "id": "woHDPphObk21"
      },
      "outputs": [],
      "source": [
        "for i, batch in enumerate(train_dataloader):\n",
        "    break"
      ]
    },
    {
      "cell_type": "code",
      "execution_count": null,
      "metadata": {
        "id": "00eqSz3Bbkpm"
      },
      "outputs": [],
      "source": [
        "# Config Class\n",
        "# dict class를 json으로 바꿔서 confg.arg 와 같이 사용할 수 있게 만드는 class\n",
        "class Config(dict): \n",
        "    __getattr__ = dict.__getitem__\n",
        "    __setattr__ = dict.__setitem__\n",
        "\n",
        "    @classmethod\n",
        "    def load(cls, file):\n",
        "        with open(file, 'r') as f:\n",
        "            config = json.loads(f.read())\n",
        "            return Config(config)"
      ]
    },
    {
      "cell_type": "code",
      "source": [
        "class TransformerClassificationHead(nn.Module):\n",
        "\n",
        "    def __init__(self, config):\n",
        "        super().__init__()\n",
        "        self.dense = nn.Linear(config.d_model, config.d_model)\n",
        "        self.dropout = nn.Dropout(config.drop_out_raito)\n",
        "        self.gelu = nn.GELU()\n",
        "        self.out_proj = nn.Linear(config.d_model, config.num_labels)\n",
        "\n",
        "    def forward(self, features, **kwargs):\n",
        "        x = features[:, 0, :] # Use only CLS token\n",
        "        x = self.dropout(x)\n",
        "        x = self.dense(x)\n",
        "        x = self.gelu(x)  \n",
        "        x = self.out_proj(x)\n",
        "        return x"
      ],
      "metadata": {
        "id": "YPkF-maGTxk3"
      },
      "execution_count": null,
      "outputs": []
    },
    {
      "cell_type": "code",
      "source": [
        "class Transformer_Classifier(Transformer):\n",
        "    def __init__(self, config):\n",
        "        super(Transformer, self).__init__()\n",
        "        self.config = config\n",
        "        self.encoder = TransformerEncoder(config)\n",
        "        self.classifier = TransformerClassificationHead(config)\n",
        "\n",
        "        self.init_weights()\n",
        "\n",
        "    def forward(self, \n",
        "                enc_inputs,  \n",
        "                enc_self_attn_mask=None):\n",
        "        \n",
        "        if enc_self_attn_mask == None:\n",
        "            enc_self_attn_mask = get_attn_pad_mask(enc_inputs, self.config.pad_id, enc_inputs.size(1))\n",
        "\n",
        "        enc_outputs, enc_self_attn_probs = self.encoder(enc_inputs, enc_self_attn_mask)\n",
        "        \n",
        "        logits = self.classifier(enc_outputs)\n",
        "\n",
        "        return logits, enc_self_attn_probs"
      ],
      "metadata": {
        "id": "jdZig_CCSPi0"
      },
      "execution_count": null,
      "outputs": []
    },
    {
      "cell_type": "code",
      "execution_count": null,
      "metadata": {
        "id": "dWOa15pObksU"
      },
      "outputs": [],
      "source": [
        "config_dict = {\n",
        "    'vocab_size' : tokenizer.vocab_size,\n",
        "    'd_model' : 256,\n",
        "    'max_enc_len' : max_input_len,\n",
        "    'max_dec_len' : None,\n",
        "    'num_labels' : 2,\n",
        "    'pad_id' : tokenizer.pad_token_id,\n",
        "    'bos_id' : tokenizer.bos_token_id,\n",
        "    'eos_id' : tokenizer.eos_token_id,\n",
        "    'use_decoder' : False,\n",
        "    'init_std' : 2e-2,\n",
        "    'norm_eps' : 1e-12, \n",
        "    'drop_out_raito' : 0.1,\n",
        "    'num_enc_layers' : 3,\n",
        "    'num_dec_layers' : 3,\n",
        "    'num_att_heads' : 4,\n",
        "    'feed_forward_dim' : 1024,\n",
        "}\n",
        "\n",
        "config = Config(config_dict)"
      ]
    },
    {
      "cell_type": "code",
      "execution_count": null,
      "metadata": {
        "id": "HZbkyNDHup9r"
      },
      "outputs": [],
      "source": [
        "model = Transformer_Classifier(config)"
      ]
    },
    {
      "cell_type": "code",
      "source": [
        "enc_inputs = batch['enc_inputs']\n",
        "\n",
        "summary(model, input_data=[enc_inputs])"
      ],
      "metadata": {
        "colab": {
          "base_uri": "https://localhost:8080/"
        },
        "id": "a4Kua43sK3hp",
        "outputId": "32326a70-bfce-4769-99cb-e34f5730ff3c"
      },
      "execution_count": null,
      "outputs": [
        {
          "output_type": "execute_result",
          "data": {
            "text/plain": [
              "===================================================================================================================\n",
              "Layer (type:depth-idx)                                            Output Shape              Param #\n",
              "===================================================================================================================\n",
              "Transformer_Classifier                                            [47, 2]                   --\n",
              "├─TransformerEncoder: 1-1                                         [47, 100, 256]            --\n",
              "│    └─Embedding: 2-1                                             [47, 100, 256]            8,320,000\n",
              "│    └─ModuleList: 2-2                                            --                        --\n",
              "│    │    └─TransformerEncoderLayer: 3-1                          [47, 100, 256]            789,760\n",
              "│    │    └─TransformerEncoderLayer: 3-2                          [47, 100, 256]            789,760\n",
              "│    │    └─TransformerEncoderLayer: 3-3                          [47, 100, 256]            789,760\n",
              "├─TransformerClassificationHead: 1-2                              [47, 2]                   65,792\n",
              "│    └─Linear: 2-5                                                [47, 256]                 (recursive)\n",
              "│    └─Dropout: 2-4                                               [47, 256]                 --\n",
              "│    └─Linear: 2-5                                                [47, 256]                 (recursive)\n",
              "│    └─GELU: 2-6                                                  [47, 256]                 --\n",
              "│    └─Linear: 2-7                                                [47, 2]                   514\n",
              "===================================================================================================================\n",
              "Total params: 10,755,586\n",
              "Trainable params: 10,755,586\n",
              "Non-trainable params: 0\n",
              "Total mult-adds (M): 508.60\n",
              "===================================================================================================================\n",
              "Input size (MB): 0.04\n",
              "Forward/backward pass size (MB): 327.27\n",
              "Params size (MB): 42.76\n",
              "Estimated Total Size (MB): 370.07\n",
              "==================================================================================================================="
            ]
          },
          "metadata": {},
          "execution_count": 92
        }
      ]
    },
    {
      "cell_type": "code",
      "source": [
        "config_dict = {\n",
        "    'vocab_size' : tokenizer.vocab_size,\n",
        "    'd_model' : 512,\n",
        "    'max_enc_len' : max_input_len,\n",
        "    'max_dec_len' : None,\n",
        "    'num_labels' : 2,\n",
        "    'pad_id' : tokenizer.pad_token_id,\n",
        "    'bos_id' : tokenizer.bos_token_id,\n",
        "    'eos_id' : tokenizer.eos_token_id,\n",
        "    'use_decoder' : False,\n",
        "    'init_std' : 2e-2,\n",
        "    'norm_eps' : 1e-12, \n",
        "    'drop_out_raito' : 0.1,\n",
        "    'num_enc_layers' : 6,\n",
        "    'num_dec_layers' : 6,\n",
        "    'num_att_heads' : 4,\n",
        "    'feed_forward_dim' : 1024,\n",
        "}\n",
        "\n",
        "config = Config(config_dict)"
      ],
      "metadata": {
        "id": "_16zrZbdnjUR"
      },
      "execution_count": null,
      "outputs": []
    },
    {
      "cell_type": "code",
      "source": [
        "model = Transformer_Classifier(config)"
      ],
      "metadata": {
        "id": "17lzaRnynjW-"
      },
      "execution_count": null,
      "outputs": []
    },
    {
      "cell_type": "code",
      "source": [
        "enc_inputs = batch['enc_inputs']\n",
        "\n",
        "summary(model, input_data=[enc_inputs])"
      ],
      "metadata": {
        "colab": {
          "base_uri": "https://localhost:8080/"
        },
        "id": "CqZq8ocxnjZm",
        "outputId": "5953d39b-4ebf-455d-d58c-c79feca73143"
      },
      "execution_count": null,
      "outputs": [
        {
          "output_type": "execute_result",
          "data": {
            "text/plain": [
              "===================================================================================================================\n",
              "Layer (type:depth-idx)                                            Output Shape              Param #\n",
              "===================================================================================================================\n",
              "Transformer_Classifier                                            [64, 2]                   --\n",
              "├─TransformerEncoder: 1-1                                         [64, 100, 512]            --\n",
              "│    └─Embedding: 2-1                                             [64, 100, 512]            16,640,000\n",
              "│    └─ModuleList: 2-2                                            --                        --\n",
              "│    │    └─TransformerEncoderLayer: 3-1                          [64, 100, 512]            2,102,784\n",
              "│    │    └─TransformerEncoderLayer: 3-2                          [64, 100, 512]            2,102,784\n",
              "│    │    └─TransformerEncoderLayer: 3-3                          [64, 100, 512]            2,102,784\n",
              "│    │    └─TransformerEncoderLayer: 3-4                          [64, 100, 512]            2,102,784\n",
              "│    │    └─TransformerEncoderLayer: 3-5                          [64, 100, 512]            2,102,784\n",
              "│    │    └─TransformerEncoderLayer: 3-6                          [64, 100, 512]            2,102,784\n",
              "├─TransformerClassificationHead: 1-2                              [64, 2]                   262,656\n",
              "│    └─Linear: 2-5                                                [64, 512]                 (recursive)\n",
              "│    └─Dropout: 2-4                                               [64, 512]                 --\n",
              "│    └─Linear: 2-5                                                [64, 512]                 (recursive)\n",
              "│    └─GELU: 2-6                                                  [64, 512]                 --\n",
              "│    └─Linear: 2-7                                                [64, 2]                   1,026\n",
              "===================================================================================================================\n",
              "Total params: 29,520,386\n",
              "Trainable params: 29,520,386\n",
              "Non-trainable params: 0\n",
              "Total mult-adds (G): 1.91\n",
              "===================================================================================================================\n",
              "Input size (MB): 0.05\n",
              "Forward/backward pass size (MB): 1441.79\n",
              "Params size (MB): 117.03\n",
              "Estimated Total Size (MB): 1558.88\n",
              "==================================================================================================================="
            ]
          },
          "metadata": {},
          "execution_count": 144
        }
      ]
    },
    {
      "cell_type": "code",
      "execution_count": null,
      "metadata": {
        "colab": {
          "base_uri": "https://localhost:8080/"
        },
        "id": "6RoT2h-IfmG-",
        "outputId": "f32193c3-e92f-402a-9fdf-97501bd52afc"
      },
      "outputs": [
        {
          "output_type": "execute_result",
          "data": {
            "text/plain": [
              "Transformer_Classifier(\n",
              "  (encoder): TransformerEncoder(\n",
              "    (word_embedding): Embedding(32500, 512, padding_idx=0)\n",
              "    (layers): ModuleList(\n",
              "      (0): TransformerEncoderLayer(\n",
              "        (self_attention): AddNorm(\n",
              "          (layer): MultiHeadAttention(\n",
              "            (query_proj): Linear(in_features=512, out_features=512, bias=True)\n",
              "            (key_proj): Linear(in_features=512, out_features=512, bias=True)\n",
              "            (value_proj): Linear(in_features=512, out_features=512, bias=True)\n",
              "            (scaled_dot_attn): ScaledDotProductAttention()\n",
              "            (linear): Linear(in_features=512, out_features=512, bias=True)\n",
              "          )\n",
              "          (layer_norm): LayerNorm((512,), eps=1e-12, elementwise_affine=True)\n",
              "        )\n",
              "        (feed_forward): AddNorm(\n",
              "          (layer): PoswiseFeedForward(\n",
              "            (feed_forward): Sequential(\n",
              "              (0): Linear(in_features=512, out_features=1024, bias=True)\n",
              "              (1): Dropout(p=0.1, inplace=False)\n",
              "              (2): ReLU()\n",
              "              (3): Linear(in_features=1024, out_features=512, bias=True)\n",
              "              (4): Dropout(p=0.1, inplace=False)\n",
              "            )\n",
              "          )\n",
              "          (layer_norm): LayerNorm((512,), eps=1e-12, elementwise_affine=True)\n",
              "        )\n",
              "      )\n",
              "      (1): TransformerEncoderLayer(\n",
              "        (self_attention): AddNorm(\n",
              "          (layer): MultiHeadAttention(\n",
              "            (query_proj): Linear(in_features=512, out_features=512, bias=True)\n",
              "            (key_proj): Linear(in_features=512, out_features=512, bias=True)\n",
              "            (value_proj): Linear(in_features=512, out_features=512, bias=True)\n",
              "            (scaled_dot_attn): ScaledDotProductAttention()\n",
              "            (linear): Linear(in_features=512, out_features=512, bias=True)\n",
              "          )\n",
              "          (layer_norm): LayerNorm((512,), eps=1e-12, elementwise_affine=True)\n",
              "        )\n",
              "        (feed_forward): AddNorm(\n",
              "          (layer): PoswiseFeedForward(\n",
              "            (feed_forward): Sequential(\n",
              "              (0): Linear(in_features=512, out_features=1024, bias=True)\n",
              "              (1): Dropout(p=0.1, inplace=False)\n",
              "              (2): ReLU()\n",
              "              (3): Linear(in_features=1024, out_features=512, bias=True)\n",
              "              (4): Dropout(p=0.1, inplace=False)\n",
              "            )\n",
              "          )\n",
              "          (layer_norm): LayerNorm((512,), eps=1e-12, elementwise_affine=True)\n",
              "        )\n",
              "      )\n",
              "      (2): TransformerEncoderLayer(\n",
              "        (self_attention): AddNorm(\n",
              "          (layer): MultiHeadAttention(\n",
              "            (query_proj): Linear(in_features=512, out_features=512, bias=True)\n",
              "            (key_proj): Linear(in_features=512, out_features=512, bias=True)\n",
              "            (value_proj): Linear(in_features=512, out_features=512, bias=True)\n",
              "            (scaled_dot_attn): ScaledDotProductAttention()\n",
              "            (linear): Linear(in_features=512, out_features=512, bias=True)\n",
              "          )\n",
              "          (layer_norm): LayerNorm((512,), eps=1e-12, elementwise_affine=True)\n",
              "        )\n",
              "        (feed_forward): AddNorm(\n",
              "          (layer): PoswiseFeedForward(\n",
              "            (feed_forward): Sequential(\n",
              "              (0): Linear(in_features=512, out_features=1024, bias=True)\n",
              "              (1): Dropout(p=0.1, inplace=False)\n",
              "              (2): ReLU()\n",
              "              (3): Linear(in_features=1024, out_features=512, bias=True)\n",
              "              (4): Dropout(p=0.1, inplace=False)\n",
              "            )\n",
              "          )\n",
              "          (layer_norm): LayerNorm((512,), eps=1e-12, elementwise_affine=True)\n",
              "        )\n",
              "      )\n",
              "      (3): TransformerEncoderLayer(\n",
              "        (self_attention): AddNorm(\n",
              "          (layer): MultiHeadAttention(\n",
              "            (query_proj): Linear(in_features=512, out_features=512, bias=True)\n",
              "            (key_proj): Linear(in_features=512, out_features=512, bias=True)\n",
              "            (value_proj): Linear(in_features=512, out_features=512, bias=True)\n",
              "            (scaled_dot_attn): ScaledDotProductAttention()\n",
              "            (linear): Linear(in_features=512, out_features=512, bias=True)\n",
              "          )\n",
              "          (layer_norm): LayerNorm((512,), eps=1e-12, elementwise_affine=True)\n",
              "        )\n",
              "        (feed_forward): AddNorm(\n",
              "          (layer): PoswiseFeedForward(\n",
              "            (feed_forward): Sequential(\n",
              "              (0): Linear(in_features=512, out_features=1024, bias=True)\n",
              "              (1): Dropout(p=0.1, inplace=False)\n",
              "              (2): ReLU()\n",
              "              (3): Linear(in_features=1024, out_features=512, bias=True)\n",
              "              (4): Dropout(p=0.1, inplace=False)\n",
              "            )\n",
              "          )\n",
              "          (layer_norm): LayerNorm((512,), eps=1e-12, elementwise_affine=True)\n",
              "        )\n",
              "      )\n",
              "      (4): TransformerEncoderLayer(\n",
              "        (self_attention): AddNorm(\n",
              "          (layer): MultiHeadAttention(\n",
              "            (query_proj): Linear(in_features=512, out_features=512, bias=True)\n",
              "            (key_proj): Linear(in_features=512, out_features=512, bias=True)\n",
              "            (value_proj): Linear(in_features=512, out_features=512, bias=True)\n",
              "            (scaled_dot_attn): ScaledDotProductAttention()\n",
              "            (linear): Linear(in_features=512, out_features=512, bias=True)\n",
              "          )\n",
              "          (layer_norm): LayerNorm((512,), eps=1e-12, elementwise_affine=True)\n",
              "        )\n",
              "        (feed_forward): AddNorm(\n",
              "          (layer): PoswiseFeedForward(\n",
              "            (feed_forward): Sequential(\n",
              "              (0): Linear(in_features=512, out_features=1024, bias=True)\n",
              "              (1): Dropout(p=0.1, inplace=False)\n",
              "              (2): ReLU()\n",
              "              (3): Linear(in_features=1024, out_features=512, bias=True)\n",
              "              (4): Dropout(p=0.1, inplace=False)\n",
              "            )\n",
              "          )\n",
              "          (layer_norm): LayerNorm((512,), eps=1e-12, elementwise_affine=True)\n",
              "        )\n",
              "      )\n",
              "      (5): TransformerEncoderLayer(\n",
              "        (self_attention): AddNorm(\n",
              "          (layer): MultiHeadAttention(\n",
              "            (query_proj): Linear(in_features=512, out_features=512, bias=True)\n",
              "            (key_proj): Linear(in_features=512, out_features=512, bias=True)\n",
              "            (value_proj): Linear(in_features=512, out_features=512, bias=True)\n",
              "            (scaled_dot_attn): ScaledDotProductAttention()\n",
              "            (linear): Linear(in_features=512, out_features=512, bias=True)\n",
              "          )\n",
              "          (layer_norm): LayerNorm((512,), eps=1e-12, elementwise_affine=True)\n",
              "        )\n",
              "        (feed_forward): AddNorm(\n",
              "          (layer): PoswiseFeedForward(\n",
              "            (feed_forward): Sequential(\n",
              "              (0): Linear(in_features=512, out_features=1024, bias=True)\n",
              "              (1): Dropout(p=0.1, inplace=False)\n",
              "              (2): ReLU()\n",
              "              (3): Linear(in_features=1024, out_features=512, bias=True)\n",
              "              (4): Dropout(p=0.1, inplace=False)\n",
              "            )\n",
              "          )\n",
              "          (layer_norm): LayerNorm((512,), eps=1e-12, elementwise_affine=True)\n",
              "        )\n",
              "      )\n",
              "    )\n",
              "  )\n",
              "  (classifier): TransformerClassificationHead(\n",
              "    (dense): Linear(in_features=512, out_features=512, bias=True)\n",
              "    (dropout): Dropout(p=0.1, inplace=False)\n",
              "    (gelu): GELU(approximate=none)\n",
              "    (out_proj): Linear(in_features=512, out_features=2, bias=True)\n",
              "  )\n",
              ")"
            ]
          },
          "metadata": {},
          "execution_count": 145
        }
      ],
      "source": [
        "model.to(device)"
      ]
    },
    {
      "cell_type": "code",
      "execution_count": null,
      "metadata": {
        "id": "XT3sizK_lDR0"
      },
      "outputs": [],
      "source": [
        "optimizer = torch.optim.AdamW(model.parameters(), lr=learning_rate, weight_decay=weight_decay)"
      ]
    },
    {
      "cell_type": "code",
      "execution_count": null,
      "metadata": {
        "id": "O_QU0EYnOoz9"
      },
      "outputs": [],
      "source": [
        "def cal_acc(y_pred, y_true):\n",
        "    \"\"\"\n",
        "    acc 계산 함수\n",
        "    :param y_true: 정답 (bs, n_seq)\n",
        "    :param y_pred: 예측 값 (bs, n_seq, n_vocab)\n",
        "    \"\"\"\n",
        "    # 정답 여부 확인\n",
        "    y_pred = torch.argmax(y_pred, dim=-1).int()\n",
        "    matches = torch.eq(y_true, y_pred).int()\n",
        "    \n",
        "    # 정확도 계산\n",
        "    accuracy = torch.sum(matches) / matches.shape[0]\n",
        "    return accuracy"
      ]
    },
    {
      "cell_type": "code",
      "execution_count": null,
      "metadata": {
        "id": "LvJAlFrmlDU3"
      },
      "outputs": [],
      "source": [
        "def train_step(batch, epoch, training):\n",
        "    batch = {key: value.to(device) for key, value in batch.items()}\n",
        "\n",
        "    if training is True:\n",
        "        model.train()\n",
        "        optimizer.zero_grad()\n",
        "\n",
        "        with torch.cuda.amp.autocast():\n",
        "\n",
        "            logits = model(enc_inputs=batch['enc_inputs'])[0]\n",
        "            \n",
        "            # BCE = nn.BCEWithLogitsLoss()\n",
        "            # loss = BCE(logits, batch['labels'])\n",
        "            CCE = nn.CrossEntropyLoss()\n",
        "            loss = CCE(logits.view(-1, config.num_labels), batch['labels'].view(-1))\n",
        "            acc = cal_acc(logits, batch['labels'])\n",
        "\n",
        "        loss.backward()\n",
        "        optimizer.step()\n",
        "            \n",
        "        lr = optimizer.param_groups[0][\"lr\"]\n",
        "\n",
        "        return loss, acc, round(lr, 10)\n",
        "\n",
        "    else:\n",
        "        model.eval()\n",
        "        with torch.no_grad():\n",
        "            logits = model(enc_inputs=batch['enc_inputs'])[0]\n",
        "\n",
        "            # BCE = nn.BCEWithLogitsLoss()\n",
        "            # loss = BCE(logits, batch['labels'])\n",
        "            CCE = nn.CrossEntropyLoss()\n",
        "            loss = CCE(logits.view(-1, config.num_labels), batch['labels'].view(-1))\n",
        "            acc = cal_acc(logits, batch['labels'])\n",
        "\n",
        "        return loss, acc"
      ]
    },
    {
      "cell_type": "code",
      "source": [
        "# class color:\n",
        "PURPLE = '\\033[95m'\n",
        "CYAN = '\\033[96m'\n",
        "DARKCYAN = '\\033[36m'\n",
        "BLUE = '\\033[94m'\n",
        "GREEN = '\\033[92m'\n",
        "YELLOW = '\\033[93m'\n",
        "RED = '\\033[91m'\n",
        "BOLD = '\\033[1m'\n",
        "UNDERLINE = '\\033[4m'\n",
        "END = '\\033[0m'"
      ],
      "metadata": {
        "id": "LBhQX6ttD1H5"
      },
      "execution_count": null,
      "outputs": []
    },
    {
      "cell_type": "code",
      "execution_count": null,
      "metadata": {
        "colab": {
          "base_uri": "https://localhost:8080/"
        },
        "id": "Kv-2vjF24nTY",
        "outputId": "071b088f-9380-4a51-ed6a-962185bbf908"
      },
      "outputs": [
        {
          "output_type": "stream",
          "name": "stderr",
          "text": [
            "100%|██████████| 1875/1875 [04:21<00:00,  7.17it/s,      Epoch=1,      \u001b[92mLoss=0.3947\u001b[0m,      \u001b[93macc=0.8180\u001b[0m,    LR=0.0001]\n",
            "100%|██████████| 469/469 [00:25<00:00, 18.10it/s,        Epoch=1,  \u001b[92mVal Loss=0.3512\u001b[0m,  \u001b[93mVal acc=0.8475\u001b[0m]\n"
          ]
        },
        {
          "output_type": "stream",
          "name": "stdout",
          "text": [
            "\u001b[93mBest_Val_acc is updated from     0 to 0.847 on epoch 1\u001b[0m\n"
          ]
        },
        {
          "output_type": "stream",
          "name": "stderr",
          "text": [
            "100%|██████████| 1875/1875 [04:21<00:00,  7.18it/s,      Epoch=2,      \u001b[92mLoss=0.3036\u001b[0m,      \u001b[93macc=0.8732\u001b[0m,    LR=0.0001]\n",
            "100%|██████████| 469/469 [00:25<00:00, 18.15it/s,        Epoch=2,  \u001b[92mVal Loss=0.3446\u001b[0m,  \u001b[93mVal acc=0.8523\u001b[0m]\n"
          ]
        },
        {
          "output_type": "stream",
          "name": "stdout",
          "text": [
            "\u001b[93mBest_Val_acc is updated from 0.847 to 0.852 on epoch 2\u001b[0m\n"
          ]
        },
        {
          "output_type": "stream",
          "name": "stderr",
          "text": [
            "100%|██████████| 1875/1875 [04:21<00:00,  7.17it/s,      Epoch=3,      \u001b[92mLoss=0.2530\u001b[0m,      \u001b[93macc=0.8973\u001b[0m,    LR=0.0001]\n",
            "100%|██████████| 469/469 [00:26<00:00, 18.02it/s,        Epoch=3,  \u001b[92mVal Loss=0.3546\u001b[0m,  \u001b[93mVal acc=0.8468\u001b[0m]\n",
            "100%|██████████| 1875/1875 [04:22<00:00,  7.14it/s,      Epoch=4,      \u001b[92mLoss=0.2085\u001b[0m,      \u001b[93macc=0.9181\u001b[0m,    LR=0.0001]\n",
            "100%|██████████| 469/469 [00:26<00:00, 17.87it/s,        Epoch=4,  \u001b[92mVal Loss=0.3840\u001b[0m,  \u001b[93mVal acc=0.8431\u001b[0m]\n",
            "100%|██████████| 1875/1875 [04:22<00:00,  7.13it/s,      Epoch=5,      \u001b[92mLoss=0.1650\u001b[0m,      \u001b[93macc=0.9371\u001b[0m,    LR=0.0001]\n",
            "100%|██████████| 469/469 [00:26<00:00, 17.92it/s,        Epoch=5,  \u001b[92mVal Loss=0.4549\u001b[0m,  \u001b[93mVal acc=0.8419\u001b[0m]\n",
            "100%|██████████| 1875/1875 [04:23<00:00,  7.11it/s,      Epoch=6,      \u001b[92mLoss=0.1280\u001b[0m,      \u001b[93macc=0.9531\u001b[0m,    LR=0.0001]\n",
            "100%|██████████| 469/469 [00:26<00:00, 17.82it/s,        Epoch=6,  \u001b[92mVal Loss=0.4719\u001b[0m,  \u001b[93mVal acc=0.8379\u001b[0m]\n",
            "100%|██████████| 1875/1875 [04:23<00:00,  7.12it/s,      Epoch=7,      \u001b[92mLoss=0.1000\u001b[0m,      \u001b[93macc=0.9646\u001b[0m,    LR=0.0001]\n",
            "100%|██████████| 469/469 [00:26<00:00, 17.93it/s,        Epoch=7,  \u001b[92mVal Loss=0.5346\u001b[0m,  \u001b[93mVal acc=0.8356\u001b[0m]\n",
            "100%|██████████| 1875/1875 [04:23<00:00,  7.11it/s,      Epoch=8,      \u001b[92mLoss=0.0799\u001b[0m,      \u001b[93macc=0.9721\u001b[0m,    LR=0.0001]\n",
            "100%|██████████| 469/469 [00:26<00:00, 17.89it/s,        Epoch=8,  \u001b[92mVal Loss=0.6291\u001b[0m,  \u001b[93mVal acc=0.8353\u001b[0m]\n",
            "100%|██████████| 1875/1875 [04:23<00:00,  7.12it/s,      Epoch=9,      \u001b[92mLoss=0.0655\u001b[0m,      \u001b[93macc=0.9777\u001b[0m,    LR=0.0001]\n",
            "100%|██████████| 469/469 [00:26<00:00, 17.91it/s,        Epoch=9,  \u001b[92mVal Loss=0.7160\u001b[0m,  \u001b[93mVal acc=0.8361\u001b[0m]\n",
            "100%|██████████| 1875/1875 [04:23<00:00,  7.12it/s,      Epoch=10,      \u001b[92mLoss=0.0559\u001b[0m,      \u001b[93macc=0.9810\u001b[0m,    LR=0.0001]\n",
            "100%|██████████| 469/469 [00:26<00:00, 17.84it/s,        Epoch=10,  \u001b[92mVal Loss=0.7734\u001b[0m,  \u001b[93mVal acc=0.8387\u001b[0m]\n",
            "100%|██████████| 1875/1875 [04:22<00:00,  7.13it/s,      Epoch=11,      \u001b[92mLoss=0.0505\u001b[0m,      \u001b[93macc=0.9831\u001b[0m,    LR=0.0001]\n",
            "100%|██████████| 469/469 [00:26<00:00, 17.92it/s,        Epoch=11,  \u001b[92mVal Loss=0.8348\u001b[0m,  \u001b[93mVal acc=0.8361\u001b[0m]\n",
            "100%|██████████| 1875/1875 [04:23<00:00,  7.12it/s,      Epoch=12,      \u001b[92mLoss=0.0458\u001b[0m,      \u001b[93macc=0.9846\u001b[0m,    LR=0.0001]\n",
            "100%|██████████| 469/469 [00:26<00:00, 17.91it/s,        Epoch=12,  \u001b[92mVal Loss=0.7556\u001b[0m,  \u001b[93mVal acc=0.8340\u001b[0m]"
          ]
        },
        {
          "output_type": "stream",
          "name": "stdout",
          "text": [
            "CPU times: user 58min 2s, sys: 54.4 s, total: 58min 56s\n",
            "Wall time: 57min 48s\n"
          ]
        },
        {
          "output_type": "stream",
          "name": "stderr",
          "text": [
            "\n"
          ]
        }
      ],
      "source": [
        "%%time\n",
        "# train\n",
        "\n",
        "loss_plot, val_loss_plot = [], []\n",
        "lrs = []\n",
        "\n",
        "check_list = []\n",
        "\n",
        "best_val_acc = 0\n",
        "best_val_loss = float('inf')\n",
        "\n",
        "best_epoch = 0\n",
        "patience = 0\n",
        "\n",
        "for epoch in range(epochs):\n",
        "    gc.collect()\n",
        "    total_loss, total_val_loss = 0, 0\n",
        "    total_acc, total_val_acc = 0, 0\n",
        "    \n",
        "    tqdm_dataset = tqdm(enumerate(train_dataloader), total=train_dataloader.__len__())\n",
        "    training = True\n",
        "    for batch_idx, batch in tqdm_dataset:\n",
        "        batch_loss, batch_acc, lr = train_step(batch, epoch, training)\n",
        "        total_loss += batch_loss\n",
        "        total_acc += batch_acc\n",
        "        \n",
        "        tqdm_dataset.set_postfix({\n",
        "            '%+10s' % 'Epoch': epoch + 1,\n",
        "            '%10s' % GREEN + 'Loss' : '{:.4f}'.format(total_loss/(batch_idx+1)) + END,\n",
        "            '%10s' % YELLOW + 'acc' : '{:.4f}'.format(total_acc/(batch_idx+1)) + END,\n",
        "            '%5s' % 'LR' : lr,\n",
        "        })\n",
        "            \n",
        "    loss_plot.append(total_loss/(batch_idx+1))\n",
        "    \n",
        "    tqdm_dataset = tqdm(enumerate(valid_dataloader), total=valid_dataloader.__len__())\n",
        "    training = False\n",
        "    for batch_idx, batch in tqdm_dataset:\n",
        "        batch_loss, batch_acc = train_step(batch, epoch, training)\n",
        "        total_val_loss += batch_loss\n",
        "        total_val_acc += batch_acc\n",
        "\n",
        "        tqdm_dataset.set_postfix({\n",
        "            '%+12s' % 'Epoch': epoch + 1,\n",
        "            '%6s' % GREEN + 'Val Loss' : '{:.4f}'.format(total_val_loss/(batch_idx+1)) + END,\n",
        "            '%6s' % YELLOW + 'Val acc' : '{:.4f}'.format(total_val_acc/(batch_idx+1)) + END,\n",
        "        })\n",
        "    val_loss_plot.append(total_val_loss/(batch_idx+1)) \n",
        "\n",
        "    cur_val_loss = round(float((total_val_loss/(batch_idx+1)).detach().cpu()), 3)\n",
        "    cur_val_acc = round(float((total_val_acc/(batch_idx+1))), 3)\n",
        "\n",
        "    # if cur_val_loss < best_val_loss:\n",
        "    if cur_val_acc > best_val_acc:\n",
        "        print(YELLOW + 'Best_Val_acc is updated from {:>5} to {:>5} on epoch {}'.format(best_val_acc, cur_val_acc, epoch+1) + END)\n",
        "        best_val_acc = cur_val_acc\n",
        "        best_epoch = epoch+1\n",
        "        torch.save(model.state_dict(), './'+save_name+'.ckpt')\n",
        "        if best_epoch > 15:\n",
        "            torch.save(model.state_dict(), './'+save_name+'_loss_{}_val_acc_{}.ckpt'.format(cur_val_loss, cur_val_acc))\n",
        "            patience = 0\n",
        "    else:\n",
        "        patience += 1\n",
        "    \n",
        "    lrs.append(lr)\n",
        "    \n",
        "    if patience == early_stopping_patience:\n",
        "        break"
      ]
    },
    {
      "cell_type": "code",
      "execution_count": null,
      "metadata": {
        "id": "9ZwKB-qmLNZj",
        "colab": {
          "base_uri": "https://localhost:8080/"
        },
        "outputId": "f0e24532-248b-4da7-df6d-71dde985cfa2"
      },
      "outputs": [
        {
          "output_type": "execute_result",
          "data": {
            "text/plain": [
              "<All keys matched successfully>"
            ]
          },
          "metadata": {},
          "execution_count": 151
        }
      ],
      "source": [
        "model.load_state_dict(torch.load('/content/Transformer/PyTorch/tft_model.ckpt'))"
      ]
    },
    {
      "cell_type": "code",
      "source": [],
      "metadata": {
        "id": "Cw-4kAKIxv7e"
      },
      "execution_count": null,
      "outputs": []
    },
    {
      "cell_type": "code",
      "execution_count": null,
      "metadata": {
        "id": "lCOajkIDgCJs"
      },
      "outputs": [],
      "source": [
        "def inference(text, max_input_len):\n",
        "    labels = ['부정', '긍정']\n",
        "\n",
        "    inputs = torch.tensor(tokenizer.encode(str(text),\n",
        "                                           max_length=max_input_len, \n",
        "                                           padding='max_length', \n",
        "                                           truncation='only_first'), \n",
        "                              dtype=int).unsqueeze(0).to(device)\n",
        "\n",
        "    logits = model(inputs)[0].detach().to('cpu')\n",
        "    \n",
        "    outputs = int(torch.argmax(logits, dim=-1)[0])\n",
        "    score = float(torch.max(nn.Softmax(dim=-1)(logits)))\n",
        "\n",
        "    \n",
        "    return labels[outputs], score"
      ]
    },
    {
      "cell_type": "code",
      "execution_count": null,
      "metadata": {
        "id": "DmJUg1slNpFO",
        "colab": {
          "base_uri": "https://localhost:8080/"
        },
        "outputId": "766444a0-860f-419f-8f92-498f3d0416d1"
      },
      "outputs": [
        {
          "output_type": "execute_result",
          "data": {
            "text/plain": [
              "('부정', 0.9545810222625732)"
            ]
          },
          "metadata": {},
          "execution_count": 235
        }
      ],
      "source": [
        "text = '뭐 이따구로 영화를 만들어놨어 ㅋㅋ'\n",
        "inference(text, config.max_enc_len)"
      ]
    },
    {
      "cell_type": "code",
      "source": [
        "text = '명작이라는 평을 이해할 수가 없다. 이딴 게?'\n",
        "inference(text, config.max_enc_len)"
      ],
      "metadata": {
        "colab": {
          "base_uri": "https://localhost:8080/"
        },
        "id": "7HBQgotp6NNK",
        "outputId": "2fa3dcda-7203-4985-dc3a-9c38464d88c3"
      },
      "execution_count": null,
      "outputs": [
        {
          "output_type": "execute_result",
          "data": {
            "text/plain": [
              "('부정', 0.5391176342964172)"
            ]
          },
          "metadata": {},
          "execution_count": 231
        }
      ]
    },
    {
      "cell_type": "code",
      "source": [
        "text = '두 번 봐도 질리지 않는 영화'\n",
        "inference(text, config.max_enc_len)"
      ],
      "metadata": {
        "colab": {
          "base_uri": "https://localhost:8080/"
        },
        "id": "d6aHMWz56nHZ",
        "outputId": "818d7e8b-4019-4d11-8b39-e6195150d596"
      },
      "execution_count": null,
      "outputs": [
        {
          "output_type": "execute_result",
          "data": {
            "text/plain": [
              "('긍정', 0.9566847681999207)"
            ]
          },
          "metadata": {},
          "execution_count": 233
        }
      ]
    },
    {
      "cell_type": "code",
      "source": [
        "text = '어이가 없네 ㅋㅋㅋㅋ'\n",
        "inference(text, config.max_enc_len)"
      ],
      "metadata": {
        "colab": {
          "base_uri": "https://localhost:8080/"
        },
        "id": "U0CAVsVL7Ltj",
        "outputId": "8d1aec2c-572f-4af3-aa11-1d9ce1f4b842"
      },
      "execution_count": null,
      "outputs": [
        {
          "output_type": "execute_result",
          "data": {
            "text/plain": [
              "('부정', 0.9899888038635254)"
            ]
          },
          "metadata": {},
          "execution_count": 234
        }
      ]
    }
  ],
  "metadata": {
    "accelerator": "GPU",
    "colab": {
      "collapsed_sections": [],
      "machine_shape": "hm",
      "provenance": []
    },
    "gpuClass": "standard",
    "kernelspec": {
      "display_name": "Python 3",
      "name": "python3"
    },
    "language_info": {
      "name": "python"
    },
    "widgets": {
      "application/vnd.jupyter.widget-state+json": {
        "9e487314fb944c93865932fcdd8b03bf": {
          "model_module": "@jupyter-widgets/controls",
          "model_name": "HBoxModel",
          "model_module_version": "1.5.0",
          "state": {
            "_dom_classes": [],
            "_model_module": "@jupyter-widgets/controls",
            "_model_module_version": "1.5.0",
            "_model_name": "HBoxModel",
            "_view_count": null,
            "_view_module": "@jupyter-widgets/controls",
            "_view_module_version": "1.5.0",
            "_view_name": "HBoxView",
            "box_style": "",
            "children": [
              "IPY_MODEL_543dbf91ccbf4059b7fae9ba4590ec2d",
              "IPY_MODEL_ee9b5cea6e9a4322af16acce42609ec5",
              "IPY_MODEL_1cbfd1265bdc4cdcab9fadbc451bc246"
            ],
            "layout": "IPY_MODEL_0ec5ff99530b48e1bc5da25c9486a0ec"
          }
        },
        "543dbf91ccbf4059b7fae9ba4590ec2d": {
          "model_module": "@jupyter-widgets/controls",
          "model_name": "HTMLModel",
          "model_module_version": "1.5.0",
          "state": {
            "_dom_classes": [],
            "_model_module": "@jupyter-widgets/controls",
            "_model_module_version": "1.5.0",
            "_model_name": "HTMLModel",
            "_view_count": null,
            "_view_module": "@jupyter-widgets/controls",
            "_view_module_version": "1.5.0",
            "_view_name": "HTMLView",
            "description": "",
            "description_tooltip": null,
            "layout": "IPY_MODEL_24bc8a054a5245fe90cdf6cc4554ad8f",
            "placeholder": "​",
            "style": "IPY_MODEL_f638b0158c204a83a70456dab94890e5",
            "value": "Downloading: 100%"
          }
        },
        "ee9b5cea6e9a4322af16acce42609ec5": {
          "model_module": "@jupyter-widgets/controls",
          "model_name": "FloatProgressModel",
          "model_module_version": "1.5.0",
          "state": {
            "_dom_classes": [],
            "_model_module": "@jupyter-widgets/controls",
            "_model_module_version": "1.5.0",
            "_model_name": "FloatProgressModel",
            "_view_count": null,
            "_view_module": "@jupyter-widgets/controls",
            "_view_module_version": "1.5.0",
            "_view_name": "ProgressView",
            "bar_style": "success",
            "description": "",
            "description_tooltip": null,
            "layout": "IPY_MODEL_94b8c003a6804497bd0d5c4c4df3e23e",
            "max": 870,
            "min": 0,
            "orientation": "horizontal",
            "style": "IPY_MODEL_bbf3d5b44f734bf98a13d2af07282989",
            "value": 870
          }
        },
        "1cbfd1265bdc4cdcab9fadbc451bc246": {
          "model_module": "@jupyter-widgets/controls",
          "model_name": "HTMLModel",
          "model_module_version": "1.5.0",
          "state": {
            "_dom_classes": [],
            "_model_module": "@jupyter-widgets/controls",
            "_model_module_version": "1.5.0",
            "_model_name": "HTMLModel",
            "_view_count": null,
            "_view_module": "@jupyter-widgets/controls",
            "_view_module_version": "1.5.0",
            "_view_name": "HTMLView",
            "description": "",
            "description_tooltip": null,
            "layout": "IPY_MODEL_72d9a509d7f348fc9a3c716b77d7e565",
            "placeholder": "​",
            "style": "IPY_MODEL_55967854a0cd418f9de6222612485e04",
            "value": " 870/870 [00:00&lt;00:00, 13.5kB/s]"
          }
        },
        "0ec5ff99530b48e1bc5da25c9486a0ec": {
          "model_module": "@jupyter-widgets/base",
          "model_name": "LayoutModel",
          "model_module_version": "1.2.0",
          "state": {
            "_model_module": "@jupyter-widgets/base",
            "_model_module_version": "1.2.0",
            "_model_name": "LayoutModel",
            "_view_count": null,
            "_view_module": "@jupyter-widgets/base",
            "_view_module_version": "1.2.0",
            "_view_name": "LayoutView",
            "align_content": null,
            "align_items": null,
            "align_self": null,
            "border": null,
            "bottom": null,
            "display": null,
            "flex": null,
            "flex_flow": null,
            "grid_area": null,
            "grid_auto_columns": null,
            "grid_auto_flow": null,
            "grid_auto_rows": null,
            "grid_column": null,
            "grid_gap": null,
            "grid_row": null,
            "grid_template_areas": null,
            "grid_template_columns": null,
            "grid_template_rows": null,
            "height": null,
            "justify_content": null,
            "justify_items": null,
            "left": null,
            "margin": null,
            "max_height": null,
            "max_width": null,
            "min_height": null,
            "min_width": null,
            "object_fit": null,
            "object_position": null,
            "order": null,
            "overflow": null,
            "overflow_x": null,
            "overflow_y": null,
            "padding": null,
            "right": null,
            "top": null,
            "visibility": null,
            "width": null
          }
        },
        "24bc8a054a5245fe90cdf6cc4554ad8f": {
          "model_module": "@jupyter-widgets/base",
          "model_name": "LayoutModel",
          "model_module_version": "1.2.0",
          "state": {
            "_model_module": "@jupyter-widgets/base",
            "_model_module_version": "1.2.0",
            "_model_name": "LayoutModel",
            "_view_count": null,
            "_view_module": "@jupyter-widgets/base",
            "_view_module_version": "1.2.0",
            "_view_name": "LayoutView",
            "align_content": null,
            "align_items": null,
            "align_self": null,
            "border": null,
            "bottom": null,
            "display": null,
            "flex": null,
            "flex_flow": null,
            "grid_area": null,
            "grid_auto_columns": null,
            "grid_auto_flow": null,
            "grid_auto_rows": null,
            "grid_column": null,
            "grid_gap": null,
            "grid_row": null,
            "grid_template_areas": null,
            "grid_template_columns": null,
            "grid_template_rows": null,
            "height": null,
            "justify_content": null,
            "justify_items": null,
            "left": null,
            "margin": null,
            "max_height": null,
            "max_width": null,
            "min_height": null,
            "min_width": null,
            "object_fit": null,
            "object_position": null,
            "order": null,
            "overflow": null,
            "overflow_x": null,
            "overflow_y": null,
            "padding": null,
            "right": null,
            "top": null,
            "visibility": null,
            "width": null
          }
        },
        "f638b0158c204a83a70456dab94890e5": {
          "model_module": "@jupyter-widgets/controls",
          "model_name": "DescriptionStyleModel",
          "model_module_version": "1.5.0",
          "state": {
            "_model_module": "@jupyter-widgets/controls",
            "_model_module_version": "1.5.0",
            "_model_name": "DescriptionStyleModel",
            "_view_count": null,
            "_view_module": "@jupyter-widgets/base",
            "_view_module_version": "1.2.0",
            "_view_name": "StyleView",
            "description_width": ""
          }
        },
        "94b8c003a6804497bd0d5c4c4df3e23e": {
          "model_module": "@jupyter-widgets/base",
          "model_name": "LayoutModel",
          "model_module_version": "1.2.0",
          "state": {
            "_model_module": "@jupyter-widgets/base",
            "_model_module_version": "1.2.0",
            "_model_name": "LayoutModel",
            "_view_count": null,
            "_view_module": "@jupyter-widgets/base",
            "_view_module_version": "1.2.0",
            "_view_name": "LayoutView",
            "align_content": null,
            "align_items": null,
            "align_self": null,
            "border": null,
            "bottom": null,
            "display": null,
            "flex": null,
            "flex_flow": null,
            "grid_area": null,
            "grid_auto_columns": null,
            "grid_auto_flow": null,
            "grid_auto_rows": null,
            "grid_column": null,
            "grid_gap": null,
            "grid_row": null,
            "grid_template_areas": null,
            "grid_template_columns": null,
            "grid_template_rows": null,
            "height": null,
            "justify_content": null,
            "justify_items": null,
            "left": null,
            "margin": null,
            "max_height": null,
            "max_width": null,
            "min_height": null,
            "min_width": null,
            "object_fit": null,
            "object_position": null,
            "order": null,
            "overflow": null,
            "overflow_x": null,
            "overflow_y": null,
            "padding": null,
            "right": null,
            "top": null,
            "visibility": null,
            "width": null
          }
        },
        "bbf3d5b44f734bf98a13d2af07282989": {
          "model_module": "@jupyter-widgets/controls",
          "model_name": "ProgressStyleModel",
          "model_module_version": "1.5.0",
          "state": {
            "_model_module": "@jupyter-widgets/controls",
            "_model_module_version": "1.5.0",
            "_model_name": "ProgressStyleModel",
            "_view_count": null,
            "_view_module": "@jupyter-widgets/base",
            "_view_module_version": "1.2.0",
            "_view_name": "StyleView",
            "bar_color": null,
            "description_width": ""
          }
        },
        "72d9a509d7f348fc9a3c716b77d7e565": {
          "model_module": "@jupyter-widgets/base",
          "model_name": "LayoutModel",
          "model_module_version": "1.2.0",
          "state": {
            "_model_module": "@jupyter-widgets/base",
            "_model_module_version": "1.2.0",
            "_model_name": "LayoutModel",
            "_view_count": null,
            "_view_module": "@jupyter-widgets/base",
            "_view_module_version": "1.2.0",
            "_view_name": "LayoutView",
            "align_content": null,
            "align_items": null,
            "align_self": null,
            "border": null,
            "bottom": null,
            "display": null,
            "flex": null,
            "flex_flow": null,
            "grid_area": null,
            "grid_auto_columns": null,
            "grid_auto_flow": null,
            "grid_auto_rows": null,
            "grid_column": null,
            "grid_gap": null,
            "grid_row": null,
            "grid_template_areas": null,
            "grid_template_columns": null,
            "grid_template_rows": null,
            "height": null,
            "justify_content": null,
            "justify_items": null,
            "left": null,
            "margin": null,
            "max_height": null,
            "max_width": null,
            "min_height": null,
            "min_width": null,
            "object_fit": null,
            "object_position": null,
            "order": null,
            "overflow": null,
            "overflow_x": null,
            "overflow_y": null,
            "padding": null,
            "right": null,
            "top": null,
            "visibility": null,
            "width": null
          }
        },
        "55967854a0cd418f9de6222612485e04": {
          "model_module": "@jupyter-widgets/controls",
          "model_name": "DescriptionStyleModel",
          "model_module_version": "1.5.0",
          "state": {
            "_model_module": "@jupyter-widgets/controls",
            "_model_module_version": "1.5.0",
            "_model_name": "DescriptionStyleModel",
            "_view_count": null,
            "_view_module": "@jupyter-widgets/base",
            "_view_module_version": "1.2.0",
            "_view_name": "StyleView",
            "description_width": ""
          }
        },
        "e961938dc2c7413aa26fb06505336842": {
          "model_module": "@jupyter-widgets/controls",
          "model_name": "HBoxModel",
          "model_module_version": "1.5.0",
          "state": {
            "_dom_classes": [],
            "_model_module": "@jupyter-widgets/controls",
            "_model_module_version": "1.5.0",
            "_model_name": "HBoxModel",
            "_view_count": null,
            "_view_module": "@jupyter-widgets/controls",
            "_view_module_version": "1.5.0",
            "_view_name": "HBoxView",
            "box_style": "",
            "children": [
              "IPY_MODEL_88d0e3131ded41d5bdaeb35154e56d18",
              "IPY_MODEL_27a340f8f2134d6fb373203b3c20f213",
              "IPY_MODEL_2e9c8b0bb128429a823682808222d0ec"
            ],
            "layout": "IPY_MODEL_cc505096726b48c18018119f299339e3"
          }
        },
        "88d0e3131ded41d5bdaeb35154e56d18": {
          "model_module": "@jupyter-widgets/controls",
          "model_name": "HTMLModel",
          "model_module_version": "1.5.0",
          "state": {
            "_dom_classes": [],
            "_model_module": "@jupyter-widgets/controls",
            "_model_module_version": "1.5.0",
            "_model_name": "HTMLModel",
            "_view_count": null,
            "_view_module": "@jupyter-widgets/controls",
            "_view_module_version": "1.5.0",
            "_view_name": "HTMLView",
            "description": "",
            "description_tooltip": null,
            "layout": "IPY_MODEL_ef4e0a8408fa49898c9871757b2a3b03",
            "placeholder": "​",
            "style": "IPY_MODEL_7ff27d4ec9774a13bbefbba686149030",
            "value": "Downloading: 100%"
          }
        },
        "27a340f8f2134d6fb373203b3c20f213": {
          "model_module": "@jupyter-widgets/controls",
          "model_name": "FloatProgressModel",
          "model_module_version": "1.5.0",
          "state": {
            "_dom_classes": [],
            "_model_module": "@jupyter-widgets/controls",
            "_model_module_version": "1.5.0",
            "_model_name": "FloatProgressModel",
            "_view_count": null,
            "_view_module": "@jupyter-widgets/controls",
            "_view_module_version": "1.5.0",
            "_view_name": "ProgressView",
            "bar_style": "success",
            "description": "",
            "description_tooltip": null,
            "layout": "IPY_MODEL_3195e89ccabc48e9b173e64f25ab286d",
            "max": 241171,
            "min": 0,
            "orientation": "horizontal",
            "style": "IPY_MODEL_ba70f21294ed4f62930bbe279844adc9",
            "value": 241171
          }
        },
        "2e9c8b0bb128429a823682808222d0ec": {
          "model_module": "@jupyter-widgets/controls",
          "model_name": "HTMLModel",
          "model_module_version": "1.5.0",
          "state": {
            "_dom_classes": [],
            "_model_module": "@jupyter-widgets/controls",
            "_model_module_version": "1.5.0",
            "_model_name": "HTMLModel",
            "_view_count": null,
            "_view_module": "@jupyter-widgets/controls",
            "_view_module_version": "1.5.0",
            "_view_name": "HTMLView",
            "description": "",
            "description_tooltip": null,
            "layout": "IPY_MODEL_c535865cdccb4993aec8b9b70d7ac4fb",
            "placeholder": "​",
            "style": "IPY_MODEL_d75cf85292314be4844a97a01b5ed04a",
            "value": " 241k/241k [00:00&lt;00:00, 667kB/s]"
          }
        },
        "cc505096726b48c18018119f299339e3": {
          "model_module": "@jupyter-widgets/base",
          "model_name": "LayoutModel",
          "model_module_version": "1.2.0",
          "state": {
            "_model_module": "@jupyter-widgets/base",
            "_model_module_version": "1.2.0",
            "_model_name": "LayoutModel",
            "_view_count": null,
            "_view_module": "@jupyter-widgets/base",
            "_view_module_version": "1.2.0",
            "_view_name": "LayoutView",
            "align_content": null,
            "align_items": null,
            "align_self": null,
            "border": null,
            "bottom": null,
            "display": null,
            "flex": null,
            "flex_flow": null,
            "grid_area": null,
            "grid_auto_columns": null,
            "grid_auto_flow": null,
            "grid_auto_rows": null,
            "grid_column": null,
            "grid_gap": null,
            "grid_row": null,
            "grid_template_areas": null,
            "grid_template_columns": null,
            "grid_template_rows": null,
            "height": null,
            "justify_content": null,
            "justify_items": null,
            "left": null,
            "margin": null,
            "max_height": null,
            "max_width": null,
            "min_height": null,
            "min_width": null,
            "object_fit": null,
            "object_position": null,
            "order": null,
            "overflow": null,
            "overflow_x": null,
            "overflow_y": null,
            "padding": null,
            "right": null,
            "top": null,
            "visibility": null,
            "width": null
          }
        },
        "ef4e0a8408fa49898c9871757b2a3b03": {
          "model_module": "@jupyter-widgets/base",
          "model_name": "LayoutModel",
          "model_module_version": "1.2.0",
          "state": {
            "_model_module": "@jupyter-widgets/base",
            "_model_module_version": "1.2.0",
            "_model_name": "LayoutModel",
            "_view_count": null,
            "_view_module": "@jupyter-widgets/base",
            "_view_module_version": "1.2.0",
            "_view_name": "LayoutView",
            "align_content": null,
            "align_items": null,
            "align_self": null,
            "border": null,
            "bottom": null,
            "display": null,
            "flex": null,
            "flex_flow": null,
            "grid_area": null,
            "grid_auto_columns": null,
            "grid_auto_flow": null,
            "grid_auto_rows": null,
            "grid_column": null,
            "grid_gap": null,
            "grid_row": null,
            "grid_template_areas": null,
            "grid_template_columns": null,
            "grid_template_rows": null,
            "height": null,
            "justify_content": null,
            "justify_items": null,
            "left": null,
            "margin": null,
            "max_height": null,
            "max_width": null,
            "min_height": null,
            "min_width": null,
            "object_fit": null,
            "object_position": null,
            "order": null,
            "overflow": null,
            "overflow_x": null,
            "overflow_y": null,
            "padding": null,
            "right": null,
            "top": null,
            "visibility": null,
            "width": null
          }
        },
        "7ff27d4ec9774a13bbefbba686149030": {
          "model_module": "@jupyter-widgets/controls",
          "model_name": "DescriptionStyleModel",
          "model_module_version": "1.5.0",
          "state": {
            "_model_module": "@jupyter-widgets/controls",
            "_model_module_version": "1.5.0",
            "_model_name": "DescriptionStyleModel",
            "_view_count": null,
            "_view_module": "@jupyter-widgets/base",
            "_view_module_version": "1.2.0",
            "_view_name": "StyleView",
            "description_width": ""
          }
        },
        "3195e89ccabc48e9b173e64f25ab286d": {
          "model_module": "@jupyter-widgets/base",
          "model_name": "LayoutModel",
          "model_module_version": "1.2.0",
          "state": {
            "_model_module": "@jupyter-widgets/base",
            "_model_module_version": "1.2.0",
            "_model_name": "LayoutModel",
            "_view_count": null,
            "_view_module": "@jupyter-widgets/base",
            "_view_module_version": "1.2.0",
            "_view_name": "LayoutView",
            "align_content": null,
            "align_items": null,
            "align_self": null,
            "border": null,
            "bottom": null,
            "display": null,
            "flex": null,
            "flex_flow": null,
            "grid_area": null,
            "grid_auto_columns": null,
            "grid_auto_flow": null,
            "grid_auto_rows": null,
            "grid_column": null,
            "grid_gap": null,
            "grid_row": null,
            "grid_template_areas": null,
            "grid_template_columns": null,
            "grid_template_rows": null,
            "height": null,
            "justify_content": null,
            "justify_items": null,
            "left": null,
            "margin": null,
            "max_height": null,
            "max_width": null,
            "min_height": null,
            "min_width": null,
            "object_fit": null,
            "object_position": null,
            "order": null,
            "overflow": null,
            "overflow_x": null,
            "overflow_y": null,
            "padding": null,
            "right": null,
            "top": null,
            "visibility": null,
            "width": null
          }
        },
        "ba70f21294ed4f62930bbe279844adc9": {
          "model_module": "@jupyter-widgets/controls",
          "model_name": "ProgressStyleModel",
          "model_module_version": "1.5.0",
          "state": {
            "_model_module": "@jupyter-widgets/controls",
            "_model_module_version": "1.5.0",
            "_model_name": "ProgressStyleModel",
            "_view_count": null,
            "_view_module": "@jupyter-widgets/base",
            "_view_module_version": "1.2.0",
            "_view_name": "StyleView",
            "bar_color": null,
            "description_width": ""
          }
        },
        "c535865cdccb4993aec8b9b70d7ac4fb": {
          "model_module": "@jupyter-widgets/base",
          "model_name": "LayoutModel",
          "model_module_version": "1.2.0",
          "state": {
            "_model_module": "@jupyter-widgets/base",
            "_model_module_version": "1.2.0",
            "_model_name": "LayoutModel",
            "_view_count": null,
            "_view_module": "@jupyter-widgets/base",
            "_view_module_version": "1.2.0",
            "_view_name": "LayoutView",
            "align_content": null,
            "align_items": null,
            "align_self": null,
            "border": null,
            "bottom": null,
            "display": null,
            "flex": null,
            "flex_flow": null,
            "grid_area": null,
            "grid_auto_columns": null,
            "grid_auto_flow": null,
            "grid_auto_rows": null,
            "grid_column": null,
            "grid_gap": null,
            "grid_row": null,
            "grid_template_areas": null,
            "grid_template_columns": null,
            "grid_template_rows": null,
            "height": null,
            "justify_content": null,
            "justify_items": null,
            "left": null,
            "margin": null,
            "max_height": null,
            "max_width": null,
            "min_height": null,
            "min_width": null,
            "object_fit": null,
            "object_position": null,
            "order": null,
            "overflow": null,
            "overflow_x": null,
            "overflow_y": null,
            "padding": null,
            "right": null,
            "top": null,
            "visibility": null,
            "width": null
          }
        },
        "d75cf85292314be4844a97a01b5ed04a": {
          "model_module": "@jupyter-widgets/controls",
          "model_name": "DescriptionStyleModel",
          "model_module_version": "1.5.0",
          "state": {
            "_model_module": "@jupyter-widgets/controls",
            "_model_module_version": "1.5.0",
            "_model_name": "DescriptionStyleModel",
            "_view_count": null,
            "_view_module": "@jupyter-widgets/base",
            "_view_module_version": "1.2.0",
            "_view_name": "StyleView",
            "description_width": ""
          }
        },
        "76d081b7844445919303c108c0c52180": {
          "model_module": "@jupyter-widgets/controls",
          "model_name": "HBoxModel",
          "model_module_version": "1.5.0",
          "state": {
            "_dom_classes": [],
            "_model_module": "@jupyter-widgets/controls",
            "_model_module_version": "1.5.0",
            "_model_name": "HBoxModel",
            "_view_count": null,
            "_view_module": "@jupyter-widgets/controls",
            "_view_module_version": "1.5.0",
            "_view_name": "HBoxView",
            "box_style": "",
            "children": [
              "IPY_MODEL_3697e49923264a49a0ea5bbffb399af5",
              "IPY_MODEL_0f40ca9d99b84776bbb42aacf5510032",
              "IPY_MODEL_cab7d5ddf1124387afcbf64164e3c024"
            ],
            "layout": "IPY_MODEL_acb37d9051a8411e869631d00fb92c7e"
          }
        },
        "3697e49923264a49a0ea5bbffb399af5": {
          "model_module": "@jupyter-widgets/controls",
          "model_name": "HTMLModel",
          "model_module_version": "1.5.0",
          "state": {
            "_dom_classes": [],
            "_model_module": "@jupyter-widgets/controls",
            "_model_module_version": "1.5.0",
            "_model_name": "HTMLModel",
            "_view_count": null,
            "_view_module": "@jupyter-widgets/controls",
            "_view_module_version": "1.5.0",
            "_view_name": "HTMLView",
            "description": "",
            "description_tooltip": null,
            "layout": "IPY_MODEL_6744b0b9260c47a39c1e7664dd7821c1",
            "placeholder": "​",
            "style": "IPY_MODEL_f0c91514d38541a09d016a6511d1b341",
            "value": "Downloading: 100%"
          }
        },
        "0f40ca9d99b84776bbb42aacf5510032": {
          "model_module": "@jupyter-widgets/controls",
          "model_name": "FloatProgressModel",
          "model_module_version": "1.5.0",
          "state": {
            "_dom_classes": [],
            "_model_module": "@jupyter-widgets/controls",
            "_model_module_version": "1.5.0",
            "_model_name": "FloatProgressModel",
            "_view_count": null,
            "_view_module": "@jupyter-widgets/controls",
            "_view_module_version": "1.5.0",
            "_view_name": "ProgressView",
            "bar_style": "success",
            "description": "",
            "description_tooltip": null,
            "layout": "IPY_MODEL_8765aea5de29420fbebcdd3bbaa5b2e1",
            "max": 491774,
            "min": 0,
            "orientation": "horizontal",
            "style": "IPY_MODEL_0d8381f140c44b5db12321e9e489b805",
            "value": 491774
          }
        },
        "cab7d5ddf1124387afcbf64164e3c024": {
          "model_module": "@jupyter-widgets/controls",
          "model_name": "HTMLModel",
          "model_module_version": "1.5.0",
          "state": {
            "_dom_classes": [],
            "_model_module": "@jupyter-widgets/controls",
            "_model_module_version": "1.5.0",
            "_model_name": "HTMLModel",
            "_view_count": null,
            "_view_module": "@jupyter-widgets/controls",
            "_view_module_version": "1.5.0",
            "_view_name": "HTMLView",
            "description": "",
            "description_tooltip": null,
            "layout": "IPY_MODEL_4add3a91c0e14df495f0787fd5cec89f",
            "placeholder": "​",
            "style": "IPY_MODEL_ce094d8566d04a08bae0e505635ac6b5",
            "value": " 492k/492k [00:00&lt;00:00, 839kB/s]"
          }
        },
        "acb37d9051a8411e869631d00fb92c7e": {
          "model_module": "@jupyter-widgets/base",
          "model_name": "LayoutModel",
          "model_module_version": "1.2.0",
          "state": {
            "_model_module": "@jupyter-widgets/base",
            "_model_module_version": "1.2.0",
            "_model_name": "LayoutModel",
            "_view_count": null,
            "_view_module": "@jupyter-widgets/base",
            "_view_module_version": "1.2.0",
            "_view_name": "LayoutView",
            "align_content": null,
            "align_items": null,
            "align_self": null,
            "border": null,
            "bottom": null,
            "display": null,
            "flex": null,
            "flex_flow": null,
            "grid_area": null,
            "grid_auto_columns": null,
            "grid_auto_flow": null,
            "grid_auto_rows": null,
            "grid_column": null,
            "grid_gap": null,
            "grid_row": null,
            "grid_template_areas": null,
            "grid_template_columns": null,
            "grid_template_rows": null,
            "height": null,
            "justify_content": null,
            "justify_items": null,
            "left": null,
            "margin": null,
            "max_height": null,
            "max_width": null,
            "min_height": null,
            "min_width": null,
            "object_fit": null,
            "object_position": null,
            "order": null,
            "overflow": null,
            "overflow_x": null,
            "overflow_y": null,
            "padding": null,
            "right": null,
            "top": null,
            "visibility": null,
            "width": null
          }
        },
        "6744b0b9260c47a39c1e7664dd7821c1": {
          "model_module": "@jupyter-widgets/base",
          "model_name": "LayoutModel",
          "model_module_version": "1.2.0",
          "state": {
            "_model_module": "@jupyter-widgets/base",
            "_model_module_version": "1.2.0",
            "_model_name": "LayoutModel",
            "_view_count": null,
            "_view_module": "@jupyter-widgets/base",
            "_view_module_version": "1.2.0",
            "_view_name": "LayoutView",
            "align_content": null,
            "align_items": null,
            "align_self": null,
            "border": null,
            "bottom": null,
            "display": null,
            "flex": null,
            "flex_flow": null,
            "grid_area": null,
            "grid_auto_columns": null,
            "grid_auto_flow": null,
            "grid_auto_rows": null,
            "grid_column": null,
            "grid_gap": null,
            "grid_row": null,
            "grid_template_areas": null,
            "grid_template_columns": null,
            "grid_template_rows": null,
            "height": null,
            "justify_content": null,
            "justify_items": null,
            "left": null,
            "margin": null,
            "max_height": null,
            "max_width": null,
            "min_height": null,
            "min_width": null,
            "object_fit": null,
            "object_position": null,
            "order": null,
            "overflow": null,
            "overflow_x": null,
            "overflow_y": null,
            "padding": null,
            "right": null,
            "top": null,
            "visibility": null,
            "width": null
          }
        },
        "f0c91514d38541a09d016a6511d1b341": {
          "model_module": "@jupyter-widgets/controls",
          "model_name": "DescriptionStyleModel",
          "model_module_version": "1.5.0",
          "state": {
            "_model_module": "@jupyter-widgets/controls",
            "_model_module_version": "1.5.0",
            "_model_name": "DescriptionStyleModel",
            "_view_count": null,
            "_view_module": "@jupyter-widgets/base",
            "_view_module_version": "1.2.0",
            "_view_name": "StyleView",
            "description_width": ""
          }
        },
        "8765aea5de29420fbebcdd3bbaa5b2e1": {
          "model_module": "@jupyter-widgets/base",
          "model_name": "LayoutModel",
          "model_module_version": "1.2.0",
          "state": {
            "_model_module": "@jupyter-widgets/base",
            "_model_module_version": "1.2.0",
            "_model_name": "LayoutModel",
            "_view_count": null,
            "_view_module": "@jupyter-widgets/base",
            "_view_module_version": "1.2.0",
            "_view_name": "LayoutView",
            "align_content": null,
            "align_items": null,
            "align_self": null,
            "border": null,
            "bottom": null,
            "display": null,
            "flex": null,
            "flex_flow": null,
            "grid_area": null,
            "grid_auto_columns": null,
            "grid_auto_flow": null,
            "grid_auto_rows": null,
            "grid_column": null,
            "grid_gap": null,
            "grid_row": null,
            "grid_template_areas": null,
            "grid_template_columns": null,
            "grid_template_rows": null,
            "height": null,
            "justify_content": null,
            "justify_items": null,
            "left": null,
            "margin": null,
            "max_height": null,
            "max_width": null,
            "min_height": null,
            "min_width": null,
            "object_fit": null,
            "object_position": null,
            "order": null,
            "overflow": null,
            "overflow_x": null,
            "overflow_y": null,
            "padding": null,
            "right": null,
            "top": null,
            "visibility": null,
            "width": null
          }
        },
        "0d8381f140c44b5db12321e9e489b805": {
          "model_module": "@jupyter-widgets/controls",
          "model_name": "ProgressStyleModel",
          "model_module_version": "1.5.0",
          "state": {
            "_model_module": "@jupyter-widgets/controls",
            "_model_module_version": "1.5.0",
            "_model_name": "ProgressStyleModel",
            "_view_count": null,
            "_view_module": "@jupyter-widgets/base",
            "_view_module_version": "1.2.0",
            "_view_name": "StyleView",
            "bar_color": null,
            "description_width": ""
          }
        },
        "4add3a91c0e14df495f0787fd5cec89f": {
          "model_module": "@jupyter-widgets/base",
          "model_name": "LayoutModel",
          "model_module_version": "1.2.0",
          "state": {
            "_model_module": "@jupyter-widgets/base",
            "_model_module_version": "1.2.0",
            "_model_name": "LayoutModel",
            "_view_count": null,
            "_view_module": "@jupyter-widgets/base",
            "_view_module_version": "1.2.0",
            "_view_name": "LayoutView",
            "align_content": null,
            "align_items": null,
            "align_self": null,
            "border": null,
            "bottom": null,
            "display": null,
            "flex": null,
            "flex_flow": null,
            "grid_area": null,
            "grid_auto_columns": null,
            "grid_auto_flow": null,
            "grid_auto_rows": null,
            "grid_column": null,
            "grid_gap": null,
            "grid_row": null,
            "grid_template_areas": null,
            "grid_template_columns": null,
            "grid_template_rows": null,
            "height": null,
            "justify_content": null,
            "justify_items": null,
            "left": null,
            "margin": null,
            "max_height": null,
            "max_width": null,
            "min_height": null,
            "min_width": null,
            "object_fit": null,
            "object_position": null,
            "order": null,
            "overflow": null,
            "overflow_x": null,
            "overflow_y": null,
            "padding": null,
            "right": null,
            "top": null,
            "visibility": null,
            "width": null
          }
        },
        "ce094d8566d04a08bae0e505635ac6b5": {
          "model_module": "@jupyter-widgets/controls",
          "model_name": "DescriptionStyleModel",
          "model_module_version": "1.5.0",
          "state": {
            "_model_module": "@jupyter-widgets/controls",
            "_model_module_version": "1.5.0",
            "_model_name": "DescriptionStyleModel",
            "_view_count": null,
            "_view_module": "@jupyter-widgets/base",
            "_view_module_version": "1.2.0",
            "_view_name": "StyleView",
            "description_width": ""
          }
        },
        "3c68b1984b294128944fb3c7720dabdd": {
          "model_module": "@jupyter-widgets/controls",
          "model_name": "HBoxModel",
          "model_module_version": "1.5.0",
          "state": {
            "_dom_classes": [],
            "_model_module": "@jupyter-widgets/controls",
            "_model_module_version": "1.5.0",
            "_model_name": "HBoxModel",
            "_view_count": null,
            "_view_module": "@jupyter-widgets/controls",
            "_view_module_version": "1.5.0",
            "_view_name": "HBoxView",
            "box_style": "",
            "children": [
              "IPY_MODEL_5a3e15ee23e94c489d487478daf2c428",
              "IPY_MODEL_219fa9c831ab498981ad99d19a5fb008",
              "IPY_MODEL_96f7bb7d8d474d8c92f5ee55a61afb81"
            ],
            "layout": "IPY_MODEL_bb38b3868dc64c4899347226218fd140"
          }
        },
        "5a3e15ee23e94c489d487478daf2c428": {
          "model_module": "@jupyter-widgets/controls",
          "model_name": "HTMLModel",
          "model_module_version": "1.5.0",
          "state": {
            "_dom_classes": [],
            "_model_module": "@jupyter-widgets/controls",
            "_model_module_version": "1.5.0",
            "_model_name": "HTMLModel",
            "_view_count": null,
            "_view_module": "@jupyter-widgets/controls",
            "_view_module_version": "1.5.0",
            "_view_name": "HTMLView",
            "description": "",
            "description_tooltip": null,
            "layout": "IPY_MODEL_3123e79940174fdf9d8b08baf7dd00c7",
            "placeholder": "​",
            "style": "IPY_MODEL_8a23b24a36234ab5b8876fe35b9255f5",
            "value": "Downloading: 100%"
          }
        },
        "219fa9c831ab498981ad99d19a5fb008": {
          "model_module": "@jupyter-widgets/controls",
          "model_name": "FloatProgressModel",
          "model_module_version": "1.5.0",
          "state": {
            "_dom_classes": [],
            "_model_module": "@jupyter-widgets/controls",
            "_model_module_version": "1.5.0",
            "_model_name": "FloatProgressModel",
            "_view_count": null,
            "_view_module": "@jupyter-widgets/controls",
            "_view_module_version": "1.5.0",
            "_view_name": "ProgressView",
            "bar_style": "success",
            "description": "",
            "description_tooltip": null,
            "layout": "IPY_MODEL_4663e541e18c4d609ac14d15289901ce",
            "max": 169,
            "min": 0,
            "orientation": "horizontal",
            "style": "IPY_MODEL_efd8870941644a3db69d2828c2ed90a3",
            "value": 169
          }
        },
        "96f7bb7d8d474d8c92f5ee55a61afb81": {
          "model_module": "@jupyter-widgets/controls",
          "model_name": "HTMLModel",
          "model_module_version": "1.5.0",
          "state": {
            "_dom_classes": [],
            "_model_module": "@jupyter-widgets/controls",
            "_model_module_version": "1.5.0",
            "_model_name": "HTMLModel",
            "_view_count": null,
            "_view_module": "@jupyter-widgets/controls",
            "_view_module_version": "1.5.0",
            "_view_name": "HTMLView",
            "description": "",
            "description_tooltip": null,
            "layout": "IPY_MODEL_0e08c021676e43e8ae430b3f21e21a2d",
            "placeholder": "​",
            "style": "IPY_MODEL_96bc1819f0bc471abfd625796c0f106e",
            "value": " 169/169 [00:00&lt;00:00, 4.06kB/s]"
          }
        },
        "bb38b3868dc64c4899347226218fd140": {
          "model_module": "@jupyter-widgets/base",
          "model_name": "LayoutModel",
          "model_module_version": "1.2.0",
          "state": {
            "_model_module": "@jupyter-widgets/base",
            "_model_module_version": "1.2.0",
            "_model_name": "LayoutModel",
            "_view_count": null,
            "_view_module": "@jupyter-widgets/base",
            "_view_module_version": "1.2.0",
            "_view_name": "LayoutView",
            "align_content": null,
            "align_items": null,
            "align_self": null,
            "border": null,
            "bottom": null,
            "display": null,
            "flex": null,
            "flex_flow": null,
            "grid_area": null,
            "grid_auto_columns": null,
            "grid_auto_flow": null,
            "grid_auto_rows": null,
            "grid_column": null,
            "grid_gap": null,
            "grid_row": null,
            "grid_template_areas": null,
            "grid_template_columns": null,
            "grid_template_rows": null,
            "height": null,
            "justify_content": null,
            "justify_items": null,
            "left": null,
            "margin": null,
            "max_height": null,
            "max_width": null,
            "min_height": null,
            "min_width": null,
            "object_fit": null,
            "object_position": null,
            "order": null,
            "overflow": null,
            "overflow_x": null,
            "overflow_y": null,
            "padding": null,
            "right": null,
            "top": null,
            "visibility": null,
            "width": null
          }
        },
        "3123e79940174fdf9d8b08baf7dd00c7": {
          "model_module": "@jupyter-widgets/base",
          "model_name": "LayoutModel",
          "model_module_version": "1.2.0",
          "state": {
            "_model_module": "@jupyter-widgets/base",
            "_model_module_version": "1.2.0",
            "_model_name": "LayoutModel",
            "_view_count": null,
            "_view_module": "@jupyter-widgets/base",
            "_view_module_version": "1.2.0",
            "_view_name": "LayoutView",
            "align_content": null,
            "align_items": null,
            "align_self": null,
            "border": null,
            "bottom": null,
            "display": null,
            "flex": null,
            "flex_flow": null,
            "grid_area": null,
            "grid_auto_columns": null,
            "grid_auto_flow": null,
            "grid_auto_rows": null,
            "grid_column": null,
            "grid_gap": null,
            "grid_row": null,
            "grid_template_areas": null,
            "grid_template_columns": null,
            "grid_template_rows": null,
            "height": null,
            "justify_content": null,
            "justify_items": null,
            "left": null,
            "margin": null,
            "max_height": null,
            "max_width": null,
            "min_height": null,
            "min_width": null,
            "object_fit": null,
            "object_position": null,
            "order": null,
            "overflow": null,
            "overflow_x": null,
            "overflow_y": null,
            "padding": null,
            "right": null,
            "top": null,
            "visibility": null,
            "width": null
          }
        },
        "8a23b24a36234ab5b8876fe35b9255f5": {
          "model_module": "@jupyter-widgets/controls",
          "model_name": "DescriptionStyleModel",
          "model_module_version": "1.5.0",
          "state": {
            "_model_module": "@jupyter-widgets/controls",
            "_model_module_version": "1.5.0",
            "_model_name": "DescriptionStyleModel",
            "_view_count": null,
            "_view_module": "@jupyter-widgets/base",
            "_view_module_version": "1.2.0",
            "_view_name": "StyleView",
            "description_width": ""
          }
        },
        "4663e541e18c4d609ac14d15289901ce": {
          "model_module": "@jupyter-widgets/base",
          "model_name": "LayoutModel",
          "model_module_version": "1.2.0",
          "state": {
            "_model_module": "@jupyter-widgets/base",
            "_model_module_version": "1.2.0",
            "_model_name": "LayoutModel",
            "_view_count": null,
            "_view_module": "@jupyter-widgets/base",
            "_view_module_version": "1.2.0",
            "_view_name": "LayoutView",
            "align_content": null,
            "align_items": null,
            "align_self": null,
            "border": null,
            "bottom": null,
            "display": null,
            "flex": null,
            "flex_flow": null,
            "grid_area": null,
            "grid_auto_columns": null,
            "grid_auto_flow": null,
            "grid_auto_rows": null,
            "grid_column": null,
            "grid_gap": null,
            "grid_row": null,
            "grid_template_areas": null,
            "grid_template_columns": null,
            "grid_template_rows": null,
            "height": null,
            "justify_content": null,
            "justify_items": null,
            "left": null,
            "margin": null,
            "max_height": null,
            "max_width": null,
            "min_height": null,
            "min_width": null,
            "object_fit": null,
            "object_position": null,
            "order": null,
            "overflow": null,
            "overflow_x": null,
            "overflow_y": null,
            "padding": null,
            "right": null,
            "top": null,
            "visibility": null,
            "width": null
          }
        },
        "efd8870941644a3db69d2828c2ed90a3": {
          "model_module": "@jupyter-widgets/controls",
          "model_name": "ProgressStyleModel",
          "model_module_version": "1.5.0",
          "state": {
            "_model_module": "@jupyter-widgets/controls",
            "_model_module_version": "1.5.0",
            "_model_name": "ProgressStyleModel",
            "_view_count": null,
            "_view_module": "@jupyter-widgets/base",
            "_view_module_version": "1.2.0",
            "_view_name": "StyleView",
            "bar_color": null,
            "description_width": ""
          }
        },
        "0e08c021676e43e8ae430b3f21e21a2d": {
          "model_module": "@jupyter-widgets/base",
          "model_name": "LayoutModel",
          "model_module_version": "1.2.0",
          "state": {
            "_model_module": "@jupyter-widgets/base",
            "_model_module_version": "1.2.0",
            "_model_name": "LayoutModel",
            "_view_count": null,
            "_view_module": "@jupyter-widgets/base",
            "_view_module_version": "1.2.0",
            "_view_name": "LayoutView",
            "align_content": null,
            "align_items": null,
            "align_self": null,
            "border": null,
            "bottom": null,
            "display": null,
            "flex": null,
            "flex_flow": null,
            "grid_area": null,
            "grid_auto_columns": null,
            "grid_auto_flow": null,
            "grid_auto_rows": null,
            "grid_column": null,
            "grid_gap": null,
            "grid_row": null,
            "grid_template_areas": null,
            "grid_template_columns": null,
            "grid_template_rows": null,
            "height": null,
            "justify_content": null,
            "justify_items": null,
            "left": null,
            "margin": null,
            "max_height": null,
            "max_width": null,
            "min_height": null,
            "min_width": null,
            "object_fit": null,
            "object_position": null,
            "order": null,
            "overflow": null,
            "overflow_x": null,
            "overflow_y": null,
            "padding": null,
            "right": null,
            "top": null,
            "visibility": null,
            "width": null
          }
        },
        "96bc1819f0bc471abfd625796c0f106e": {
          "model_module": "@jupyter-widgets/controls",
          "model_name": "DescriptionStyleModel",
          "model_module_version": "1.5.0",
          "state": {
            "_model_module": "@jupyter-widgets/controls",
            "_model_module_version": "1.5.0",
            "_model_name": "DescriptionStyleModel",
            "_view_count": null,
            "_view_module": "@jupyter-widgets/base",
            "_view_module_version": "1.2.0",
            "_view_name": "StyleView",
            "description_width": ""
          }
        },
        "4cf9978bc41c45eb8201c18398bf9890": {
          "model_module": "@jupyter-widgets/controls",
          "model_name": "HBoxModel",
          "model_module_version": "1.5.0",
          "state": {
            "_dom_classes": [],
            "_model_module": "@jupyter-widgets/controls",
            "_model_module_version": "1.5.0",
            "_model_name": "HBoxModel",
            "_view_count": null,
            "_view_module": "@jupyter-widgets/controls",
            "_view_module_version": "1.5.0",
            "_view_name": "HBoxView",
            "box_style": "",
            "children": [
              "IPY_MODEL_0188da7019ee43a39300d4d76c28473a",
              "IPY_MODEL_0c28a401f1ce413d8bbc7d0087bdb5ab",
              "IPY_MODEL_03a216db5ea943bb8a54d151c260aa7d"
            ],
            "layout": "IPY_MODEL_5726011321a647b39ecd66decef4bd30"
          }
        },
        "0188da7019ee43a39300d4d76c28473a": {
          "model_module": "@jupyter-widgets/controls",
          "model_name": "HTMLModel",
          "model_module_version": "1.5.0",
          "state": {
            "_dom_classes": [],
            "_model_module": "@jupyter-widgets/controls",
            "_model_module_version": "1.5.0",
            "_model_name": "HTMLModel",
            "_view_count": null,
            "_view_module": "@jupyter-widgets/controls",
            "_view_module_version": "1.5.0",
            "_view_name": "HTMLView",
            "description": "",
            "description_tooltip": null,
            "layout": "IPY_MODEL_ce6d2783e1e2479bb1649c5432dc5abc",
            "placeholder": "​",
            "style": "IPY_MODEL_5531773e7cd54706bfc3305d1a636986",
            "value": "Downloading: 100%"
          }
        },
        "0c28a401f1ce413d8bbc7d0087bdb5ab": {
          "model_module": "@jupyter-widgets/controls",
          "model_name": "FloatProgressModel",
          "model_module_version": "1.5.0",
          "state": {
            "_dom_classes": [],
            "_model_module": "@jupyter-widgets/controls",
            "_model_module_version": "1.5.0",
            "_model_name": "FloatProgressModel",
            "_view_count": null,
            "_view_module": "@jupyter-widgets/controls",
            "_view_module_version": "1.5.0",
            "_view_name": "ProgressView",
            "bar_style": "success",
            "description": "",
            "description_tooltip": null,
            "layout": "IPY_MODEL_ddb359f4f1fd4c2cb0efb507cbdcf83f",
            "max": 373,
            "min": 0,
            "orientation": "horizontal",
            "style": "IPY_MODEL_2c68d609feb540f7aa9d653a776c2fb7",
            "value": 373
          }
        },
        "03a216db5ea943bb8a54d151c260aa7d": {
          "model_module": "@jupyter-widgets/controls",
          "model_name": "HTMLModel",
          "model_module_version": "1.5.0",
          "state": {
            "_dom_classes": [],
            "_model_module": "@jupyter-widgets/controls",
            "_model_module_version": "1.5.0",
            "_model_name": "HTMLModel",
            "_view_count": null,
            "_view_module": "@jupyter-widgets/controls",
            "_view_module_version": "1.5.0",
            "_view_name": "HTMLView",
            "description": "",
            "description_tooltip": null,
            "layout": "IPY_MODEL_28513ddeca254fba9ff11987e0e45c08",
            "placeholder": "​",
            "style": "IPY_MODEL_238ac70f107f4b7684cca21d3c8255d2",
            "value": " 373/373 [00:00&lt;00:00, 10.7kB/s]"
          }
        },
        "5726011321a647b39ecd66decef4bd30": {
          "model_module": "@jupyter-widgets/base",
          "model_name": "LayoutModel",
          "model_module_version": "1.2.0",
          "state": {
            "_model_module": "@jupyter-widgets/base",
            "_model_module_version": "1.2.0",
            "_model_name": "LayoutModel",
            "_view_count": null,
            "_view_module": "@jupyter-widgets/base",
            "_view_module_version": "1.2.0",
            "_view_name": "LayoutView",
            "align_content": null,
            "align_items": null,
            "align_self": null,
            "border": null,
            "bottom": null,
            "display": null,
            "flex": null,
            "flex_flow": null,
            "grid_area": null,
            "grid_auto_columns": null,
            "grid_auto_flow": null,
            "grid_auto_rows": null,
            "grid_column": null,
            "grid_gap": null,
            "grid_row": null,
            "grid_template_areas": null,
            "grid_template_columns": null,
            "grid_template_rows": null,
            "height": null,
            "justify_content": null,
            "justify_items": null,
            "left": null,
            "margin": null,
            "max_height": null,
            "max_width": null,
            "min_height": null,
            "min_width": null,
            "object_fit": null,
            "object_position": null,
            "order": null,
            "overflow": null,
            "overflow_x": null,
            "overflow_y": null,
            "padding": null,
            "right": null,
            "top": null,
            "visibility": null,
            "width": null
          }
        },
        "ce6d2783e1e2479bb1649c5432dc5abc": {
          "model_module": "@jupyter-widgets/base",
          "model_name": "LayoutModel",
          "model_module_version": "1.2.0",
          "state": {
            "_model_module": "@jupyter-widgets/base",
            "_model_module_version": "1.2.0",
            "_model_name": "LayoutModel",
            "_view_count": null,
            "_view_module": "@jupyter-widgets/base",
            "_view_module_version": "1.2.0",
            "_view_name": "LayoutView",
            "align_content": null,
            "align_items": null,
            "align_self": null,
            "border": null,
            "bottom": null,
            "display": null,
            "flex": null,
            "flex_flow": null,
            "grid_area": null,
            "grid_auto_columns": null,
            "grid_auto_flow": null,
            "grid_auto_rows": null,
            "grid_column": null,
            "grid_gap": null,
            "grid_row": null,
            "grid_template_areas": null,
            "grid_template_columns": null,
            "grid_template_rows": null,
            "height": null,
            "justify_content": null,
            "justify_items": null,
            "left": null,
            "margin": null,
            "max_height": null,
            "max_width": null,
            "min_height": null,
            "min_width": null,
            "object_fit": null,
            "object_position": null,
            "order": null,
            "overflow": null,
            "overflow_x": null,
            "overflow_y": null,
            "padding": null,
            "right": null,
            "top": null,
            "visibility": null,
            "width": null
          }
        },
        "5531773e7cd54706bfc3305d1a636986": {
          "model_module": "@jupyter-widgets/controls",
          "model_name": "DescriptionStyleModel",
          "model_module_version": "1.5.0",
          "state": {
            "_model_module": "@jupyter-widgets/controls",
            "_model_module_version": "1.5.0",
            "_model_name": "DescriptionStyleModel",
            "_view_count": null,
            "_view_module": "@jupyter-widgets/base",
            "_view_module_version": "1.2.0",
            "_view_name": "StyleView",
            "description_width": ""
          }
        },
        "ddb359f4f1fd4c2cb0efb507cbdcf83f": {
          "model_module": "@jupyter-widgets/base",
          "model_name": "LayoutModel",
          "model_module_version": "1.2.0",
          "state": {
            "_model_module": "@jupyter-widgets/base",
            "_model_module_version": "1.2.0",
            "_model_name": "LayoutModel",
            "_view_count": null,
            "_view_module": "@jupyter-widgets/base",
            "_view_module_version": "1.2.0",
            "_view_name": "LayoutView",
            "align_content": null,
            "align_items": null,
            "align_self": null,
            "border": null,
            "bottom": null,
            "display": null,
            "flex": null,
            "flex_flow": null,
            "grid_area": null,
            "grid_auto_columns": null,
            "grid_auto_flow": null,
            "grid_auto_rows": null,
            "grid_column": null,
            "grid_gap": null,
            "grid_row": null,
            "grid_template_areas": null,
            "grid_template_columns": null,
            "grid_template_rows": null,
            "height": null,
            "justify_content": null,
            "justify_items": null,
            "left": null,
            "margin": null,
            "max_height": null,
            "max_width": null,
            "min_height": null,
            "min_width": null,
            "object_fit": null,
            "object_position": null,
            "order": null,
            "overflow": null,
            "overflow_x": null,
            "overflow_y": null,
            "padding": null,
            "right": null,
            "top": null,
            "visibility": null,
            "width": null
          }
        },
        "2c68d609feb540f7aa9d653a776c2fb7": {
          "model_module": "@jupyter-widgets/controls",
          "model_name": "ProgressStyleModel",
          "model_module_version": "1.5.0",
          "state": {
            "_model_module": "@jupyter-widgets/controls",
            "_model_module_version": "1.5.0",
            "_model_name": "ProgressStyleModel",
            "_view_count": null,
            "_view_module": "@jupyter-widgets/base",
            "_view_module_version": "1.2.0",
            "_view_name": "StyleView",
            "bar_color": null,
            "description_width": ""
          }
        },
        "28513ddeca254fba9ff11987e0e45c08": {
          "model_module": "@jupyter-widgets/base",
          "model_name": "LayoutModel",
          "model_module_version": "1.2.0",
          "state": {
            "_model_module": "@jupyter-widgets/base",
            "_model_module_version": "1.2.0",
            "_model_name": "LayoutModel",
            "_view_count": null,
            "_view_module": "@jupyter-widgets/base",
            "_view_module_version": "1.2.0",
            "_view_name": "LayoutView",
            "align_content": null,
            "align_items": null,
            "align_self": null,
            "border": null,
            "bottom": null,
            "display": null,
            "flex": null,
            "flex_flow": null,
            "grid_area": null,
            "grid_auto_columns": null,
            "grid_auto_flow": null,
            "grid_auto_rows": null,
            "grid_column": null,
            "grid_gap": null,
            "grid_row": null,
            "grid_template_areas": null,
            "grid_template_columns": null,
            "grid_template_rows": null,
            "height": null,
            "justify_content": null,
            "justify_items": null,
            "left": null,
            "margin": null,
            "max_height": null,
            "max_width": null,
            "min_height": null,
            "min_width": null,
            "object_fit": null,
            "object_position": null,
            "order": null,
            "overflow": null,
            "overflow_x": null,
            "overflow_y": null,
            "padding": null,
            "right": null,
            "top": null,
            "visibility": null,
            "width": null
          }
        },
        "238ac70f107f4b7684cca21d3c8255d2": {
          "model_module": "@jupyter-widgets/controls",
          "model_name": "DescriptionStyleModel",
          "model_module_version": "1.5.0",
          "state": {
            "_model_module": "@jupyter-widgets/controls",
            "_model_module_version": "1.5.0",
            "_model_name": "DescriptionStyleModel",
            "_view_count": null,
            "_view_module": "@jupyter-widgets/base",
            "_view_module_version": "1.2.0",
            "_view_name": "StyleView",
            "description_width": ""
          }
        }
      }
    }
  },
  "nbformat": 4,
  "nbformat_minor": 0
}
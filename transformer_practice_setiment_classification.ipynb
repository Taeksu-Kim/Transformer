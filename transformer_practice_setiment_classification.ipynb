{
  "cells": [
    {
      "cell_type": "code",
      "execution_count": null,
      "metadata": {
        "id": "PY9gIZoPREnL"
      },
      "outputs": [],
      "source": [
        "!pip install transformers==4.7 torchinfo"
      ]
    },
    {
      "cell_type": "code",
      "execution_count": null,
      "metadata": {
        "id": "iYucaGAGRmJX"
      },
      "outputs": [],
      "source": [
        "!git clone https://github.com/Taeksu-Kim/Transformer.git"
      ]
    },
    {
      "cell_type": "code",
      "execution_count": null,
      "metadata": {
        "id": "fHZ0wWoTRmLv"
      },
      "outputs": [],
      "source": [
        "cd Transformer/PyTorch"
      ]
    },
    {
      "cell_type": "code",
      "source": [
        "# 데이터 다운로드\n",
        "!wget https://raw.githubusercontent.com/e9t/nsmc/master/ratings_train.txt\n",
        "!wget https://raw.githubusercontent.com/e9t/nsmc/master/ratings_test.txt"
      ],
      "metadata": {
        "id": "t8sYk7HN4d54"
      },
      "execution_count": null,
      "outputs": []
    },
    {
      "cell_type": "code",
      "execution_count": 5,
      "metadata": {
        "id": "soWE65AlSDP9"
      },
      "outputs": [],
      "source": [
        "# common\n",
        "import math\n",
        "import random\n",
        "import os\n",
        "import gc\n",
        "import numpy as np\n",
        "import pandas as pd\n",
        "from tqdm import tqdm\n",
        "import matplotlib.pyplot as plt\n",
        "from sklearn.model_selection import train_test_split\n",
        "\n",
        "from torchinfo import summary\n",
        "\n",
        "import torch\n",
        "import torch.nn as nn\n",
        "from torch.utils.data import Dataset\n",
        "\n",
        "from transformers import AutoTokenizer\n",
        "\n",
        "# custom\n",
        "from transformer import Transformer, TransformerEncoder, get_attn_pad_mask"
      ]
    },
    {
      "cell_type": "code",
      "execution_count": 6,
      "metadata": {
        "id": "kOxo_8pmc0tI"
      },
      "outputs": [],
      "source": [
        "def seed_everything(seed: int = 42):\n",
        "    random.seed(seed)\n",
        "    np.random.seed(seed)\n",
        "    torch.manual_seed(seed)\n",
        "    torch.cuda.manual_seed(seed)  # type: ignore\n",
        "    torch.backends.cudnn.deterministic = True  # type: ignore\n",
        "    torch.backends.cudnn.benchmark = False  # type: ignore\n",
        "    torch.cuda.manual_seed_all(seed)\n",
        "\n",
        "seed = 42\n",
        "\n",
        "seed_everything(seed)"
      ]
    },
    {
      "cell_type": "code",
      "execution_count": 7,
      "metadata": {
        "id": "OyV4zC-teD-Y"
      },
      "outputs": [],
      "source": [
        "device = torch.device('cuda:0' if torch.cuda.is_available() else 'cpu')\n",
        "\n",
        "epochs = 300\n",
        "learning_rate = 1e-4\n",
        "weight_decay = 1e-2\n",
        "batch_size = 64\n",
        "\n",
        "early_stopping_patience = 10\n",
        "\n",
        "save_name = 'NSMC_clssifier_model'"
      ]
    },
    {
      "cell_type": "code",
      "execution_count": 8,
      "metadata": {
        "id": "Vcy_7abBaWGX",
        "colab": {
          "base_uri": "https://localhost:8080/",
          "height": 177,
          "referenced_widgets": [
            "92cbd0a040654f5698a5928f9946e80d",
            "ae45cc4a217e4d98b2581e9ab9975e63",
            "0a491ab047774ecbac12a49384bf83bb",
            "5e174a874e654d3996660eb524d491f7",
            "f38cb874ce6d4dcdbbf49db00b4cd4fd",
            "3d0f63a19d6e4452b39414548dfe35e2",
            "5e60061588d04a00ac0ff76e775faf88",
            "d87a0ee833b24d1dbb426e11a92e5a8b",
            "e057e15200f6476ea9c31916fb441dc7",
            "5a6f5f72cb634885bea66cd84cacafb1",
            "c76aae7231034469a036ee6f1ab6f22e",
            "5bc46d1a727848ecad49f945658c8d56",
            "39287ff1b30842bdb81e4b0e7e7b6413",
            "d2c32edcfd1b449d9eb0b4d2105115bd",
            "0168bd4ab55d471db5aab4d7046d8f31",
            "e448245a1c1b40f8b9eb4a5d458224ec",
            "2ace21e04078427c946fb12e5a325770",
            "7aaf26aae3d94a469dfed344ec71cef4",
            "7fc049d8fee444ae81795f3cf8603311",
            "bd5906ba8094403caeaa89e5474a8eac",
            "6cd95fb956804ec7be17b964b0be2b8a",
            "3ea4d00f14d14c1b92a468437aae9128",
            "9a375af964954092aaecebe4b2c5fce9",
            "5827a26295e64e738cbe87b7bd4e4a48",
            "221c1a8a4b5441c5ab4593dd40c61a71",
            "9e40485ab079427885796d09cf48831b",
            "cadc85750c0147848169513df124285f",
            "b528b5980c6a4788baf76fbb628dabda",
            "294885d29bd241668712d36eed4f2ae1",
            "56d5a38c3ec44493a87eb9adda300e4e",
            "d487125453b04661a67c74ccc7d38f00",
            "920a404e30b845469df99edc92febd34",
            "28e6c6f0d6bb43329fec9d61f68fee0b",
            "1105e81ad1664db4904c272bdf831eca",
            "24efd23a944540df98bde2cac537e6a6",
            "ca595ad3c6394ccdb82e1f9b58530463",
            "023180a52112489fbe32cd7d46dd24dd",
            "175810dd1281460cbcf8d7c7e4b00fac",
            "698863bcf1344aeab4555f543f253bc2",
            "099390bf797041c88923868d5e82623c",
            "acb9ba20584443289b22c20e432dfcc7",
            "36d640c079994df9b9a54fa7fd741222",
            "e0256b964a2a4ba6895a41fe30fbceea",
            "fd442ad62dfd42f9af5baabc07426838",
            "b0ec2bba65664d078c07117b8c85c65d",
            "c0997358355049939b2ae3c9fbcf7464",
            "b3abf5f306e645d194cc42e4a1ee1547",
            "1c5ef52657e24ea2b222bf13dd3b972e",
            "cfead625181345b3be689dea60c7099f",
            "f9bbd03c0f6e49aabf067b2724da742a",
            "eef2632c42ff40fb925c3e223b90fdae",
            "344c31e819de4c778df431c12e36441d",
            "de80b40f5cd742718c6f623d9a22e7a6",
            "7aead34fce5f4eabb54e654bf55c0956",
            "42ab925df39f418aaa8ae55e7ede3060"
          ]
        },
        "outputId": "185c7f90-ee00-4e28-89be-ae23ca42d4dc"
      },
      "outputs": [
        {
          "output_type": "display_data",
          "data": {
            "text/plain": [
              "Downloading:   0%|          | 0.00/870 [00:00<?, ?B/s]"
            ],
            "application/vnd.jupyter.widget-view+json": {
              "version_major": 2,
              "version_minor": 0,
              "model_id": "92cbd0a040654f5698a5928f9946e80d"
            }
          },
          "metadata": {}
        },
        {
          "output_type": "display_data",
          "data": {
            "text/plain": [
              "Downloading:   0%|          | 0.00/241k [00:00<?, ?B/s]"
            ],
            "application/vnd.jupyter.widget-view+json": {
              "version_major": 2,
              "version_minor": 0,
              "model_id": "5bc46d1a727848ecad49f945658c8d56"
            }
          },
          "metadata": {}
        },
        {
          "output_type": "display_data",
          "data": {
            "text/plain": [
              "Downloading:   0%|          | 0.00/492k [00:00<?, ?B/s]"
            ],
            "application/vnd.jupyter.widget-view+json": {
              "version_major": 2,
              "version_minor": 0,
              "model_id": "9a375af964954092aaecebe4b2c5fce9"
            }
          },
          "metadata": {}
        },
        {
          "output_type": "display_data",
          "data": {
            "text/plain": [
              "Downloading:   0%|          | 0.00/169 [00:00<?, ?B/s]"
            ],
            "application/vnd.jupyter.widget-view+json": {
              "version_major": 2,
              "version_minor": 0,
              "model_id": "1105e81ad1664db4904c272bdf831eca"
            }
          },
          "metadata": {}
        },
        {
          "output_type": "display_data",
          "data": {
            "text/plain": [
              "Downloading:   0%|          | 0.00/373 [00:00<?, ?B/s]"
            ],
            "application/vnd.jupyter.widget-view+json": {
              "version_major": 2,
              "version_minor": 0,
              "model_id": "b0ec2bba65664d078c07117b8c85c65d"
            }
          },
          "metadata": {}
        }
      ],
      "source": [
        "model_path = \"monologg/kobigbird-bert-base\"\n",
        "tokenizer = AutoTokenizer.from_pretrained(model_path)"
      ]
    },
    {
      "cell_type": "code",
      "source": [
        "train_df = pd.read_csv('ratings_train.txt', sep=\"\\t\", engine=\"python\")"
      ],
      "metadata": {
        "id": "-g7KS5N_7xb_"
      },
      "execution_count": 9,
      "outputs": []
    },
    {
      "cell_type": "code",
      "source": [
        "train_df.isna().sum()"
      ],
      "metadata": {
        "colab": {
          "base_uri": "https://localhost:8080/"
        },
        "id": "MN7o2iM1oQ7e",
        "outputId": "3fdfe426-f6bf-441b-8cba-6e2936487367"
      },
      "execution_count": 10,
      "outputs": [
        {
          "output_type": "execute_result",
          "data": {
            "text/plain": [
              "id          0\n",
              "document    5\n",
              "label       0\n",
              "dtype: int64"
            ]
          },
          "metadata": {},
          "execution_count": 10
        }
      ]
    },
    {
      "cell_type": "code",
      "source": [
        "train_df = train_df.dropna()"
      ],
      "metadata": {
        "id": "SzvA1YhHo62d"
      },
      "execution_count": 11,
      "outputs": []
    },
    {
      "cell_type": "code",
      "source": [
        "test_df = pd.read_csv('ratings_test.txt', sep=\"\\t\", engine=\"python\")"
      ],
      "metadata": {
        "id": "mx2YPbyE5MHF"
      },
      "execution_count": 12,
      "outputs": []
    },
    {
      "cell_type": "code",
      "source": [
        "test_df.isna().sum()"
      ],
      "metadata": {
        "colab": {
          "base_uri": "https://localhost:8080/"
        },
        "id": "BSkuGq4vpBx6",
        "outputId": "b29cfe9f-0433-4b84-a601-310871f80117"
      },
      "execution_count": 13,
      "outputs": [
        {
          "output_type": "execute_result",
          "data": {
            "text/plain": [
              "id          0\n",
              "document    3\n",
              "label       0\n",
              "dtype: int64"
            ]
          },
          "metadata": {},
          "execution_count": 13
        }
      ]
    },
    {
      "cell_type": "code",
      "source": [
        "test_df = test_df.dropna()"
      ],
      "metadata": {
        "id": "hMjQA7NcpD1T"
      },
      "execution_count": 14,
      "outputs": []
    },
    {
      "cell_type": "code",
      "source": [
        "train_df"
      ],
      "metadata": {
        "colab": {
          "base_uri": "https://localhost:8080/",
          "height": 424
        },
        "id": "tXiNfmJp87JZ",
        "outputId": "7b75eeac-e5d8-4dfa-cb8a-43b0c3a5cfe0"
      },
      "execution_count": 15,
      "outputs": [
        {
          "output_type": "execute_result",
          "data": {
            "text/plain": [
              "              id                                           document  label\n",
              "0        9976970                                아 더빙.. 진짜 짜증나네요 목소리      0\n",
              "1        3819312                  흠...포스터보고 초딩영화줄....오버연기조차 가볍지 않구나      1\n",
              "2       10265843                                  너무재밓었다그래서보는것을추천한다      0\n",
              "3        9045019                      교도소 이야기구먼 ..솔직히 재미는 없다..평점 조정      0\n",
              "4        6483659  사이몬페그의 익살스런 연기가 돋보였던 영화!스파이더맨에서 늙어보이기만 했던 커스틴 ...      1\n",
              "...          ...                                                ...    ...\n",
              "149995   6222902                                인간이 문제지.. 소는 뭔죄인가..      0\n",
              "149996   8549745                                      평점이 너무 낮아서...      1\n",
              "149997   9311800                    이게 뭐요? 한국인은 거들먹거리고 필리핀 혼혈은 착하다?      0\n",
              "149998   2376369                        청춘 영화의 최고봉.방황과 우울했던 날들의 자화상      1\n",
              "149999   9619869                           한국 영화 최초로 수간하는 내용이 담긴 영화      0\n",
              "\n",
              "[149995 rows x 3 columns]"
            ],
            "text/html": [
              "\n",
              "  <div id=\"df-841a7751-f7ec-4b5c-893f-1b9e1d78c5db\">\n",
              "    <div class=\"colab-df-container\">\n",
              "      <div>\n",
              "<style scoped>\n",
              "    .dataframe tbody tr th:only-of-type {\n",
              "        vertical-align: middle;\n",
              "    }\n",
              "\n",
              "    .dataframe tbody tr th {\n",
              "        vertical-align: top;\n",
              "    }\n",
              "\n",
              "    .dataframe thead th {\n",
              "        text-align: right;\n",
              "    }\n",
              "</style>\n",
              "<table border=\"1\" class=\"dataframe\">\n",
              "  <thead>\n",
              "    <tr style=\"text-align: right;\">\n",
              "      <th></th>\n",
              "      <th>id</th>\n",
              "      <th>document</th>\n",
              "      <th>label</th>\n",
              "    </tr>\n",
              "  </thead>\n",
              "  <tbody>\n",
              "    <tr>\n",
              "      <th>0</th>\n",
              "      <td>9976970</td>\n",
              "      <td>아 더빙.. 진짜 짜증나네요 목소리</td>\n",
              "      <td>0</td>\n",
              "    </tr>\n",
              "    <tr>\n",
              "      <th>1</th>\n",
              "      <td>3819312</td>\n",
              "      <td>흠...포스터보고 초딩영화줄....오버연기조차 가볍지 않구나</td>\n",
              "      <td>1</td>\n",
              "    </tr>\n",
              "    <tr>\n",
              "      <th>2</th>\n",
              "      <td>10265843</td>\n",
              "      <td>너무재밓었다그래서보는것을추천한다</td>\n",
              "      <td>0</td>\n",
              "    </tr>\n",
              "    <tr>\n",
              "      <th>3</th>\n",
              "      <td>9045019</td>\n",
              "      <td>교도소 이야기구먼 ..솔직히 재미는 없다..평점 조정</td>\n",
              "      <td>0</td>\n",
              "    </tr>\n",
              "    <tr>\n",
              "      <th>4</th>\n",
              "      <td>6483659</td>\n",
              "      <td>사이몬페그의 익살스런 연기가 돋보였던 영화!스파이더맨에서 늙어보이기만 했던 커스틴 ...</td>\n",
              "      <td>1</td>\n",
              "    </tr>\n",
              "    <tr>\n",
              "      <th>...</th>\n",
              "      <td>...</td>\n",
              "      <td>...</td>\n",
              "      <td>...</td>\n",
              "    </tr>\n",
              "    <tr>\n",
              "      <th>149995</th>\n",
              "      <td>6222902</td>\n",
              "      <td>인간이 문제지.. 소는 뭔죄인가..</td>\n",
              "      <td>0</td>\n",
              "    </tr>\n",
              "    <tr>\n",
              "      <th>149996</th>\n",
              "      <td>8549745</td>\n",
              "      <td>평점이 너무 낮아서...</td>\n",
              "      <td>1</td>\n",
              "    </tr>\n",
              "    <tr>\n",
              "      <th>149997</th>\n",
              "      <td>9311800</td>\n",
              "      <td>이게 뭐요? 한국인은 거들먹거리고 필리핀 혼혈은 착하다?</td>\n",
              "      <td>0</td>\n",
              "    </tr>\n",
              "    <tr>\n",
              "      <th>149998</th>\n",
              "      <td>2376369</td>\n",
              "      <td>청춘 영화의 최고봉.방황과 우울했던 날들의 자화상</td>\n",
              "      <td>1</td>\n",
              "    </tr>\n",
              "    <tr>\n",
              "      <th>149999</th>\n",
              "      <td>9619869</td>\n",
              "      <td>한국 영화 최초로 수간하는 내용이 담긴 영화</td>\n",
              "      <td>0</td>\n",
              "    </tr>\n",
              "  </tbody>\n",
              "</table>\n",
              "<p>149995 rows × 3 columns</p>\n",
              "</div>\n",
              "      <button class=\"colab-df-convert\" onclick=\"convertToInteractive('df-841a7751-f7ec-4b5c-893f-1b9e1d78c5db')\"\n",
              "              title=\"Convert this dataframe to an interactive table.\"\n",
              "              style=\"display:none;\">\n",
              "        \n",
              "  <svg xmlns=\"http://www.w3.org/2000/svg\" height=\"24px\"viewBox=\"0 0 24 24\"\n",
              "       width=\"24px\">\n",
              "    <path d=\"M0 0h24v24H0V0z\" fill=\"none\"/>\n",
              "    <path d=\"M18.56 5.44l.94 2.06.94-2.06 2.06-.94-2.06-.94-.94-2.06-.94 2.06-2.06.94zm-11 1L8.5 8.5l.94-2.06 2.06-.94-2.06-.94L8.5 2.5l-.94 2.06-2.06.94zm10 10l.94 2.06.94-2.06 2.06-.94-2.06-.94-.94-2.06-.94 2.06-2.06.94z\"/><path d=\"M17.41 7.96l-1.37-1.37c-.4-.4-.92-.59-1.43-.59-.52 0-1.04.2-1.43.59L10.3 9.45l-7.72 7.72c-.78.78-.78 2.05 0 2.83L4 21.41c.39.39.9.59 1.41.59.51 0 1.02-.2 1.41-.59l7.78-7.78 2.81-2.81c.8-.78.8-2.07 0-2.86zM5.41 20L4 18.59l7.72-7.72 1.47 1.35L5.41 20z\"/>\n",
              "  </svg>\n",
              "      </button>\n",
              "      \n",
              "  <style>\n",
              "    .colab-df-container {\n",
              "      display:flex;\n",
              "      flex-wrap:wrap;\n",
              "      gap: 12px;\n",
              "    }\n",
              "\n",
              "    .colab-df-convert {\n",
              "      background-color: #E8F0FE;\n",
              "      border: none;\n",
              "      border-radius: 50%;\n",
              "      cursor: pointer;\n",
              "      display: none;\n",
              "      fill: #1967D2;\n",
              "      height: 32px;\n",
              "      padding: 0 0 0 0;\n",
              "      width: 32px;\n",
              "    }\n",
              "\n",
              "    .colab-df-convert:hover {\n",
              "      background-color: #E2EBFA;\n",
              "      box-shadow: 0px 1px 2px rgba(60, 64, 67, 0.3), 0px 1px 3px 1px rgba(60, 64, 67, 0.15);\n",
              "      fill: #174EA6;\n",
              "    }\n",
              "\n",
              "    [theme=dark] .colab-df-convert {\n",
              "      background-color: #3B4455;\n",
              "      fill: #D2E3FC;\n",
              "    }\n",
              "\n",
              "    [theme=dark] .colab-df-convert:hover {\n",
              "      background-color: #434B5C;\n",
              "      box-shadow: 0px 1px 3px 1px rgba(0, 0, 0, 0.15);\n",
              "      filter: drop-shadow(0px 1px 2px rgba(0, 0, 0, 0.3));\n",
              "      fill: #FFFFFF;\n",
              "    }\n",
              "  </style>\n",
              "\n",
              "      <script>\n",
              "        const buttonEl =\n",
              "          document.querySelector('#df-841a7751-f7ec-4b5c-893f-1b9e1d78c5db button.colab-df-convert');\n",
              "        buttonEl.style.display =\n",
              "          google.colab.kernel.accessAllowed ? 'block' : 'none';\n",
              "\n",
              "        async function convertToInteractive(key) {\n",
              "          const element = document.querySelector('#df-841a7751-f7ec-4b5c-893f-1b9e1d78c5db');\n",
              "          const dataTable =\n",
              "            await google.colab.kernel.invokeFunction('convertToInteractive',\n",
              "                                                     [key], {});\n",
              "          if (!dataTable) return;\n",
              "\n",
              "          const docLinkHtml = 'Like what you see? Visit the ' +\n",
              "            '<a target=\"_blank\" href=https://colab.research.google.com/notebooks/data_table.ipynb>data table notebook</a>'\n",
              "            + ' to learn more about interactive tables.';\n",
              "          element.innerHTML = '';\n",
              "          dataTable['output_type'] = 'display_data';\n",
              "          await google.colab.output.renderOutput(dataTable, element);\n",
              "          const docLink = document.createElement('div');\n",
              "          docLink.innerHTML = docLinkHtml;\n",
              "          element.appendChild(docLink);\n",
              "        }\n",
              "      </script>\n",
              "    </div>\n",
              "  </div>\n",
              "  "
            ]
          },
          "metadata": {},
          "execution_count": 15
        }
      ]
    },
    {
      "cell_type": "code",
      "source": [
        "tokenizer.tokenize('너무재밓었다그래서보는것을추천한다')"
      ],
      "metadata": {
        "colab": {
          "base_uri": "https://localhost:8080/"
        },
        "id": "2jfEciEL87Qh",
        "outputId": "7883ab2e-780b-48a2-8f2d-d2468d0d5663"
      },
      "execution_count": 16,
      "outputs": [
        {
          "output_type": "execute_result",
          "data": {
            "text/plain": [
              "['[UNK]']"
            ]
          },
          "metadata": {},
          "execution_count": 16
        }
      ]
    },
    {
      "cell_type": "code",
      "source": [
        "!pip install git+https://github.com/haven-jeon/PyKoSpacing.git"
      ],
      "metadata": {
        "id": "MTm2wvr8cAx5"
      },
      "execution_count": null,
      "outputs": []
    },
    {
      "cell_type": "code",
      "source": [
        "from pykospacing import Spacing\n",
        "\n",
        "spacing = Spacing()\n",
        "\n",
        "text = '너무재밓었다그래서보는것을추천한다'\n",
        "fixed_text = spacing(text) \n",
        "\n",
        "print(fixed_text)"
      ],
      "metadata": {
        "colab": {
          "base_uri": "https://localhost:8080/"
        },
        "id": "YAKbm0YC87S5",
        "outputId": "bf1f058a-5345-4264-a282-c45c6c2a541a"
      },
      "execution_count": 18,
      "outputs": [
        {
          "output_type": "stream",
          "name": "stdout",
          "text": [
            "너무 재밓었다 그래서 보는 것을 추천한다\n"
          ]
        }
      ]
    },
    {
      "cell_type": "code",
      "source": [
        "tar_df = train_df\n",
        "\n",
        "tar_df['fixed_document'] = [ spacing(tar_df['document'].iloc[i]) for i in tqdm(range(tar_df.shape[0]))]"
      ],
      "metadata": {
        "colab": {
          "base_uri": "https://localhost:8080/"
        },
        "id": "9X-SFcvocduL",
        "outputId": "108ebb85-db37-48c9-aa7c-b557f93c49f0"
      },
      "execution_count": 19,
      "outputs": [
        {
          "output_type": "stream",
          "name": "stderr",
          "text": [
            "100%|██████████| 149995/149995 [1:45:51<00:00, 23.62it/s]\n"
          ]
        }
      ]
    },
    {
      "cell_type": "code",
      "source": [
        "tar_df.to_csv('train_df.csv', index=False)"
      ],
      "metadata": {
        "id": "SPISlsZGha92"
      },
      "execution_count": 20,
      "outputs": []
    },
    {
      "cell_type": "code",
      "source": [
        "tar_df = test_df\n",
        "\n",
        "tar_df['fixed_document'] = [ spacing(tar_df['document'].iloc[i]) for i in tqdm(range(tar_df.shape[0]))]"
      ],
      "metadata": {
        "colab": {
          "base_uri": "https://localhost:8080/"
        },
        "id": "OOKdQGLqc437",
        "outputId": "5bf76fd9-c478-4e3d-dca3-3e5b9a7fae67"
      },
      "execution_count": 21,
      "outputs": [
        {
          "output_type": "stream",
          "name": "stderr",
          "text": [
            "100%|██████████| 49997/49997 [34:24<00:00, 24.22it/s]\n"
          ]
        }
      ]
    },
    {
      "cell_type": "code",
      "source": [
        "tar_df.to_csv('test_df.csv', index=False)"
      ],
      "metadata": {
        "id": "LKegfc3Tcdzc"
      },
      "execution_count": 22,
      "outputs": []
    },
    {
      "cell_type": "code",
      "source": [
        "train_df = pd.read_csv('train_df.csv')\n",
        "test_df = pd.read_csv('test_df.csv')"
      ],
      "metadata": {
        "id": "lObHRTvCPPOZ"
      },
      "execution_count": 24,
      "outputs": []
    },
    {
      "cell_type": "code",
      "execution_count": 25,
      "metadata": {
        "id": "hBob5L-SZW7Q"
      },
      "outputs": [],
      "source": [
        "def cal_token_len(text, tokenizer):\n",
        "  return len(tokenizer.encode(text))"
      ]
    },
    {
      "cell_type": "code",
      "source": [
        "tokenizer.encode(train_df.iloc[2595]['fixed_document'])"
      ],
      "metadata": {
        "colab": {
          "base_uri": "https://localhost:8080/"
        },
        "id": "Q2voEs9CPx8X",
        "outputId": "1d7f00cb-271f-4b27-82ce-2e70c2eabb3c"
      },
      "execution_count": 26,
      "outputs": [
        {
          "output_type": "execute_result",
          "data": {
            "text/plain": [
              "[2, 2760, 4630, 8721, 3]"
            ]
          },
          "metadata": {},
          "execution_count": 26
        }
      ]
    },
    {
      "cell_type": "code",
      "execution_count": 27,
      "metadata": {
        "id": "bsFzl3chZW93",
        "colab": {
          "base_uri": "https://localhost:8080/"
        },
        "outputId": "5e902504-c7ec-463a-e4e0-28d63088d553"
      },
      "outputs": [
        {
          "output_type": "stream",
          "name": "stderr",
          "text": [
            "100%|██████████| 149995/149995 [00:38<00:00, 3917.21it/s]\n"
          ]
        }
      ],
      "source": [
        "tar_df = train_df\n",
        "\n",
        "tar_df['token_len'] = [ cal_token_len(str(tar_df.iloc[i]['fixed_document']), tokenizer) for i in tqdm(range(tar_df.shape[0])) ]"
      ]
    },
    {
      "cell_type": "code",
      "execution_count": 28,
      "metadata": {
        "id": "mx6dRe2uaFj-",
        "colab": {
          "base_uri": "https://localhost:8080/"
        },
        "outputId": "e681cfc7-7792-4bf2-f1b8-72ccc0af84ac"
      },
      "outputs": [
        {
          "output_type": "stream",
          "name": "stderr",
          "text": [
            "100%|██████████| 49997/49997 [00:14<00:00, 3522.26it/s]\n"
          ]
        }
      ],
      "source": [
        "tar_df = test_df\n",
        "\n",
        "tar_df['token_len'] = [ cal_token_len(str(tar_df.iloc[i]['fixed_document']), tokenizer) for i in tqdm(range(tar_df.shape[0])) ]"
      ]
    },
    {
      "cell_type": "code",
      "execution_count": 29,
      "metadata": {
        "colab": {
          "base_uri": "https://localhost:8080/"
        },
        "id": "eaGKGsU4ZXAo",
        "outputId": "0ab74783-5f26-40cb-e011-8852f1b6e65e"
      },
      "outputs": [
        {
          "output_type": "stream",
          "name": "stdout",
          "text": [
            "95% length : 62.0\n",
            "98% length : 75.0\n",
            "99% length : 80.0\n",
            "100% length : 142.0\n"
          ]
        }
      ],
      "source": [
        "tar_df = train_df\n",
        "\n",
        "tar_per_list = [95,98,99,100]\n",
        "tar_col = tar_df['token_len']\n",
        "\n",
        "for i in tar_per_list:\n",
        "    print('{}% length : {}'.format(i, np.percentile(tar_col,i)))"
      ]
    },
    {
      "cell_type": "code",
      "source": [
        "tar_df = test_df\n",
        "\n",
        "tar_per_list = [95,98,99,100]\n",
        "tar_col = tar_df['token_len']\n",
        "\n",
        "for i in tar_per_list:\n",
        "    print('{}% length : {}'.format(i, np.percentile(tar_col,i)))"
      ],
      "metadata": {
        "colab": {
          "base_uri": "https://localhost:8080/"
        },
        "id": "AngXCh8kLJAY",
        "outputId": "ad2dd2ff-0088-401e-daec-d0a2f9676e63"
      },
      "execution_count": 30,
      "outputs": [
        {
          "output_type": "stream",
          "name": "stdout",
          "text": [
            "95% length : 62.0\n",
            "98% length : 76.0\n",
            "99% length : 80.0\n",
            "100% length : 112.0\n"
          ]
        }
      ]
    },
    {
      "cell_type": "code",
      "execution_count": 31,
      "metadata": {
        "id": "uAh_OP14ZXF5"
      },
      "outputs": [],
      "source": [
        "max_input_len = 100"
      ]
    },
    {
      "cell_type": "code",
      "source": [
        "train_df.keys()"
      ],
      "metadata": {
        "colab": {
          "base_uri": "https://localhost:8080/"
        },
        "id": "cx-bHVUy9Mly",
        "outputId": "fc159fb6-54ca-4f4b-b7a7-61d64b072581"
      },
      "execution_count": 32,
      "outputs": [
        {
          "output_type": "execute_result",
          "data": {
            "text/plain": [
              "Index(['id', 'document', 'label', 'fixed_document', 'token_len'], dtype='object')"
            ]
          },
          "metadata": {},
          "execution_count": 32
        }
      ]
    },
    {
      "cell_type": "code",
      "execution_count": 33,
      "metadata": {
        "id": "C-oykEIycXwS"
      },
      "outputs": [],
      "source": [
        "train, valid =  train_test_split(train_df, test_size=0.2, stratify=train_df['label'],random_state=seed, shuffle=True)"
      ]
    },
    {
      "cell_type": "code",
      "execution_count": 34,
      "metadata": {
        "id": "EHnr6x_4bk0W"
      },
      "outputs": [],
      "source": [
        "class movie_review_dataset(Dataset):\n",
        "\n",
        "  def __init__(self, df, max_input_len):\n",
        "    self.df = df\n",
        "    self.max_input_len = max_input_len\n",
        "\n",
        "  def __len__(self):\n",
        "    return self.df.shape[0]\n",
        "\n",
        "  def __getitem__(self, index):\n",
        "\n",
        "    return {'enc_inputs' : torch.tensor(tokenizer.encode(str(self.df['fixed_document'].iloc[index]),max_length=self.max_input_len, padding='max_length', truncation='only_first'), dtype=int),\n",
        "            'labels' : torch.tensor(self.df['label'].iloc[index], dtype=int),\n",
        "            }"
      ]
    },
    {
      "cell_type": "code",
      "execution_count": 35,
      "metadata": {
        "id": "Uee1UbQRbthI"
      },
      "outputs": [],
      "source": [
        "train_dataset = movie_review_dataset(train, max_input_len)\n",
        "valid_dataset = movie_review_dataset(valid, max_input_len)\n",
        "\n",
        "train_dataloader = torch.utils.data.DataLoader(train_dataset, batch_size=batch_size, num_workers=0, shuffle=True)\n",
        "valid_dataloader = torch.utils.data.DataLoader(valid_dataset, batch_size=batch_size, num_workers=0, shuffle=True)"
      ]
    },
    {
      "cell_type": "code",
      "execution_count": 36,
      "metadata": {
        "id": "woHDPphObk21"
      },
      "outputs": [],
      "source": [
        "for i, batch in enumerate(train_dataloader):\n",
        "    break"
      ]
    },
    {
      "cell_type": "code",
      "execution_count": 37,
      "metadata": {
        "id": "00eqSz3Bbkpm"
      },
      "outputs": [],
      "source": [
        "# Config Class\n",
        "# dict class를 json으로 바꿔서 confg.arg 와 같이 사용할 수 있게 만드는 class\n",
        "class Config(dict): \n",
        "    __getattr__ = dict.__getitem__\n",
        "    __setattr__ = dict.__setitem__\n",
        "\n",
        "    @classmethod\n",
        "    def load(cls, file):\n",
        "        with open(file, 'r') as f:\n",
        "            config = json.loads(f.read())\n",
        "            return Config(config)"
      ]
    },
    {
      "cell_type": "code",
      "source": [
        "class TransformerClassificationHead(nn.Module):\n",
        "\n",
        "    def __init__(self, config):\n",
        "        super().__init__()\n",
        "        self.dense = nn.Linear(config.d_model, config.d_model)\n",
        "        self.dropout = nn.Dropout(config.drop_out_raito)\n",
        "        self.gelu = nn.GELU()\n",
        "        self.out_proj = nn.Linear(config.d_model, config.num_labels)\n",
        "\n",
        "    def forward(self, features, **kwargs):\n",
        "        x = features[:, 0, :] # Use only CLS token\n",
        "        x = self.dropout(x)\n",
        "        x = self.dense(x)\n",
        "        x = self.gelu(x)  \n",
        "        x = self.out_proj(x)\n",
        "        return x"
      ],
      "metadata": {
        "id": "YPkF-maGTxk3"
      },
      "execution_count": 38,
      "outputs": []
    },
    {
      "cell_type": "code",
      "source": [
        "class Transformer_Classifier(Transformer):\n",
        "    def __init__(self, config):\n",
        "        super(Transformer, self).__init__()\n",
        "        self.config = config\n",
        "        self.encoder = TransformerEncoder(config)\n",
        "        self.classifier = TransformerClassificationHead(config)\n",
        "\n",
        "        self.init_weights()\n",
        "\n",
        "    def forward(self, \n",
        "                enc_inputs,  \n",
        "                enc_self_attn_mask=None):\n",
        "        \n",
        "        enc_outputs, enc_self_attn_probs = self.encoder(enc_inputs, enc_self_attn_mask)\n",
        "        \n",
        "        logits = self.classifier(enc_outputs)\n",
        "\n",
        "        return logits, enc_self_attn_probs"
      ],
      "metadata": {
        "id": "jdZig_CCSPi0"
      },
      "execution_count": 60,
      "outputs": []
    },
    {
      "cell_type": "code",
      "execution_count": 61,
      "metadata": {
        "id": "dWOa15pObksU"
      },
      "outputs": [],
      "source": [
        "config_dict = {\n",
        "    'vocab_size' : tokenizer.vocab_size,\n",
        "    'd_model' : 256,\n",
        "    'max_enc_len' : max_input_len,\n",
        "    'max_dec_len' : None,\n",
        "    'num_labels' : 2,\n",
        "    'pad_id' : tokenizer.pad_token_id,\n",
        "    'bos_id' : tokenizer.bos_token_id,\n",
        "    'eos_id' : tokenizer.eos_token_id,\n",
        "    'use_decoder' : False,\n",
        "    'init_std' : 2e-2,\n",
        "    'norm_eps' : 1e-12, \n",
        "    'drop_out_raito' : 0.1,\n",
        "    'num_enc_layers' : 3,\n",
        "    'num_dec_layers' : 3,\n",
        "    'num_att_heads' : 4,\n",
        "    'feed_forward_dim' : 1024,\n",
        "}\n",
        "\n",
        "config = Config(config_dict)"
      ]
    },
    {
      "cell_type": "code",
      "execution_count": 62,
      "metadata": {
        "id": "HZbkyNDHup9r"
      },
      "outputs": [],
      "source": [
        "model = Transformer_Classifier(config)"
      ]
    },
    {
      "cell_type": "code",
      "source": [
        "enc_inputs = batch['enc_inputs']\n",
        "\n",
        "summary(model.to('cpu'), input_data=[enc_inputs.to('cpu')])"
      ],
      "metadata": {
        "colab": {
          "base_uri": "https://localhost:8080/"
        },
        "id": "a4Kua43sK3hp",
        "outputId": "fc7b8cdf-028b-4189-cd63-48399655c4e5"
      },
      "execution_count": 64,
      "outputs": [
        {
          "output_type": "execute_result",
          "data": {
            "text/plain": [
              "===================================================================================================================\n",
              "Layer (type:depth-idx)                                            Output Shape              Param #\n",
              "===================================================================================================================\n",
              "Transformer_Classifier                                            [64, 2]                   --\n",
              "├─TransformerEncoder: 1-1                                         [64, 100, 256]            --\n",
              "│    └─Embedding: 2-1                                             [64, 100, 256]            8,320,000\n",
              "│    └─ModuleList: 2-2                                            --                        --\n",
              "│    │    └─TransformerEncoderLayer: 3-1                          [64, 100, 256]            789,760\n",
              "│    │    └─TransformerEncoderLayer: 3-2                          [64, 100, 256]            789,760\n",
              "│    │    └─TransformerEncoderLayer: 3-3                          [64, 100, 256]            789,760\n",
              "├─TransformerClassificationHead: 1-2                              [64, 2]                   --\n",
              "│    └─Dropout: 2-3                                               [64, 256]                 --\n",
              "│    └─Linear: 2-4                                                [64, 256]                 65,792\n",
              "│    └─GELU: 2-5                                                  [64, 256]                 --\n",
              "│    └─Linear: 2-6                                                [64, 2]                   514\n",
              "===================================================================================================================\n",
              "Total params: 10,755,586\n",
              "Trainable params: 10,755,586\n",
              "Non-trainable params: 0\n",
              "Total mult-adds (M): 688.36\n",
              "===================================================================================================================\n",
              "Input size (MB): 0.05\n",
              "Forward/backward pass size (MB): 445.78\n",
              "Params size (MB): 43.02\n",
              "Estimated Total Size (MB): 488.85\n",
              "==================================================================================================================="
            ]
          },
          "metadata": {},
          "execution_count": 64
        }
      ]
    },
    {
      "cell_type": "code",
      "source": [
        "config_dict = {\n",
        "    'vocab_size' : tokenizer.vocab_size,\n",
        "    'd_model' : 512,\n",
        "    'max_enc_len' : max_input_len,\n",
        "    'max_dec_len' : None,\n",
        "    'num_labels' : 2,\n",
        "    'pad_id' : tokenizer.pad_token_id,\n",
        "    'bos_id' : tokenizer.bos_token_id,\n",
        "    'eos_id' : tokenizer.eos_token_id,\n",
        "    'use_decoder' : False,\n",
        "    'init_std' : 2e-2,\n",
        "    'norm_eps' : 1e-12, \n",
        "    'drop_out_raito' : 0.1,\n",
        "    'num_enc_layers' : 6,\n",
        "    'num_dec_layers' : 6,\n",
        "    'num_att_heads' : 4,\n",
        "    'feed_forward_dim' : 1024,\n",
        "}\n",
        "\n",
        "config = Config(config_dict)"
      ],
      "metadata": {
        "id": "_16zrZbdnjUR"
      },
      "execution_count": 65,
      "outputs": []
    },
    {
      "cell_type": "code",
      "source": [
        "model = Transformer_Classifier(config)"
      ],
      "metadata": {
        "id": "17lzaRnynjW-"
      },
      "execution_count": 66,
      "outputs": []
    },
    {
      "cell_type": "code",
      "source": [
        "enc_inputs = batch['enc_inputs']\n",
        "\n",
        "summary(model, input_data=[enc_inputs])"
      ],
      "metadata": {
        "colab": {
          "base_uri": "https://localhost:8080/"
        },
        "id": "CqZq8ocxnjZm",
        "outputId": "53ab8944-cb2f-4d3e-81b7-f4eb55cee776"
      },
      "execution_count": 67,
      "outputs": [
        {
          "output_type": "execute_result",
          "data": {
            "text/plain": [
              "===================================================================================================================\n",
              "Layer (type:depth-idx)                                            Output Shape              Param #\n",
              "===================================================================================================================\n",
              "Transformer_Classifier                                            [64, 2]                   --\n",
              "├─TransformerEncoder: 1-1                                         [64, 100, 512]            --\n",
              "│    └─Embedding: 2-1                                             [64, 100, 512]            16,640,000\n",
              "│    └─ModuleList: 2-2                                            --                        --\n",
              "│    │    └─TransformerEncoderLayer: 3-1                          [64, 100, 512]            2,102,784\n",
              "│    │    └─TransformerEncoderLayer: 3-2                          [64, 100, 512]            2,102,784\n",
              "│    │    └─TransformerEncoderLayer: 3-3                          [64, 100, 512]            2,102,784\n",
              "│    │    └─TransformerEncoderLayer: 3-4                          [64, 100, 512]            2,102,784\n",
              "│    │    └─TransformerEncoderLayer: 3-5                          [64, 100, 512]            2,102,784\n",
              "│    │    └─TransformerEncoderLayer: 3-6                          [64, 100, 512]            2,102,784\n",
              "├─TransformerClassificationHead: 1-2                              [64, 2]                   --\n",
              "│    └─Dropout: 2-3                                               [64, 512]                 --\n",
              "│    └─Linear: 2-4                                                [64, 512]                 262,656\n",
              "│    └─GELU: 2-5                                                  [64, 512]                 --\n",
              "│    └─Linear: 2-6                                                [64, 2]                   1,026\n",
              "===================================================================================================================\n",
              "Total params: 29,520,386\n",
              "Trainable params: 29,520,386\n",
              "Non-trainable params: 0\n",
              "Total mult-adds (G): 1.89\n",
              "===================================================================================================================\n",
              "Input size (MB): 0.05\n",
              "Forward/backward pass size (MB): 1442.06\n",
              "Params size (MB): 118.08\n",
              "Estimated Total Size (MB): 1560.19\n",
              "==================================================================================================================="
            ]
          },
          "metadata": {},
          "execution_count": 67
        }
      ]
    },
    {
      "cell_type": "code",
      "execution_count": 68,
      "metadata": {
        "colab": {
          "base_uri": "https://localhost:8080/"
        },
        "id": "6RoT2h-IfmG-",
        "outputId": "47010abb-60fe-4975-9c56-34888bc87057"
      },
      "outputs": [
        {
          "output_type": "execute_result",
          "data": {
            "text/plain": [
              "Transformer_Classifier(\n",
              "  (encoder): TransformerEncoder(\n",
              "    (word_embedding): Embedding(32500, 512, padding_idx=0)\n",
              "    (layers): ModuleList(\n",
              "      (0): TransformerEncoderLayer(\n",
              "        (self_attention): AddNorm(\n",
              "          (layer): MultiHeadAttention(\n",
              "            (query_proj): Linear(in_features=512, out_features=512, bias=True)\n",
              "            (key_proj): Linear(in_features=512, out_features=512, bias=True)\n",
              "            (value_proj): Linear(in_features=512, out_features=512, bias=True)\n",
              "            (scaled_dot_attn): ScaledDotProductAttention()\n",
              "            (linear): Linear(in_features=512, out_features=512, bias=True)\n",
              "          )\n",
              "          (layer_norm): LayerNorm((512,), eps=1e-12, elementwise_affine=True)\n",
              "        )\n",
              "        (feed_forward): AddNorm(\n",
              "          (layer): PoswiseFeedForward(\n",
              "            (feed_forward): Sequential(\n",
              "              (0): Linear(in_features=512, out_features=1024, bias=True)\n",
              "              (1): Dropout(p=0.1, inplace=False)\n",
              "              (2): ReLU()\n",
              "              (3): Linear(in_features=1024, out_features=512, bias=True)\n",
              "              (4): Dropout(p=0.1, inplace=False)\n",
              "            )\n",
              "          )\n",
              "          (layer_norm): LayerNorm((512,), eps=1e-12, elementwise_affine=True)\n",
              "        )\n",
              "      )\n",
              "      (1): TransformerEncoderLayer(\n",
              "        (self_attention): AddNorm(\n",
              "          (layer): MultiHeadAttention(\n",
              "            (query_proj): Linear(in_features=512, out_features=512, bias=True)\n",
              "            (key_proj): Linear(in_features=512, out_features=512, bias=True)\n",
              "            (value_proj): Linear(in_features=512, out_features=512, bias=True)\n",
              "            (scaled_dot_attn): ScaledDotProductAttention()\n",
              "            (linear): Linear(in_features=512, out_features=512, bias=True)\n",
              "          )\n",
              "          (layer_norm): LayerNorm((512,), eps=1e-12, elementwise_affine=True)\n",
              "        )\n",
              "        (feed_forward): AddNorm(\n",
              "          (layer): PoswiseFeedForward(\n",
              "            (feed_forward): Sequential(\n",
              "              (0): Linear(in_features=512, out_features=1024, bias=True)\n",
              "              (1): Dropout(p=0.1, inplace=False)\n",
              "              (2): ReLU()\n",
              "              (3): Linear(in_features=1024, out_features=512, bias=True)\n",
              "              (4): Dropout(p=0.1, inplace=False)\n",
              "            )\n",
              "          )\n",
              "          (layer_norm): LayerNorm((512,), eps=1e-12, elementwise_affine=True)\n",
              "        )\n",
              "      )\n",
              "      (2): TransformerEncoderLayer(\n",
              "        (self_attention): AddNorm(\n",
              "          (layer): MultiHeadAttention(\n",
              "            (query_proj): Linear(in_features=512, out_features=512, bias=True)\n",
              "            (key_proj): Linear(in_features=512, out_features=512, bias=True)\n",
              "            (value_proj): Linear(in_features=512, out_features=512, bias=True)\n",
              "            (scaled_dot_attn): ScaledDotProductAttention()\n",
              "            (linear): Linear(in_features=512, out_features=512, bias=True)\n",
              "          )\n",
              "          (layer_norm): LayerNorm((512,), eps=1e-12, elementwise_affine=True)\n",
              "        )\n",
              "        (feed_forward): AddNorm(\n",
              "          (layer): PoswiseFeedForward(\n",
              "            (feed_forward): Sequential(\n",
              "              (0): Linear(in_features=512, out_features=1024, bias=True)\n",
              "              (1): Dropout(p=0.1, inplace=False)\n",
              "              (2): ReLU()\n",
              "              (3): Linear(in_features=1024, out_features=512, bias=True)\n",
              "              (4): Dropout(p=0.1, inplace=False)\n",
              "            )\n",
              "          )\n",
              "          (layer_norm): LayerNorm((512,), eps=1e-12, elementwise_affine=True)\n",
              "        )\n",
              "      )\n",
              "      (3): TransformerEncoderLayer(\n",
              "        (self_attention): AddNorm(\n",
              "          (layer): MultiHeadAttention(\n",
              "            (query_proj): Linear(in_features=512, out_features=512, bias=True)\n",
              "            (key_proj): Linear(in_features=512, out_features=512, bias=True)\n",
              "            (value_proj): Linear(in_features=512, out_features=512, bias=True)\n",
              "            (scaled_dot_attn): ScaledDotProductAttention()\n",
              "            (linear): Linear(in_features=512, out_features=512, bias=True)\n",
              "          )\n",
              "          (layer_norm): LayerNorm((512,), eps=1e-12, elementwise_affine=True)\n",
              "        )\n",
              "        (feed_forward): AddNorm(\n",
              "          (layer): PoswiseFeedForward(\n",
              "            (feed_forward): Sequential(\n",
              "              (0): Linear(in_features=512, out_features=1024, bias=True)\n",
              "              (1): Dropout(p=0.1, inplace=False)\n",
              "              (2): ReLU()\n",
              "              (3): Linear(in_features=1024, out_features=512, bias=True)\n",
              "              (4): Dropout(p=0.1, inplace=False)\n",
              "            )\n",
              "          )\n",
              "          (layer_norm): LayerNorm((512,), eps=1e-12, elementwise_affine=True)\n",
              "        )\n",
              "      )\n",
              "      (4): TransformerEncoderLayer(\n",
              "        (self_attention): AddNorm(\n",
              "          (layer): MultiHeadAttention(\n",
              "            (query_proj): Linear(in_features=512, out_features=512, bias=True)\n",
              "            (key_proj): Linear(in_features=512, out_features=512, bias=True)\n",
              "            (value_proj): Linear(in_features=512, out_features=512, bias=True)\n",
              "            (scaled_dot_attn): ScaledDotProductAttention()\n",
              "            (linear): Linear(in_features=512, out_features=512, bias=True)\n",
              "          )\n",
              "          (layer_norm): LayerNorm((512,), eps=1e-12, elementwise_affine=True)\n",
              "        )\n",
              "        (feed_forward): AddNorm(\n",
              "          (layer): PoswiseFeedForward(\n",
              "            (feed_forward): Sequential(\n",
              "              (0): Linear(in_features=512, out_features=1024, bias=True)\n",
              "              (1): Dropout(p=0.1, inplace=False)\n",
              "              (2): ReLU()\n",
              "              (3): Linear(in_features=1024, out_features=512, bias=True)\n",
              "              (4): Dropout(p=0.1, inplace=False)\n",
              "            )\n",
              "          )\n",
              "          (layer_norm): LayerNorm((512,), eps=1e-12, elementwise_affine=True)\n",
              "        )\n",
              "      )\n",
              "      (5): TransformerEncoderLayer(\n",
              "        (self_attention): AddNorm(\n",
              "          (layer): MultiHeadAttention(\n",
              "            (query_proj): Linear(in_features=512, out_features=512, bias=True)\n",
              "            (key_proj): Linear(in_features=512, out_features=512, bias=True)\n",
              "            (value_proj): Linear(in_features=512, out_features=512, bias=True)\n",
              "            (scaled_dot_attn): ScaledDotProductAttention()\n",
              "            (linear): Linear(in_features=512, out_features=512, bias=True)\n",
              "          )\n",
              "          (layer_norm): LayerNorm((512,), eps=1e-12, elementwise_affine=True)\n",
              "        )\n",
              "        (feed_forward): AddNorm(\n",
              "          (layer): PoswiseFeedForward(\n",
              "            (feed_forward): Sequential(\n",
              "              (0): Linear(in_features=512, out_features=1024, bias=True)\n",
              "              (1): Dropout(p=0.1, inplace=False)\n",
              "              (2): ReLU()\n",
              "              (3): Linear(in_features=1024, out_features=512, bias=True)\n",
              "              (4): Dropout(p=0.1, inplace=False)\n",
              "            )\n",
              "          )\n",
              "          (layer_norm): LayerNorm((512,), eps=1e-12, elementwise_affine=True)\n",
              "        )\n",
              "      )\n",
              "    )\n",
              "  )\n",
              "  (classifier): TransformerClassificationHead(\n",
              "    (dense): Linear(in_features=512, out_features=512, bias=True)\n",
              "    (dropout): Dropout(p=0.1, inplace=False)\n",
              "    (gelu): GELU(approximate=none)\n",
              "    (out_proj): Linear(in_features=512, out_features=2, bias=True)\n",
              "  )\n",
              ")"
            ]
          },
          "metadata": {},
          "execution_count": 68
        }
      ],
      "source": [
        "model.to(device)"
      ]
    },
    {
      "cell_type": "code",
      "execution_count": 69,
      "metadata": {
        "id": "XT3sizK_lDR0"
      },
      "outputs": [],
      "source": [
        "optimizer = torch.optim.AdamW(model.parameters(), lr=learning_rate, weight_decay=weight_decay)"
      ]
    },
    {
      "cell_type": "code",
      "execution_count": 70,
      "metadata": {
        "id": "O_QU0EYnOoz9"
      },
      "outputs": [],
      "source": [
        "def cal_acc(y_pred, y_true):\n",
        "    \"\"\"\n",
        "    acc 계산 함수\n",
        "    :param y_true: 정답 (bs, n_seq)\n",
        "    :param y_pred: 예측 값 (bs, n_seq, n_vocab)\n",
        "    \"\"\"\n",
        "    # 정답 여부 확인\n",
        "    y_pred = torch.argmax(y_pred, dim=-1).int()\n",
        "    matches = torch.eq(y_true, y_pred).int()\n",
        "    \n",
        "    # 정확도 계산\n",
        "    accuracy = torch.sum(matches) / matches.shape[0]\n",
        "    return accuracy"
      ]
    },
    {
      "cell_type": "code",
      "execution_count": 71,
      "metadata": {
        "id": "LvJAlFrmlDU3"
      },
      "outputs": [],
      "source": [
        "def train_step(batch, epoch, training):\n",
        "    batch = {key: value.to(device) for key, value in batch.items()}\n",
        "\n",
        "    if training is True:\n",
        "        model.train()\n",
        "        optimizer.zero_grad()\n",
        "\n",
        "        with torch.cuda.amp.autocast():\n",
        "\n",
        "            logits = model(enc_inputs=batch['enc_inputs'])[0]\n",
        "            \n",
        "            # BCE = nn.BCEWithLogitsLoss()\n",
        "            # loss = BCE(logits, batch['labels'])\n",
        "            CCE = nn.CrossEntropyLoss()\n",
        "            loss = CCE(logits.view(-1, config.num_labels), batch['labels'].view(-1))\n",
        "            acc = cal_acc(logits, batch['labels'])\n",
        "\n",
        "        loss.backward()\n",
        "        optimizer.step()\n",
        "            \n",
        "        lr = optimizer.param_groups[0][\"lr\"]\n",
        "\n",
        "        return loss, acc, round(lr, 10)\n",
        "\n",
        "    else:\n",
        "        model.eval()\n",
        "        with torch.no_grad():\n",
        "            logits = model(enc_inputs=batch['enc_inputs'])[0]\n",
        "\n",
        "            # BCE = nn.BCEWithLogitsLoss()\n",
        "            # loss = BCE(logits, batch['labels'])\n",
        "            CCE = nn.CrossEntropyLoss()\n",
        "            loss = CCE(logits.view(-1, config.num_labels), batch['labels'].view(-1))\n",
        "            acc = cal_acc(logits, batch['labels'])\n",
        "\n",
        "        return loss, acc"
      ]
    },
    {
      "cell_type": "code",
      "source": [
        "# class color:\n",
        "GREEN = '\\033[92m'\n",
        "YELLOW = '\\033[93m'\n",
        "END = '\\033[0m'"
      ],
      "metadata": {
        "id": "LBhQX6ttD1H5"
      },
      "execution_count": 72,
      "outputs": []
    },
    {
      "cell_type": "code",
      "execution_count": 73,
      "metadata": {
        "colab": {
          "base_uri": "https://localhost:8080/"
        },
        "id": "Kv-2vjF24nTY",
        "outputId": "090efdb7-315e-4326-8889-d31c6532318f"
      },
      "outputs": [
        {
          "output_type": "stream",
          "name": "stderr",
          "text": [
            "100%|██████████| 1875/1875 [02:35<00:00, 12.06it/s,      Epoch=1,      \u001b[92mLoss=0.3924\u001b[0m,      \u001b[93macc=0.8215\u001b[0m,    LR=0.0001]\n",
            "100%|██████████| 469/469 [00:31<00:00, 14.77it/s,        Epoch=1,  \u001b[92mVal Loss=0.3521\u001b[0m,  \u001b[93mVal acc=0.8505\u001b[0m]\n"
          ]
        },
        {
          "output_type": "stream",
          "name": "stdout",
          "text": [
            "\u001b[93mBest_Val_Loss is updated from   inf to 0.3521 on epoch 1\u001b[0m\n"
          ]
        },
        {
          "output_type": "stream",
          "name": "stderr",
          "text": [
            "100%|██████████| 1875/1875 [02:34<00:00, 12.11it/s,      Epoch=2,      \u001b[92mLoss=0.3032\u001b[0m,      \u001b[93macc=0.8739\u001b[0m,    LR=0.0001]\n",
            "100%|██████████| 469/469 [00:31<00:00, 14.84it/s,        Epoch=2,  \u001b[92mVal Loss=0.3612\u001b[0m,  \u001b[93mVal acc=0.8532\u001b[0m]\n",
            "100%|██████████| 1875/1875 [02:33<00:00, 12.20it/s,      Epoch=3,      \u001b[92mLoss=0.2505\u001b[0m,      \u001b[93macc=0.8985\u001b[0m,    LR=0.0001]\n",
            "100%|██████████| 469/469 [00:31<00:00, 14.94it/s,        Epoch=3,  \u001b[92mVal Loss=0.3563\u001b[0m,  \u001b[93mVal acc=0.8490\u001b[0m]\n",
            "100%|██████████| 1875/1875 [02:33<00:00, 12.21it/s,      Epoch=4,      \u001b[92mLoss=0.2012\u001b[0m,      \u001b[93macc=0.9209\u001b[0m,    LR=0.0001]\n",
            "100%|██████████| 469/469 [00:31<00:00, 14.95it/s,        Epoch=4,  \u001b[92mVal Loss=0.4165\u001b[0m,  \u001b[93mVal acc=0.8405\u001b[0m]\n",
            "100%|██████████| 1875/1875 [02:34<00:00, 12.13it/s,      Epoch=5,      \u001b[92mLoss=0.1573\u001b[0m,      \u001b[93macc=0.9405\u001b[0m,    LR=0.0001]\n",
            "100%|██████████| 469/469 [00:31<00:00, 14.94it/s,        Epoch=5,  \u001b[92mVal Loss=0.4823\u001b[0m,  \u001b[93mVal acc=0.8414\u001b[0m]\n",
            "100%|██████████| 1875/1875 [02:34<00:00, 12.16it/s,      Epoch=6,      \u001b[92mLoss=0.1238\u001b[0m,      \u001b[93macc=0.9543\u001b[0m,    LR=0.0001]\n",
            "100%|██████████| 469/469 [00:31<00:00, 14.90it/s,        Epoch=6,  \u001b[92mVal Loss=0.5683\u001b[0m,  \u001b[93mVal acc=0.8366\u001b[0m]\n",
            "100%|██████████| 1875/1875 [02:34<00:00, 12.13it/s,      Epoch=7,      \u001b[92mLoss=0.0970\u001b[0m,      \u001b[93macc=0.9654\u001b[0m,    LR=0.0001]\n",
            "100%|██████████| 469/469 [00:31<00:00, 14.91it/s,        Epoch=7,  \u001b[92mVal Loss=0.5174\u001b[0m,  \u001b[93mVal acc=0.8314\u001b[0m]\n",
            "100%|██████████| 1875/1875 [02:34<00:00, 12.14it/s,      Epoch=8,      \u001b[92mLoss=0.0774\u001b[0m,      \u001b[93macc=0.9734\u001b[0m,    LR=0.0001]\n",
            "100%|██████████| 469/469 [00:31<00:00, 14.83it/s,        Epoch=8,  \u001b[92mVal Loss=0.5840\u001b[0m,  \u001b[93mVal acc=0.8351\u001b[0m]\n",
            "100%|██████████| 1875/1875 [02:34<00:00, 12.11it/s,      Epoch=9,      \u001b[92mLoss=0.0638\u001b[0m,      \u001b[93macc=0.9785\u001b[0m,    LR=0.0001]\n",
            "100%|██████████| 469/469 [00:31<00:00, 14.96it/s,        Epoch=9,  \u001b[92mVal Loss=0.6644\u001b[0m,  \u001b[93mVal acc=0.8342\u001b[0m]\n",
            "100%|██████████| 1875/1875 [02:34<00:00, 12.13it/s,      Epoch=10,      \u001b[92mLoss=0.0569\u001b[0m,      \u001b[93macc=0.9810\u001b[0m,    LR=0.0001]\n",
            "100%|██████████| 469/469 [00:31<00:00, 14.91it/s,        Epoch=10,  \u001b[92mVal Loss=0.6925\u001b[0m,  \u001b[93mVal acc=0.8313\u001b[0m]\n",
            "100%|██████████| 1875/1875 [02:34<00:00, 12.17it/s,      Epoch=11,      \u001b[92mLoss=0.0488\u001b[0m,      \u001b[93macc=0.9839\u001b[0m,    LR=0.0001]\n",
            "100%|██████████| 469/469 [00:31<00:00, 14.98it/s,        Epoch=11,  \u001b[92mVal Loss=0.6964\u001b[0m,  \u001b[93mVal acc=0.8335\u001b[0m]"
          ]
        },
        {
          "output_type": "stream",
          "name": "stdout",
          "text": [
            "CPU times: user 34min 10s, sys: 16.8 s, total: 34min 27s\n",
            "Wall time: 34min 7s\n"
          ]
        },
        {
          "output_type": "stream",
          "name": "stderr",
          "text": [
            "\n"
          ]
        }
      ],
      "source": [
        "%%time\n",
        "# train\n",
        "\n",
        "loss_plot, val_loss_plot = [], []\n",
        "lrs = []\n",
        "\n",
        "best_val_acc = 0\n",
        "best_val_loss = np.inf\n",
        "\n",
        "best_epoch = 0\n",
        "patience = 0\n",
        "\n",
        "for epoch in range(epochs):\n",
        "    gc.collect()\n",
        "    total_loss, total_val_loss = 0, 0\n",
        "    total_acc, total_val_acc = 0, 0\n",
        "    \n",
        "    tqdm_dataset = tqdm(enumerate(train_dataloader), total=train_dataloader.__len__())\n",
        "    training = True\n",
        "    for batch_idx, batch in tqdm_dataset:\n",
        "        batch_loss, batch_acc, lr = train_step(batch, epoch, training)\n",
        "        total_loss += batch_loss\n",
        "        total_acc += batch_acc\n",
        "        \n",
        "        tqdm_dataset.set_postfix({\n",
        "            '%+10s' % 'Epoch': epoch + 1,\n",
        "            '%10s' % GREEN + 'Loss' : '{:.4f}'.format(total_loss/(batch_idx+1)) + END,\n",
        "            '%10s' % YELLOW + 'acc' : '{:.4f}'.format(total_acc/(batch_idx+1)) + END,\n",
        "            '%5s' % 'LR' : lr,\n",
        "        })\n",
        "            \n",
        "    train_epoch_loss = round(float((total_loss/(batch_idx+1)).detach().cpu()), 4)\n",
        "    loss_plot.append(train_epoch_loss)\n",
        "    \n",
        "    tqdm_dataset = tqdm(enumerate(valid_dataloader), total=valid_dataloader.__len__())\n",
        "    training = False\n",
        "    for batch_idx, batch in tqdm_dataset:\n",
        "        batch_loss, batch_acc = train_step(batch, epoch, training)\n",
        "        total_val_loss += batch_loss\n",
        "        total_val_acc += batch_acc\n",
        "\n",
        "        tqdm_dataset.set_postfix({\n",
        "            '%+12s' % 'Epoch': epoch + 1,\n",
        "            '%6s' % GREEN + 'Val Loss' : '{:.4f}'.format(total_val_loss/(batch_idx+1)) + END,\n",
        "            '%6s' % YELLOW + 'Val acc' : '{:.4f}'.format(total_val_acc/(batch_idx+1)) + END,\n",
        "        })\n",
        "\n",
        "    valid_epoch_loss = round(float((total_val_loss/(batch_idx+1)).detach().cpu()), 4)\n",
        "    val_loss_plot.append(valid_epoch_loss) \n",
        "\n",
        "    cur_val_loss = round(float((total_val_loss/(batch_idx+1)).detach().cpu()), 3)\n",
        "    cur_val_acc = round(float((total_val_acc/(batch_idx+1))), 3)\n",
        "\n",
        "    if valid_epoch_loss < best_val_loss:\n",
        "        print(YELLOW + 'Best_Val_Loss is updated from {:>5} to {:>5} on epoch {}'.format(best_val_loss, valid_epoch_loss, epoch+1) + END)\n",
        "        best_val_loss = valid_epoch_loss\n",
        "        best_epoch = epoch+1\n",
        "        torch.save(model.state_dict(), './'+save_name+'.ckpt')\n",
        "        patience = 0\n",
        "    else:\n",
        "        patience += 1\n",
        "    \n",
        "    lrs.append(lr)\n",
        "    \n",
        "    if patience == early_stopping_patience:\n",
        "        break"
      ]
    },
    {
      "cell_type": "code",
      "execution_count": 74,
      "metadata": {
        "id": "9ZwKB-qmLNZj",
        "colab": {
          "base_uri": "https://localhost:8080/"
        },
        "outputId": "c2f92011-6f02-4e58-abb4-618a3caa0fe9"
      },
      "outputs": [
        {
          "output_type": "execute_result",
          "data": {
            "text/plain": [
              "Transformer_Classifier(\n",
              "  (encoder): TransformerEncoder(\n",
              "    (word_embedding): Embedding(32500, 512, padding_idx=0)\n",
              "    (layers): ModuleList(\n",
              "      (0): TransformerEncoderLayer(\n",
              "        (self_attention): AddNorm(\n",
              "          (layer): MultiHeadAttention(\n",
              "            (query_proj): Linear(in_features=512, out_features=512, bias=True)\n",
              "            (key_proj): Linear(in_features=512, out_features=512, bias=True)\n",
              "            (value_proj): Linear(in_features=512, out_features=512, bias=True)\n",
              "            (scaled_dot_attn): ScaledDotProductAttention()\n",
              "            (linear): Linear(in_features=512, out_features=512, bias=True)\n",
              "          )\n",
              "          (layer_norm): LayerNorm((512,), eps=1e-12, elementwise_affine=True)\n",
              "        )\n",
              "        (feed_forward): AddNorm(\n",
              "          (layer): PoswiseFeedForward(\n",
              "            (feed_forward): Sequential(\n",
              "              (0): Linear(in_features=512, out_features=1024, bias=True)\n",
              "              (1): Dropout(p=0.1, inplace=False)\n",
              "              (2): ReLU()\n",
              "              (3): Linear(in_features=1024, out_features=512, bias=True)\n",
              "              (4): Dropout(p=0.1, inplace=False)\n",
              "            )\n",
              "          )\n",
              "          (layer_norm): LayerNorm((512,), eps=1e-12, elementwise_affine=True)\n",
              "        )\n",
              "      )\n",
              "      (1): TransformerEncoderLayer(\n",
              "        (self_attention): AddNorm(\n",
              "          (layer): MultiHeadAttention(\n",
              "            (query_proj): Linear(in_features=512, out_features=512, bias=True)\n",
              "            (key_proj): Linear(in_features=512, out_features=512, bias=True)\n",
              "            (value_proj): Linear(in_features=512, out_features=512, bias=True)\n",
              "            (scaled_dot_attn): ScaledDotProductAttention()\n",
              "            (linear): Linear(in_features=512, out_features=512, bias=True)\n",
              "          )\n",
              "          (layer_norm): LayerNorm((512,), eps=1e-12, elementwise_affine=True)\n",
              "        )\n",
              "        (feed_forward): AddNorm(\n",
              "          (layer): PoswiseFeedForward(\n",
              "            (feed_forward): Sequential(\n",
              "              (0): Linear(in_features=512, out_features=1024, bias=True)\n",
              "              (1): Dropout(p=0.1, inplace=False)\n",
              "              (2): ReLU()\n",
              "              (3): Linear(in_features=1024, out_features=512, bias=True)\n",
              "              (4): Dropout(p=0.1, inplace=False)\n",
              "            )\n",
              "          )\n",
              "          (layer_norm): LayerNorm((512,), eps=1e-12, elementwise_affine=True)\n",
              "        )\n",
              "      )\n",
              "      (2): TransformerEncoderLayer(\n",
              "        (self_attention): AddNorm(\n",
              "          (layer): MultiHeadAttention(\n",
              "            (query_proj): Linear(in_features=512, out_features=512, bias=True)\n",
              "            (key_proj): Linear(in_features=512, out_features=512, bias=True)\n",
              "            (value_proj): Linear(in_features=512, out_features=512, bias=True)\n",
              "            (scaled_dot_attn): ScaledDotProductAttention()\n",
              "            (linear): Linear(in_features=512, out_features=512, bias=True)\n",
              "          )\n",
              "          (layer_norm): LayerNorm((512,), eps=1e-12, elementwise_affine=True)\n",
              "        )\n",
              "        (feed_forward): AddNorm(\n",
              "          (layer): PoswiseFeedForward(\n",
              "            (feed_forward): Sequential(\n",
              "              (0): Linear(in_features=512, out_features=1024, bias=True)\n",
              "              (1): Dropout(p=0.1, inplace=False)\n",
              "              (2): ReLU()\n",
              "              (3): Linear(in_features=1024, out_features=512, bias=True)\n",
              "              (4): Dropout(p=0.1, inplace=False)\n",
              "            )\n",
              "          )\n",
              "          (layer_norm): LayerNorm((512,), eps=1e-12, elementwise_affine=True)\n",
              "        )\n",
              "      )\n",
              "      (3): TransformerEncoderLayer(\n",
              "        (self_attention): AddNorm(\n",
              "          (layer): MultiHeadAttention(\n",
              "            (query_proj): Linear(in_features=512, out_features=512, bias=True)\n",
              "            (key_proj): Linear(in_features=512, out_features=512, bias=True)\n",
              "            (value_proj): Linear(in_features=512, out_features=512, bias=True)\n",
              "            (scaled_dot_attn): ScaledDotProductAttention()\n",
              "            (linear): Linear(in_features=512, out_features=512, bias=True)\n",
              "          )\n",
              "          (layer_norm): LayerNorm((512,), eps=1e-12, elementwise_affine=True)\n",
              "        )\n",
              "        (feed_forward): AddNorm(\n",
              "          (layer): PoswiseFeedForward(\n",
              "            (feed_forward): Sequential(\n",
              "              (0): Linear(in_features=512, out_features=1024, bias=True)\n",
              "              (1): Dropout(p=0.1, inplace=False)\n",
              "              (2): ReLU()\n",
              "              (3): Linear(in_features=1024, out_features=512, bias=True)\n",
              "              (4): Dropout(p=0.1, inplace=False)\n",
              "            )\n",
              "          )\n",
              "          (layer_norm): LayerNorm((512,), eps=1e-12, elementwise_affine=True)\n",
              "        )\n",
              "      )\n",
              "      (4): TransformerEncoderLayer(\n",
              "        (self_attention): AddNorm(\n",
              "          (layer): MultiHeadAttention(\n",
              "            (query_proj): Linear(in_features=512, out_features=512, bias=True)\n",
              "            (key_proj): Linear(in_features=512, out_features=512, bias=True)\n",
              "            (value_proj): Linear(in_features=512, out_features=512, bias=True)\n",
              "            (scaled_dot_attn): ScaledDotProductAttention()\n",
              "            (linear): Linear(in_features=512, out_features=512, bias=True)\n",
              "          )\n",
              "          (layer_norm): LayerNorm((512,), eps=1e-12, elementwise_affine=True)\n",
              "        )\n",
              "        (feed_forward): AddNorm(\n",
              "          (layer): PoswiseFeedForward(\n",
              "            (feed_forward): Sequential(\n",
              "              (0): Linear(in_features=512, out_features=1024, bias=True)\n",
              "              (1): Dropout(p=0.1, inplace=False)\n",
              "              (2): ReLU()\n",
              "              (3): Linear(in_features=1024, out_features=512, bias=True)\n",
              "              (4): Dropout(p=0.1, inplace=False)\n",
              "            )\n",
              "          )\n",
              "          (layer_norm): LayerNorm((512,), eps=1e-12, elementwise_affine=True)\n",
              "        )\n",
              "      )\n",
              "      (5): TransformerEncoderLayer(\n",
              "        (self_attention): AddNorm(\n",
              "          (layer): MultiHeadAttention(\n",
              "            (query_proj): Linear(in_features=512, out_features=512, bias=True)\n",
              "            (key_proj): Linear(in_features=512, out_features=512, bias=True)\n",
              "            (value_proj): Linear(in_features=512, out_features=512, bias=True)\n",
              "            (scaled_dot_attn): ScaledDotProductAttention()\n",
              "            (linear): Linear(in_features=512, out_features=512, bias=True)\n",
              "          )\n",
              "          (layer_norm): LayerNorm((512,), eps=1e-12, elementwise_affine=True)\n",
              "        )\n",
              "        (feed_forward): AddNorm(\n",
              "          (layer): PoswiseFeedForward(\n",
              "            (feed_forward): Sequential(\n",
              "              (0): Linear(in_features=512, out_features=1024, bias=True)\n",
              "              (1): Dropout(p=0.1, inplace=False)\n",
              "              (2): ReLU()\n",
              "              (3): Linear(in_features=1024, out_features=512, bias=True)\n",
              "              (4): Dropout(p=0.1, inplace=False)\n",
              "            )\n",
              "          )\n",
              "          (layer_norm): LayerNorm((512,), eps=1e-12, elementwise_affine=True)\n",
              "        )\n",
              "      )\n",
              "    )\n",
              "  )\n",
              "  (classifier): TransformerClassificationHead(\n",
              "    (dense): Linear(in_features=512, out_features=512, bias=True)\n",
              "    (dropout): Dropout(p=0.1, inplace=False)\n",
              "    (gelu): GELU(approximate=none)\n",
              "    (out_proj): Linear(in_features=512, out_features=2, bias=True)\n",
              "  )\n",
              ")"
            ]
          },
          "metadata": {},
          "execution_count": 74
        }
      ],
      "source": [
        "model.load_state_dict(torch.load('./'+save_name+'.ckpt'))\n",
        "model.eval()"
      ]
    },
    {
      "cell_type": "code",
      "execution_count": 75,
      "metadata": {
        "id": "lCOajkIDgCJs"
      },
      "outputs": [],
      "source": [
        "def inference(text, max_input_len):\n",
        "    labels = ['부정', '긍정']\n",
        "\n",
        "    inputs = torch.tensor(tokenizer.encode(str(text),\n",
        "                                           max_length=max_input_len, \n",
        "                                           padding='max_length', \n",
        "                                           truncation='only_first'), \n",
        "                              dtype=int).unsqueeze(0).to(device)\n",
        "\n",
        "    logits = model(inputs)[0].detach().to('cpu')\n",
        "    \n",
        "    outputs = int(torch.argmax(logits, dim=-1)[0])\n",
        "    score = float(torch.max(nn.Softmax(dim=-1)(logits)))\n",
        "\n",
        "    \n",
        "    return labels[outputs], score"
      ]
    },
    {
      "cell_type": "code",
      "execution_count": 76,
      "metadata": {
        "id": "DmJUg1slNpFO",
        "colab": {
          "base_uri": "https://localhost:8080/"
        },
        "outputId": "b2cc3a80-8dd6-45af-f5ec-1ec3e7b925ce"
      },
      "outputs": [
        {
          "output_type": "execute_result",
          "data": {
            "text/plain": [
              "('부정', 0.9134500026702881)"
            ]
          },
          "metadata": {},
          "execution_count": 76
        }
      ],
      "source": [
        "text = '뭐 이따구로 영화를 만들어놨어 ㅋㅋ'\n",
        "inference(text, config.max_enc_len)"
      ]
    },
    {
      "cell_type": "code",
      "source": [
        "text = '명작이라는 평을 이해할 수가 없다. 이딴 게?'\n",
        "inference(text, config.max_enc_len)"
      ],
      "metadata": {
        "colab": {
          "base_uri": "https://localhost:8080/"
        },
        "id": "7HBQgotp6NNK",
        "outputId": "105fa21f-c06d-424b-c8ad-ff8d78e1c1e9"
      },
      "execution_count": 77,
      "outputs": [
        {
          "output_type": "execute_result",
          "data": {
            "text/plain": [
              "('부정', 0.7407488226890564)"
            ]
          },
          "metadata": {},
          "execution_count": 77
        }
      ]
    },
    {
      "cell_type": "code",
      "source": [
        "text = '두 번 봐도 질리지 않는 영화'\n",
        "inference(text, config.max_enc_len)"
      ],
      "metadata": {
        "colab": {
          "base_uri": "https://localhost:8080/"
        },
        "id": "d6aHMWz56nHZ",
        "outputId": "205cedab-7c15-47e2-8cd4-073da5074daf"
      },
      "execution_count": 78,
      "outputs": [
        {
          "output_type": "execute_result",
          "data": {
            "text/plain": [
              "('긍정', 0.8983094692230225)"
            ]
          },
          "metadata": {},
          "execution_count": 78
        }
      ]
    },
    {
      "cell_type": "code",
      "source": [
        "text = '어이가 없네 ㅋㅋㅋㅋ'\n",
        "inference(text, config.max_enc_len)"
      ],
      "metadata": {
        "colab": {
          "base_uri": "https://localhost:8080/"
        },
        "id": "U0CAVsVL7Ltj",
        "outputId": "bddaea44-0e66-4dc2-c81e-ecbdae9ee464"
      },
      "execution_count": 79,
      "outputs": [
        {
          "output_type": "execute_result",
          "data": {
            "text/plain": [
              "('부정', 0.9635804891586304)"
            ]
          },
          "metadata": {},
          "execution_count": 79
        }
      ]
    },
    {
      "cell_type": "code",
      "source": [],
      "metadata": {
        "id": "N8yqCGzdYD9t"
      },
      "execution_count": null,
      "outputs": []
    }
  ],
  "metadata": {
    "accelerator": "GPU",
    "colab": {
      "machine_shape": "hm",
      "provenance": []
    },
    "gpuClass": "standard",
    "kernelspec": {
      "display_name": "Python 3",
      "name": "python3"
    },
    "language_info": {
      "name": "python"
    },
    "widgets": {
      "application/vnd.jupyter.widget-state+json": {
        "92cbd0a040654f5698a5928f9946e80d": {
          "model_module": "@jupyter-widgets/controls",
          "model_name": "HBoxModel",
          "model_module_version": "1.5.0",
          "state": {
            "_dom_classes": [],
            "_model_module": "@jupyter-widgets/controls",
            "_model_module_version": "1.5.0",
            "_model_name": "HBoxModel",
            "_view_count": null,
            "_view_module": "@jupyter-widgets/controls",
            "_view_module_version": "1.5.0",
            "_view_name": "HBoxView",
            "box_style": "",
            "children": [
              "IPY_MODEL_ae45cc4a217e4d98b2581e9ab9975e63",
              "IPY_MODEL_0a491ab047774ecbac12a49384bf83bb",
              "IPY_MODEL_5e174a874e654d3996660eb524d491f7"
            ],
            "layout": "IPY_MODEL_f38cb874ce6d4dcdbbf49db00b4cd4fd"
          }
        },
        "ae45cc4a217e4d98b2581e9ab9975e63": {
          "model_module": "@jupyter-widgets/controls",
          "model_name": "HTMLModel",
          "model_module_version": "1.5.0",
          "state": {
            "_dom_classes": [],
            "_model_module": "@jupyter-widgets/controls",
            "_model_module_version": "1.5.0",
            "_model_name": "HTMLModel",
            "_view_count": null,
            "_view_module": "@jupyter-widgets/controls",
            "_view_module_version": "1.5.0",
            "_view_name": "HTMLView",
            "description": "",
            "description_tooltip": null,
            "layout": "IPY_MODEL_3d0f63a19d6e4452b39414548dfe35e2",
            "placeholder": "​",
            "style": "IPY_MODEL_5e60061588d04a00ac0ff76e775faf88",
            "value": "Downloading: 100%"
          }
        },
        "0a491ab047774ecbac12a49384bf83bb": {
          "model_module": "@jupyter-widgets/controls",
          "model_name": "FloatProgressModel",
          "model_module_version": "1.5.0",
          "state": {
            "_dom_classes": [],
            "_model_module": "@jupyter-widgets/controls",
            "_model_module_version": "1.5.0",
            "_model_name": "FloatProgressModel",
            "_view_count": null,
            "_view_module": "@jupyter-widgets/controls",
            "_view_module_version": "1.5.0",
            "_view_name": "ProgressView",
            "bar_style": "success",
            "description": "",
            "description_tooltip": null,
            "layout": "IPY_MODEL_d87a0ee833b24d1dbb426e11a92e5a8b",
            "max": 870,
            "min": 0,
            "orientation": "horizontal",
            "style": "IPY_MODEL_e057e15200f6476ea9c31916fb441dc7",
            "value": 870
          }
        },
        "5e174a874e654d3996660eb524d491f7": {
          "model_module": "@jupyter-widgets/controls",
          "model_name": "HTMLModel",
          "model_module_version": "1.5.0",
          "state": {
            "_dom_classes": [],
            "_model_module": "@jupyter-widgets/controls",
            "_model_module_version": "1.5.0",
            "_model_name": "HTMLModel",
            "_view_count": null,
            "_view_module": "@jupyter-widgets/controls",
            "_view_module_version": "1.5.0",
            "_view_name": "HTMLView",
            "description": "",
            "description_tooltip": null,
            "layout": "IPY_MODEL_5a6f5f72cb634885bea66cd84cacafb1",
            "placeholder": "​",
            "style": "IPY_MODEL_c76aae7231034469a036ee6f1ab6f22e",
            "value": " 870/870 [00:00&lt;00:00, 17.7kB/s]"
          }
        },
        "f38cb874ce6d4dcdbbf49db00b4cd4fd": {
          "model_module": "@jupyter-widgets/base",
          "model_name": "LayoutModel",
          "model_module_version": "1.2.0",
          "state": {
            "_model_module": "@jupyter-widgets/base",
            "_model_module_version": "1.2.0",
            "_model_name": "LayoutModel",
            "_view_count": null,
            "_view_module": "@jupyter-widgets/base",
            "_view_module_version": "1.2.0",
            "_view_name": "LayoutView",
            "align_content": null,
            "align_items": null,
            "align_self": null,
            "border": null,
            "bottom": null,
            "display": null,
            "flex": null,
            "flex_flow": null,
            "grid_area": null,
            "grid_auto_columns": null,
            "grid_auto_flow": null,
            "grid_auto_rows": null,
            "grid_column": null,
            "grid_gap": null,
            "grid_row": null,
            "grid_template_areas": null,
            "grid_template_columns": null,
            "grid_template_rows": null,
            "height": null,
            "justify_content": null,
            "justify_items": null,
            "left": null,
            "margin": null,
            "max_height": null,
            "max_width": null,
            "min_height": null,
            "min_width": null,
            "object_fit": null,
            "object_position": null,
            "order": null,
            "overflow": null,
            "overflow_x": null,
            "overflow_y": null,
            "padding": null,
            "right": null,
            "top": null,
            "visibility": null,
            "width": null
          }
        },
        "3d0f63a19d6e4452b39414548dfe35e2": {
          "model_module": "@jupyter-widgets/base",
          "model_name": "LayoutModel",
          "model_module_version": "1.2.0",
          "state": {
            "_model_module": "@jupyter-widgets/base",
            "_model_module_version": "1.2.0",
            "_model_name": "LayoutModel",
            "_view_count": null,
            "_view_module": "@jupyter-widgets/base",
            "_view_module_version": "1.2.0",
            "_view_name": "LayoutView",
            "align_content": null,
            "align_items": null,
            "align_self": null,
            "border": null,
            "bottom": null,
            "display": null,
            "flex": null,
            "flex_flow": null,
            "grid_area": null,
            "grid_auto_columns": null,
            "grid_auto_flow": null,
            "grid_auto_rows": null,
            "grid_column": null,
            "grid_gap": null,
            "grid_row": null,
            "grid_template_areas": null,
            "grid_template_columns": null,
            "grid_template_rows": null,
            "height": null,
            "justify_content": null,
            "justify_items": null,
            "left": null,
            "margin": null,
            "max_height": null,
            "max_width": null,
            "min_height": null,
            "min_width": null,
            "object_fit": null,
            "object_position": null,
            "order": null,
            "overflow": null,
            "overflow_x": null,
            "overflow_y": null,
            "padding": null,
            "right": null,
            "top": null,
            "visibility": null,
            "width": null
          }
        },
        "5e60061588d04a00ac0ff76e775faf88": {
          "model_module": "@jupyter-widgets/controls",
          "model_name": "DescriptionStyleModel",
          "model_module_version": "1.5.0",
          "state": {
            "_model_module": "@jupyter-widgets/controls",
            "_model_module_version": "1.5.0",
            "_model_name": "DescriptionStyleModel",
            "_view_count": null,
            "_view_module": "@jupyter-widgets/base",
            "_view_module_version": "1.2.0",
            "_view_name": "StyleView",
            "description_width": ""
          }
        },
        "d87a0ee833b24d1dbb426e11a92e5a8b": {
          "model_module": "@jupyter-widgets/base",
          "model_name": "LayoutModel",
          "model_module_version": "1.2.0",
          "state": {
            "_model_module": "@jupyter-widgets/base",
            "_model_module_version": "1.2.0",
            "_model_name": "LayoutModel",
            "_view_count": null,
            "_view_module": "@jupyter-widgets/base",
            "_view_module_version": "1.2.0",
            "_view_name": "LayoutView",
            "align_content": null,
            "align_items": null,
            "align_self": null,
            "border": null,
            "bottom": null,
            "display": null,
            "flex": null,
            "flex_flow": null,
            "grid_area": null,
            "grid_auto_columns": null,
            "grid_auto_flow": null,
            "grid_auto_rows": null,
            "grid_column": null,
            "grid_gap": null,
            "grid_row": null,
            "grid_template_areas": null,
            "grid_template_columns": null,
            "grid_template_rows": null,
            "height": null,
            "justify_content": null,
            "justify_items": null,
            "left": null,
            "margin": null,
            "max_height": null,
            "max_width": null,
            "min_height": null,
            "min_width": null,
            "object_fit": null,
            "object_position": null,
            "order": null,
            "overflow": null,
            "overflow_x": null,
            "overflow_y": null,
            "padding": null,
            "right": null,
            "top": null,
            "visibility": null,
            "width": null
          }
        },
        "e057e15200f6476ea9c31916fb441dc7": {
          "model_module": "@jupyter-widgets/controls",
          "model_name": "ProgressStyleModel",
          "model_module_version": "1.5.0",
          "state": {
            "_model_module": "@jupyter-widgets/controls",
            "_model_module_version": "1.5.0",
            "_model_name": "ProgressStyleModel",
            "_view_count": null,
            "_view_module": "@jupyter-widgets/base",
            "_view_module_version": "1.2.0",
            "_view_name": "StyleView",
            "bar_color": null,
            "description_width": ""
          }
        },
        "5a6f5f72cb634885bea66cd84cacafb1": {
          "model_module": "@jupyter-widgets/base",
          "model_name": "LayoutModel",
          "model_module_version": "1.2.0",
          "state": {
            "_model_module": "@jupyter-widgets/base",
            "_model_module_version": "1.2.0",
            "_model_name": "LayoutModel",
            "_view_count": null,
            "_view_module": "@jupyter-widgets/base",
            "_view_module_version": "1.2.0",
            "_view_name": "LayoutView",
            "align_content": null,
            "align_items": null,
            "align_self": null,
            "border": null,
            "bottom": null,
            "display": null,
            "flex": null,
            "flex_flow": null,
            "grid_area": null,
            "grid_auto_columns": null,
            "grid_auto_flow": null,
            "grid_auto_rows": null,
            "grid_column": null,
            "grid_gap": null,
            "grid_row": null,
            "grid_template_areas": null,
            "grid_template_columns": null,
            "grid_template_rows": null,
            "height": null,
            "justify_content": null,
            "justify_items": null,
            "left": null,
            "margin": null,
            "max_height": null,
            "max_width": null,
            "min_height": null,
            "min_width": null,
            "object_fit": null,
            "object_position": null,
            "order": null,
            "overflow": null,
            "overflow_x": null,
            "overflow_y": null,
            "padding": null,
            "right": null,
            "top": null,
            "visibility": null,
            "width": null
          }
        },
        "c76aae7231034469a036ee6f1ab6f22e": {
          "model_module": "@jupyter-widgets/controls",
          "model_name": "DescriptionStyleModel",
          "model_module_version": "1.5.0",
          "state": {
            "_model_module": "@jupyter-widgets/controls",
            "_model_module_version": "1.5.0",
            "_model_name": "DescriptionStyleModel",
            "_view_count": null,
            "_view_module": "@jupyter-widgets/base",
            "_view_module_version": "1.2.0",
            "_view_name": "StyleView",
            "description_width": ""
          }
        },
        "5bc46d1a727848ecad49f945658c8d56": {
          "model_module": "@jupyter-widgets/controls",
          "model_name": "HBoxModel",
          "model_module_version": "1.5.0",
          "state": {
            "_dom_classes": [],
            "_model_module": "@jupyter-widgets/controls",
            "_model_module_version": "1.5.0",
            "_model_name": "HBoxModel",
            "_view_count": null,
            "_view_module": "@jupyter-widgets/controls",
            "_view_module_version": "1.5.0",
            "_view_name": "HBoxView",
            "box_style": "",
            "children": [
              "IPY_MODEL_39287ff1b30842bdb81e4b0e7e7b6413",
              "IPY_MODEL_d2c32edcfd1b449d9eb0b4d2105115bd",
              "IPY_MODEL_0168bd4ab55d471db5aab4d7046d8f31"
            ],
            "layout": "IPY_MODEL_e448245a1c1b40f8b9eb4a5d458224ec"
          }
        },
        "39287ff1b30842bdb81e4b0e7e7b6413": {
          "model_module": "@jupyter-widgets/controls",
          "model_name": "HTMLModel",
          "model_module_version": "1.5.0",
          "state": {
            "_dom_classes": [],
            "_model_module": "@jupyter-widgets/controls",
            "_model_module_version": "1.5.0",
            "_model_name": "HTMLModel",
            "_view_count": null,
            "_view_module": "@jupyter-widgets/controls",
            "_view_module_version": "1.5.0",
            "_view_name": "HTMLView",
            "description": "",
            "description_tooltip": null,
            "layout": "IPY_MODEL_2ace21e04078427c946fb12e5a325770",
            "placeholder": "​",
            "style": "IPY_MODEL_7aaf26aae3d94a469dfed344ec71cef4",
            "value": "Downloading: 100%"
          }
        },
        "d2c32edcfd1b449d9eb0b4d2105115bd": {
          "model_module": "@jupyter-widgets/controls",
          "model_name": "FloatProgressModel",
          "model_module_version": "1.5.0",
          "state": {
            "_dom_classes": [],
            "_model_module": "@jupyter-widgets/controls",
            "_model_module_version": "1.5.0",
            "_model_name": "FloatProgressModel",
            "_view_count": null,
            "_view_module": "@jupyter-widgets/controls",
            "_view_module_version": "1.5.0",
            "_view_name": "ProgressView",
            "bar_style": "success",
            "description": "",
            "description_tooltip": null,
            "layout": "IPY_MODEL_7fc049d8fee444ae81795f3cf8603311",
            "max": 241171,
            "min": 0,
            "orientation": "horizontal",
            "style": "IPY_MODEL_bd5906ba8094403caeaa89e5474a8eac",
            "value": 241171
          }
        },
        "0168bd4ab55d471db5aab4d7046d8f31": {
          "model_module": "@jupyter-widgets/controls",
          "model_name": "HTMLModel",
          "model_module_version": "1.5.0",
          "state": {
            "_dom_classes": [],
            "_model_module": "@jupyter-widgets/controls",
            "_model_module_version": "1.5.0",
            "_model_name": "HTMLModel",
            "_view_count": null,
            "_view_module": "@jupyter-widgets/controls",
            "_view_module_version": "1.5.0",
            "_view_name": "HTMLView",
            "description": "",
            "description_tooltip": null,
            "layout": "IPY_MODEL_6cd95fb956804ec7be17b964b0be2b8a",
            "placeholder": "​",
            "style": "IPY_MODEL_3ea4d00f14d14c1b92a468437aae9128",
            "value": " 241k/241k [00:00&lt;00:00, 233kB/s]"
          }
        },
        "e448245a1c1b40f8b9eb4a5d458224ec": {
          "model_module": "@jupyter-widgets/base",
          "model_name": "LayoutModel",
          "model_module_version": "1.2.0",
          "state": {
            "_model_module": "@jupyter-widgets/base",
            "_model_module_version": "1.2.0",
            "_model_name": "LayoutModel",
            "_view_count": null,
            "_view_module": "@jupyter-widgets/base",
            "_view_module_version": "1.2.0",
            "_view_name": "LayoutView",
            "align_content": null,
            "align_items": null,
            "align_self": null,
            "border": null,
            "bottom": null,
            "display": null,
            "flex": null,
            "flex_flow": null,
            "grid_area": null,
            "grid_auto_columns": null,
            "grid_auto_flow": null,
            "grid_auto_rows": null,
            "grid_column": null,
            "grid_gap": null,
            "grid_row": null,
            "grid_template_areas": null,
            "grid_template_columns": null,
            "grid_template_rows": null,
            "height": null,
            "justify_content": null,
            "justify_items": null,
            "left": null,
            "margin": null,
            "max_height": null,
            "max_width": null,
            "min_height": null,
            "min_width": null,
            "object_fit": null,
            "object_position": null,
            "order": null,
            "overflow": null,
            "overflow_x": null,
            "overflow_y": null,
            "padding": null,
            "right": null,
            "top": null,
            "visibility": null,
            "width": null
          }
        },
        "2ace21e04078427c946fb12e5a325770": {
          "model_module": "@jupyter-widgets/base",
          "model_name": "LayoutModel",
          "model_module_version": "1.2.0",
          "state": {
            "_model_module": "@jupyter-widgets/base",
            "_model_module_version": "1.2.0",
            "_model_name": "LayoutModel",
            "_view_count": null,
            "_view_module": "@jupyter-widgets/base",
            "_view_module_version": "1.2.0",
            "_view_name": "LayoutView",
            "align_content": null,
            "align_items": null,
            "align_self": null,
            "border": null,
            "bottom": null,
            "display": null,
            "flex": null,
            "flex_flow": null,
            "grid_area": null,
            "grid_auto_columns": null,
            "grid_auto_flow": null,
            "grid_auto_rows": null,
            "grid_column": null,
            "grid_gap": null,
            "grid_row": null,
            "grid_template_areas": null,
            "grid_template_columns": null,
            "grid_template_rows": null,
            "height": null,
            "justify_content": null,
            "justify_items": null,
            "left": null,
            "margin": null,
            "max_height": null,
            "max_width": null,
            "min_height": null,
            "min_width": null,
            "object_fit": null,
            "object_position": null,
            "order": null,
            "overflow": null,
            "overflow_x": null,
            "overflow_y": null,
            "padding": null,
            "right": null,
            "top": null,
            "visibility": null,
            "width": null
          }
        },
        "7aaf26aae3d94a469dfed344ec71cef4": {
          "model_module": "@jupyter-widgets/controls",
          "model_name": "DescriptionStyleModel",
          "model_module_version": "1.5.0",
          "state": {
            "_model_module": "@jupyter-widgets/controls",
            "_model_module_version": "1.5.0",
            "_model_name": "DescriptionStyleModel",
            "_view_count": null,
            "_view_module": "@jupyter-widgets/base",
            "_view_module_version": "1.2.0",
            "_view_name": "StyleView",
            "description_width": ""
          }
        },
        "7fc049d8fee444ae81795f3cf8603311": {
          "model_module": "@jupyter-widgets/base",
          "model_name": "LayoutModel",
          "model_module_version": "1.2.0",
          "state": {
            "_model_module": "@jupyter-widgets/base",
            "_model_module_version": "1.2.0",
            "_model_name": "LayoutModel",
            "_view_count": null,
            "_view_module": "@jupyter-widgets/base",
            "_view_module_version": "1.2.0",
            "_view_name": "LayoutView",
            "align_content": null,
            "align_items": null,
            "align_self": null,
            "border": null,
            "bottom": null,
            "display": null,
            "flex": null,
            "flex_flow": null,
            "grid_area": null,
            "grid_auto_columns": null,
            "grid_auto_flow": null,
            "grid_auto_rows": null,
            "grid_column": null,
            "grid_gap": null,
            "grid_row": null,
            "grid_template_areas": null,
            "grid_template_columns": null,
            "grid_template_rows": null,
            "height": null,
            "justify_content": null,
            "justify_items": null,
            "left": null,
            "margin": null,
            "max_height": null,
            "max_width": null,
            "min_height": null,
            "min_width": null,
            "object_fit": null,
            "object_position": null,
            "order": null,
            "overflow": null,
            "overflow_x": null,
            "overflow_y": null,
            "padding": null,
            "right": null,
            "top": null,
            "visibility": null,
            "width": null
          }
        },
        "bd5906ba8094403caeaa89e5474a8eac": {
          "model_module": "@jupyter-widgets/controls",
          "model_name": "ProgressStyleModel",
          "model_module_version": "1.5.0",
          "state": {
            "_model_module": "@jupyter-widgets/controls",
            "_model_module_version": "1.5.0",
            "_model_name": "ProgressStyleModel",
            "_view_count": null,
            "_view_module": "@jupyter-widgets/base",
            "_view_module_version": "1.2.0",
            "_view_name": "StyleView",
            "bar_color": null,
            "description_width": ""
          }
        },
        "6cd95fb956804ec7be17b964b0be2b8a": {
          "model_module": "@jupyter-widgets/base",
          "model_name": "LayoutModel",
          "model_module_version": "1.2.0",
          "state": {
            "_model_module": "@jupyter-widgets/base",
            "_model_module_version": "1.2.0",
            "_model_name": "LayoutModel",
            "_view_count": null,
            "_view_module": "@jupyter-widgets/base",
            "_view_module_version": "1.2.0",
            "_view_name": "LayoutView",
            "align_content": null,
            "align_items": null,
            "align_self": null,
            "border": null,
            "bottom": null,
            "display": null,
            "flex": null,
            "flex_flow": null,
            "grid_area": null,
            "grid_auto_columns": null,
            "grid_auto_flow": null,
            "grid_auto_rows": null,
            "grid_column": null,
            "grid_gap": null,
            "grid_row": null,
            "grid_template_areas": null,
            "grid_template_columns": null,
            "grid_template_rows": null,
            "height": null,
            "justify_content": null,
            "justify_items": null,
            "left": null,
            "margin": null,
            "max_height": null,
            "max_width": null,
            "min_height": null,
            "min_width": null,
            "object_fit": null,
            "object_position": null,
            "order": null,
            "overflow": null,
            "overflow_x": null,
            "overflow_y": null,
            "padding": null,
            "right": null,
            "top": null,
            "visibility": null,
            "width": null
          }
        },
        "3ea4d00f14d14c1b92a468437aae9128": {
          "model_module": "@jupyter-widgets/controls",
          "model_name": "DescriptionStyleModel",
          "model_module_version": "1.5.0",
          "state": {
            "_model_module": "@jupyter-widgets/controls",
            "_model_module_version": "1.5.0",
            "_model_name": "DescriptionStyleModel",
            "_view_count": null,
            "_view_module": "@jupyter-widgets/base",
            "_view_module_version": "1.2.0",
            "_view_name": "StyleView",
            "description_width": ""
          }
        },
        "9a375af964954092aaecebe4b2c5fce9": {
          "model_module": "@jupyter-widgets/controls",
          "model_name": "HBoxModel",
          "model_module_version": "1.5.0",
          "state": {
            "_dom_classes": [],
            "_model_module": "@jupyter-widgets/controls",
            "_model_module_version": "1.5.0",
            "_model_name": "HBoxModel",
            "_view_count": null,
            "_view_module": "@jupyter-widgets/controls",
            "_view_module_version": "1.5.0",
            "_view_name": "HBoxView",
            "box_style": "",
            "children": [
              "IPY_MODEL_5827a26295e64e738cbe87b7bd4e4a48",
              "IPY_MODEL_221c1a8a4b5441c5ab4593dd40c61a71",
              "IPY_MODEL_9e40485ab079427885796d09cf48831b"
            ],
            "layout": "IPY_MODEL_cadc85750c0147848169513df124285f"
          }
        },
        "5827a26295e64e738cbe87b7bd4e4a48": {
          "model_module": "@jupyter-widgets/controls",
          "model_name": "HTMLModel",
          "model_module_version": "1.5.0",
          "state": {
            "_dom_classes": [],
            "_model_module": "@jupyter-widgets/controls",
            "_model_module_version": "1.5.0",
            "_model_name": "HTMLModel",
            "_view_count": null,
            "_view_module": "@jupyter-widgets/controls",
            "_view_module_version": "1.5.0",
            "_view_name": "HTMLView",
            "description": "",
            "description_tooltip": null,
            "layout": "IPY_MODEL_b528b5980c6a4788baf76fbb628dabda",
            "placeholder": "​",
            "style": "IPY_MODEL_294885d29bd241668712d36eed4f2ae1",
            "value": "Downloading: 100%"
          }
        },
        "221c1a8a4b5441c5ab4593dd40c61a71": {
          "model_module": "@jupyter-widgets/controls",
          "model_name": "FloatProgressModel",
          "model_module_version": "1.5.0",
          "state": {
            "_dom_classes": [],
            "_model_module": "@jupyter-widgets/controls",
            "_model_module_version": "1.5.0",
            "_model_name": "FloatProgressModel",
            "_view_count": null,
            "_view_module": "@jupyter-widgets/controls",
            "_view_module_version": "1.5.0",
            "_view_name": "ProgressView",
            "bar_style": "success",
            "description": "",
            "description_tooltip": null,
            "layout": "IPY_MODEL_56d5a38c3ec44493a87eb9adda300e4e",
            "max": 491774,
            "min": 0,
            "orientation": "horizontal",
            "style": "IPY_MODEL_d487125453b04661a67c74ccc7d38f00",
            "value": 491774
          }
        },
        "9e40485ab079427885796d09cf48831b": {
          "model_module": "@jupyter-widgets/controls",
          "model_name": "HTMLModel",
          "model_module_version": "1.5.0",
          "state": {
            "_dom_classes": [],
            "_model_module": "@jupyter-widgets/controls",
            "_model_module_version": "1.5.0",
            "_model_name": "HTMLModel",
            "_view_count": null,
            "_view_module": "@jupyter-widgets/controls",
            "_view_module_version": "1.5.0",
            "_view_name": "HTMLView",
            "description": "",
            "description_tooltip": null,
            "layout": "IPY_MODEL_920a404e30b845469df99edc92febd34",
            "placeholder": "​",
            "style": "IPY_MODEL_28e6c6f0d6bb43329fec9d61f68fee0b",
            "value": " 492k/492k [00:00&lt;00:00, 584kB/s]"
          }
        },
        "cadc85750c0147848169513df124285f": {
          "model_module": "@jupyter-widgets/base",
          "model_name": "LayoutModel",
          "model_module_version": "1.2.0",
          "state": {
            "_model_module": "@jupyter-widgets/base",
            "_model_module_version": "1.2.0",
            "_model_name": "LayoutModel",
            "_view_count": null,
            "_view_module": "@jupyter-widgets/base",
            "_view_module_version": "1.2.0",
            "_view_name": "LayoutView",
            "align_content": null,
            "align_items": null,
            "align_self": null,
            "border": null,
            "bottom": null,
            "display": null,
            "flex": null,
            "flex_flow": null,
            "grid_area": null,
            "grid_auto_columns": null,
            "grid_auto_flow": null,
            "grid_auto_rows": null,
            "grid_column": null,
            "grid_gap": null,
            "grid_row": null,
            "grid_template_areas": null,
            "grid_template_columns": null,
            "grid_template_rows": null,
            "height": null,
            "justify_content": null,
            "justify_items": null,
            "left": null,
            "margin": null,
            "max_height": null,
            "max_width": null,
            "min_height": null,
            "min_width": null,
            "object_fit": null,
            "object_position": null,
            "order": null,
            "overflow": null,
            "overflow_x": null,
            "overflow_y": null,
            "padding": null,
            "right": null,
            "top": null,
            "visibility": null,
            "width": null
          }
        },
        "b528b5980c6a4788baf76fbb628dabda": {
          "model_module": "@jupyter-widgets/base",
          "model_name": "LayoutModel",
          "model_module_version": "1.2.0",
          "state": {
            "_model_module": "@jupyter-widgets/base",
            "_model_module_version": "1.2.0",
            "_model_name": "LayoutModel",
            "_view_count": null,
            "_view_module": "@jupyter-widgets/base",
            "_view_module_version": "1.2.0",
            "_view_name": "LayoutView",
            "align_content": null,
            "align_items": null,
            "align_self": null,
            "border": null,
            "bottom": null,
            "display": null,
            "flex": null,
            "flex_flow": null,
            "grid_area": null,
            "grid_auto_columns": null,
            "grid_auto_flow": null,
            "grid_auto_rows": null,
            "grid_column": null,
            "grid_gap": null,
            "grid_row": null,
            "grid_template_areas": null,
            "grid_template_columns": null,
            "grid_template_rows": null,
            "height": null,
            "justify_content": null,
            "justify_items": null,
            "left": null,
            "margin": null,
            "max_height": null,
            "max_width": null,
            "min_height": null,
            "min_width": null,
            "object_fit": null,
            "object_position": null,
            "order": null,
            "overflow": null,
            "overflow_x": null,
            "overflow_y": null,
            "padding": null,
            "right": null,
            "top": null,
            "visibility": null,
            "width": null
          }
        },
        "294885d29bd241668712d36eed4f2ae1": {
          "model_module": "@jupyter-widgets/controls",
          "model_name": "DescriptionStyleModel",
          "model_module_version": "1.5.0",
          "state": {
            "_model_module": "@jupyter-widgets/controls",
            "_model_module_version": "1.5.0",
            "_model_name": "DescriptionStyleModel",
            "_view_count": null,
            "_view_module": "@jupyter-widgets/base",
            "_view_module_version": "1.2.0",
            "_view_name": "StyleView",
            "description_width": ""
          }
        },
        "56d5a38c3ec44493a87eb9adda300e4e": {
          "model_module": "@jupyter-widgets/base",
          "model_name": "LayoutModel",
          "model_module_version": "1.2.0",
          "state": {
            "_model_module": "@jupyter-widgets/base",
            "_model_module_version": "1.2.0",
            "_model_name": "LayoutModel",
            "_view_count": null,
            "_view_module": "@jupyter-widgets/base",
            "_view_module_version": "1.2.0",
            "_view_name": "LayoutView",
            "align_content": null,
            "align_items": null,
            "align_self": null,
            "border": null,
            "bottom": null,
            "display": null,
            "flex": null,
            "flex_flow": null,
            "grid_area": null,
            "grid_auto_columns": null,
            "grid_auto_flow": null,
            "grid_auto_rows": null,
            "grid_column": null,
            "grid_gap": null,
            "grid_row": null,
            "grid_template_areas": null,
            "grid_template_columns": null,
            "grid_template_rows": null,
            "height": null,
            "justify_content": null,
            "justify_items": null,
            "left": null,
            "margin": null,
            "max_height": null,
            "max_width": null,
            "min_height": null,
            "min_width": null,
            "object_fit": null,
            "object_position": null,
            "order": null,
            "overflow": null,
            "overflow_x": null,
            "overflow_y": null,
            "padding": null,
            "right": null,
            "top": null,
            "visibility": null,
            "width": null
          }
        },
        "d487125453b04661a67c74ccc7d38f00": {
          "model_module": "@jupyter-widgets/controls",
          "model_name": "ProgressStyleModel",
          "model_module_version": "1.5.0",
          "state": {
            "_model_module": "@jupyter-widgets/controls",
            "_model_module_version": "1.5.0",
            "_model_name": "ProgressStyleModel",
            "_view_count": null,
            "_view_module": "@jupyter-widgets/base",
            "_view_module_version": "1.2.0",
            "_view_name": "StyleView",
            "bar_color": null,
            "description_width": ""
          }
        },
        "920a404e30b845469df99edc92febd34": {
          "model_module": "@jupyter-widgets/base",
          "model_name": "LayoutModel",
          "model_module_version": "1.2.0",
          "state": {
            "_model_module": "@jupyter-widgets/base",
            "_model_module_version": "1.2.0",
            "_model_name": "LayoutModel",
            "_view_count": null,
            "_view_module": "@jupyter-widgets/base",
            "_view_module_version": "1.2.0",
            "_view_name": "LayoutView",
            "align_content": null,
            "align_items": null,
            "align_self": null,
            "border": null,
            "bottom": null,
            "display": null,
            "flex": null,
            "flex_flow": null,
            "grid_area": null,
            "grid_auto_columns": null,
            "grid_auto_flow": null,
            "grid_auto_rows": null,
            "grid_column": null,
            "grid_gap": null,
            "grid_row": null,
            "grid_template_areas": null,
            "grid_template_columns": null,
            "grid_template_rows": null,
            "height": null,
            "justify_content": null,
            "justify_items": null,
            "left": null,
            "margin": null,
            "max_height": null,
            "max_width": null,
            "min_height": null,
            "min_width": null,
            "object_fit": null,
            "object_position": null,
            "order": null,
            "overflow": null,
            "overflow_x": null,
            "overflow_y": null,
            "padding": null,
            "right": null,
            "top": null,
            "visibility": null,
            "width": null
          }
        },
        "28e6c6f0d6bb43329fec9d61f68fee0b": {
          "model_module": "@jupyter-widgets/controls",
          "model_name": "DescriptionStyleModel",
          "model_module_version": "1.5.0",
          "state": {
            "_model_module": "@jupyter-widgets/controls",
            "_model_module_version": "1.5.0",
            "_model_name": "DescriptionStyleModel",
            "_view_count": null,
            "_view_module": "@jupyter-widgets/base",
            "_view_module_version": "1.2.0",
            "_view_name": "StyleView",
            "description_width": ""
          }
        },
        "1105e81ad1664db4904c272bdf831eca": {
          "model_module": "@jupyter-widgets/controls",
          "model_name": "HBoxModel",
          "model_module_version": "1.5.0",
          "state": {
            "_dom_classes": [],
            "_model_module": "@jupyter-widgets/controls",
            "_model_module_version": "1.5.0",
            "_model_name": "HBoxModel",
            "_view_count": null,
            "_view_module": "@jupyter-widgets/controls",
            "_view_module_version": "1.5.0",
            "_view_name": "HBoxView",
            "box_style": "",
            "children": [
              "IPY_MODEL_24efd23a944540df98bde2cac537e6a6",
              "IPY_MODEL_ca595ad3c6394ccdb82e1f9b58530463",
              "IPY_MODEL_023180a52112489fbe32cd7d46dd24dd"
            ],
            "layout": "IPY_MODEL_175810dd1281460cbcf8d7c7e4b00fac"
          }
        },
        "24efd23a944540df98bde2cac537e6a6": {
          "model_module": "@jupyter-widgets/controls",
          "model_name": "HTMLModel",
          "model_module_version": "1.5.0",
          "state": {
            "_dom_classes": [],
            "_model_module": "@jupyter-widgets/controls",
            "_model_module_version": "1.5.0",
            "_model_name": "HTMLModel",
            "_view_count": null,
            "_view_module": "@jupyter-widgets/controls",
            "_view_module_version": "1.5.0",
            "_view_name": "HTMLView",
            "description": "",
            "description_tooltip": null,
            "layout": "IPY_MODEL_698863bcf1344aeab4555f543f253bc2",
            "placeholder": "​",
            "style": "IPY_MODEL_099390bf797041c88923868d5e82623c",
            "value": "Downloading: 100%"
          }
        },
        "ca595ad3c6394ccdb82e1f9b58530463": {
          "model_module": "@jupyter-widgets/controls",
          "model_name": "FloatProgressModel",
          "model_module_version": "1.5.0",
          "state": {
            "_dom_classes": [],
            "_model_module": "@jupyter-widgets/controls",
            "_model_module_version": "1.5.0",
            "_model_name": "FloatProgressModel",
            "_view_count": null,
            "_view_module": "@jupyter-widgets/controls",
            "_view_module_version": "1.5.0",
            "_view_name": "ProgressView",
            "bar_style": "success",
            "description": "",
            "description_tooltip": null,
            "layout": "IPY_MODEL_acb9ba20584443289b22c20e432dfcc7",
            "max": 169,
            "min": 0,
            "orientation": "horizontal",
            "style": "IPY_MODEL_36d640c079994df9b9a54fa7fd741222",
            "value": 169
          }
        },
        "023180a52112489fbe32cd7d46dd24dd": {
          "model_module": "@jupyter-widgets/controls",
          "model_name": "HTMLModel",
          "model_module_version": "1.5.0",
          "state": {
            "_dom_classes": [],
            "_model_module": "@jupyter-widgets/controls",
            "_model_module_version": "1.5.0",
            "_model_name": "HTMLModel",
            "_view_count": null,
            "_view_module": "@jupyter-widgets/controls",
            "_view_module_version": "1.5.0",
            "_view_name": "HTMLView",
            "description": "",
            "description_tooltip": null,
            "layout": "IPY_MODEL_e0256b964a2a4ba6895a41fe30fbceea",
            "placeholder": "​",
            "style": "IPY_MODEL_fd442ad62dfd42f9af5baabc07426838",
            "value": " 169/169 [00:00&lt;00:00, 5.20kB/s]"
          }
        },
        "175810dd1281460cbcf8d7c7e4b00fac": {
          "model_module": "@jupyter-widgets/base",
          "model_name": "LayoutModel",
          "model_module_version": "1.2.0",
          "state": {
            "_model_module": "@jupyter-widgets/base",
            "_model_module_version": "1.2.0",
            "_model_name": "LayoutModel",
            "_view_count": null,
            "_view_module": "@jupyter-widgets/base",
            "_view_module_version": "1.2.0",
            "_view_name": "LayoutView",
            "align_content": null,
            "align_items": null,
            "align_self": null,
            "border": null,
            "bottom": null,
            "display": null,
            "flex": null,
            "flex_flow": null,
            "grid_area": null,
            "grid_auto_columns": null,
            "grid_auto_flow": null,
            "grid_auto_rows": null,
            "grid_column": null,
            "grid_gap": null,
            "grid_row": null,
            "grid_template_areas": null,
            "grid_template_columns": null,
            "grid_template_rows": null,
            "height": null,
            "justify_content": null,
            "justify_items": null,
            "left": null,
            "margin": null,
            "max_height": null,
            "max_width": null,
            "min_height": null,
            "min_width": null,
            "object_fit": null,
            "object_position": null,
            "order": null,
            "overflow": null,
            "overflow_x": null,
            "overflow_y": null,
            "padding": null,
            "right": null,
            "top": null,
            "visibility": null,
            "width": null
          }
        },
        "698863bcf1344aeab4555f543f253bc2": {
          "model_module": "@jupyter-widgets/base",
          "model_name": "LayoutModel",
          "model_module_version": "1.2.0",
          "state": {
            "_model_module": "@jupyter-widgets/base",
            "_model_module_version": "1.2.0",
            "_model_name": "LayoutModel",
            "_view_count": null,
            "_view_module": "@jupyter-widgets/base",
            "_view_module_version": "1.2.0",
            "_view_name": "LayoutView",
            "align_content": null,
            "align_items": null,
            "align_self": null,
            "border": null,
            "bottom": null,
            "display": null,
            "flex": null,
            "flex_flow": null,
            "grid_area": null,
            "grid_auto_columns": null,
            "grid_auto_flow": null,
            "grid_auto_rows": null,
            "grid_column": null,
            "grid_gap": null,
            "grid_row": null,
            "grid_template_areas": null,
            "grid_template_columns": null,
            "grid_template_rows": null,
            "height": null,
            "justify_content": null,
            "justify_items": null,
            "left": null,
            "margin": null,
            "max_height": null,
            "max_width": null,
            "min_height": null,
            "min_width": null,
            "object_fit": null,
            "object_position": null,
            "order": null,
            "overflow": null,
            "overflow_x": null,
            "overflow_y": null,
            "padding": null,
            "right": null,
            "top": null,
            "visibility": null,
            "width": null
          }
        },
        "099390bf797041c88923868d5e82623c": {
          "model_module": "@jupyter-widgets/controls",
          "model_name": "DescriptionStyleModel",
          "model_module_version": "1.5.0",
          "state": {
            "_model_module": "@jupyter-widgets/controls",
            "_model_module_version": "1.5.0",
            "_model_name": "DescriptionStyleModel",
            "_view_count": null,
            "_view_module": "@jupyter-widgets/base",
            "_view_module_version": "1.2.0",
            "_view_name": "StyleView",
            "description_width": ""
          }
        },
        "acb9ba20584443289b22c20e432dfcc7": {
          "model_module": "@jupyter-widgets/base",
          "model_name": "LayoutModel",
          "model_module_version": "1.2.0",
          "state": {
            "_model_module": "@jupyter-widgets/base",
            "_model_module_version": "1.2.0",
            "_model_name": "LayoutModel",
            "_view_count": null,
            "_view_module": "@jupyter-widgets/base",
            "_view_module_version": "1.2.0",
            "_view_name": "LayoutView",
            "align_content": null,
            "align_items": null,
            "align_self": null,
            "border": null,
            "bottom": null,
            "display": null,
            "flex": null,
            "flex_flow": null,
            "grid_area": null,
            "grid_auto_columns": null,
            "grid_auto_flow": null,
            "grid_auto_rows": null,
            "grid_column": null,
            "grid_gap": null,
            "grid_row": null,
            "grid_template_areas": null,
            "grid_template_columns": null,
            "grid_template_rows": null,
            "height": null,
            "justify_content": null,
            "justify_items": null,
            "left": null,
            "margin": null,
            "max_height": null,
            "max_width": null,
            "min_height": null,
            "min_width": null,
            "object_fit": null,
            "object_position": null,
            "order": null,
            "overflow": null,
            "overflow_x": null,
            "overflow_y": null,
            "padding": null,
            "right": null,
            "top": null,
            "visibility": null,
            "width": null
          }
        },
        "36d640c079994df9b9a54fa7fd741222": {
          "model_module": "@jupyter-widgets/controls",
          "model_name": "ProgressStyleModel",
          "model_module_version": "1.5.0",
          "state": {
            "_model_module": "@jupyter-widgets/controls",
            "_model_module_version": "1.5.0",
            "_model_name": "ProgressStyleModel",
            "_view_count": null,
            "_view_module": "@jupyter-widgets/base",
            "_view_module_version": "1.2.0",
            "_view_name": "StyleView",
            "bar_color": null,
            "description_width": ""
          }
        },
        "e0256b964a2a4ba6895a41fe30fbceea": {
          "model_module": "@jupyter-widgets/base",
          "model_name": "LayoutModel",
          "model_module_version": "1.2.0",
          "state": {
            "_model_module": "@jupyter-widgets/base",
            "_model_module_version": "1.2.0",
            "_model_name": "LayoutModel",
            "_view_count": null,
            "_view_module": "@jupyter-widgets/base",
            "_view_module_version": "1.2.0",
            "_view_name": "LayoutView",
            "align_content": null,
            "align_items": null,
            "align_self": null,
            "border": null,
            "bottom": null,
            "display": null,
            "flex": null,
            "flex_flow": null,
            "grid_area": null,
            "grid_auto_columns": null,
            "grid_auto_flow": null,
            "grid_auto_rows": null,
            "grid_column": null,
            "grid_gap": null,
            "grid_row": null,
            "grid_template_areas": null,
            "grid_template_columns": null,
            "grid_template_rows": null,
            "height": null,
            "justify_content": null,
            "justify_items": null,
            "left": null,
            "margin": null,
            "max_height": null,
            "max_width": null,
            "min_height": null,
            "min_width": null,
            "object_fit": null,
            "object_position": null,
            "order": null,
            "overflow": null,
            "overflow_x": null,
            "overflow_y": null,
            "padding": null,
            "right": null,
            "top": null,
            "visibility": null,
            "width": null
          }
        },
        "fd442ad62dfd42f9af5baabc07426838": {
          "model_module": "@jupyter-widgets/controls",
          "model_name": "DescriptionStyleModel",
          "model_module_version": "1.5.0",
          "state": {
            "_model_module": "@jupyter-widgets/controls",
            "_model_module_version": "1.5.0",
            "_model_name": "DescriptionStyleModel",
            "_view_count": null,
            "_view_module": "@jupyter-widgets/base",
            "_view_module_version": "1.2.0",
            "_view_name": "StyleView",
            "description_width": ""
          }
        },
        "b0ec2bba65664d078c07117b8c85c65d": {
          "model_module": "@jupyter-widgets/controls",
          "model_name": "HBoxModel",
          "model_module_version": "1.5.0",
          "state": {
            "_dom_classes": [],
            "_model_module": "@jupyter-widgets/controls",
            "_model_module_version": "1.5.0",
            "_model_name": "HBoxModel",
            "_view_count": null,
            "_view_module": "@jupyter-widgets/controls",
            "_view_module_version": "1.5.0",
            "_view_name": "HBoxView",
            "box_style": "",
            "children": [
              "IPY_MODEL_c0997358355049939b2ae3c9fbcf7464",
              "IPY_MODEL_b3abf5f306e645d194cc42e4a1ee1547",
              "IPY_MODEL_1c5ef52657e24ea2b222bf13dd3b972e"
            ],
            "layout": "IPY_MODEL_cfead625181345b3be689dea60c7099f"
          }
        },
        "c0997358355049939b2ae3c9fbcf7464": {
          "model_module": "@jupyter-widgets/controls",
          "model_name": "HTMLModel",
          "model_module_version": "1.5.0",
          "state": {
            "_dom_classes": [],
            "_model_module": "@jupyter-widgets/controls",
            "_model_module_version": "1.5.0",
            "_model_name": "HTMLModel",
            "_view_count": null,
            "_view_module": "@jupyter-widgets/controls",
            "_view_module_version": "1.5.0",
            "_view_name": "HTMLView",
            "description": "",
            "description_tooltip": null,
            "layout": "IPY_MODEL_f9bbd03c0f6e49aabf067b2724da742a",
            "placeholder": "​",
            "style": "IPY_MODEL_eef2632c42ff40fb925c3e223b90fdae",
            "value": "Downloading: 100%"
          }
        },
        "b3abf5f306e645d194cc42e4a1ee1547": {
          "model_module": "@jupyter-widgets/controls",
          "model_name": "FloatProgressModel",
          "model_module_version": "1.5.0",
          "state": {
            "_dom_classes": [],
            "_model_module": "@jupyter-widgets/controls",
            "_model_module_version": "1.5.0",
            "_model_name": "FloatProgressModel",
            "_view_count": null,
            "_view_module": "@jupyter-widgets/controls",
            "_view_module_version": "1.5.0",
            "_view_name": "ProgressView",
            "bar_style": "success",
            "description": "",
            "description_tooltip": null,
            "layout": "IPY_MODEL_344c31e819de4c778df431c12e36441d",
            "max": 373,
            "min": 0,
            "orientation": "horizontal",
            "style": "IPY_MODEL_de80b40f5cd742718c6f623d9a22e7a6",
            "value": 373
          }
        },
        "1c5ef52657e24ea2b222bf13dd3b972e": {
          "model_module": "@jupyter-widgets/controls",
          "model_name": "HTMLModel",
          "model_module_version": "1.5.0",
          "state": {
            "_dom_classes": [],
            "_model_module": "@jupyter-widgets/controls",
            "_model_module_version": "1.5.0",
            "_model_name": "HTMLModel",
            "_view_count": null,
            "_view_module": "@jupyter-widgets/controls",
            "_view_module_version": "1.5.0",
            "_view_name": "HTMLView",
            "description": "",
            "description_tooltip": null,
            "layout": "IPY_MODEL_7aead34fce5f4eabb54e654bf55c0956",
            "placeholder": "​",
            "style": "IPY_MODEL_42ab925df39f418aaa8ae55e7ede3060",
            "value": " 373/373 [00:00&lt;00:00, 11.6kB/s]"
          }
        },
        "cfead625181345b3be689dea60c7099f": {
          "model_module": "@jupyter-widgets/base",
          "model_name": "LayoutModel",
          "model_module_version": "1.2.0",
          "state": {
            "_model_module": "@jupyter-widgets/base",
            "_model_module_version": "1.2.0",
            "_model_name": "LayoutModel",
            "_view_count": null,
            "_view_module": "@jupyter-widgets/base",
            "_view_module_version": "1.2.0",
            "_view_name": "LayoutView",
            "align_content": null,
            "align_items": null,
            "align_self": null,
            "border": null,
            "bottom": null,
            "display": null,
            "flex": null,
            "flex_flow": null,
            "grid_area": null,
            "grid_auto_columns": null,
            "grid_auto_flow": null,
            "grid_auto_rows": null,
            "grid_column": null,
            "grid_gap": null,
            "grid_row": null,
            "grid_template_areas": null,
            "grid_template_columns": null,
            "grid_template_rows": null,
            "height": null,
            "justify_content": null,
            "justify_items": null,
            "left": null,
            "margin": null,
            "max_height": null,
            "max_width": null,
            "min_height": null,
            "min_width": null,
            "object_fit": null,
            "object_position": null,
            "order": null,
            "overflow": null,
            "overflow_x": null,
            "overflow_y": null,
            "padding": null,
            "right": null,
            "top": null,
            "visibility": null,
            "width": null
          }
        },
        "f9bbd03c0f6e49aabf067b2724da742a": {
          "model_module": "@jupyter-widgets/base",
          "model_name": "LayoutModel",
          "model_module_version": "1.2.0",
          "state": {
            "_model_module": "@jupyter-widgets/base",
            "_model_module_version": "1.2.0",
            "_model_name": "LayoutModel",
            "_view_count": null,
            "_view_module": "@jupyter-widgets/base",
            "_view_module_version": "1.2.0",
            "_view_name": "LayoutView",
            "align_content": null,
            "align_items": null,
            "align_self": null,
            "border": null,
            "bottom": null,
            "display": null,
            "flex": null,
            "flex_flow": null,
            "grid_area": null,
            "grid_auto_columns": null,
            "grid_auto_flow": null,
            "grid_auto_rows": null,
            "grid_column": null,
            "grid_gap": null,
            "grid_row": null,
            "grid_template_areas": null,
            "grid_template_columns": null,
            "grid_template_rows": null,
            "height": null,
            "justify_content": null,
            "justify_items": null,
            "left": null,
            "margin": null,
            "max_height": null,
            "max_width": null,
            "min_height": null,
            "min_width": null,
            "object_fit": null,
            "object_position": null,
            "order": null,
            "overflow": null,
            "overflow_x": null,
            "overflow_y": null,
            "padding": null,
            "right": null,
            "top": null,
            "visibility": null,
            "width": null
          }
        },
        "eef2632c42ff40fb925c3e223b90fdae": {
          "model_module": "@jupyter-widgets/controls",
          "model_name": "DescriptionStyleModel",
          "model_module_version": "1.5.0",
          "state": {
            "_model_module": "@jupyter-widgets/controls",
            "_model_module_version": "1.5.0",
            "_model_name": "DescriptionStyleModel",
            "_view_count": null,
            "_view_module": "@jupyter-widgets/base",
            "_view_module_version": "1.2.0",
            "_view_name": "StyleView",
            "description_width": ""
          }
        },
        "344c31e819de4c778df431c12e36441d": {
          "model_module": "@jupyter-widgets/base",
          "model_name": "LayoutModel",
          "model_module_version": "1.2.0",
          "state": {
            "_model_module": "@jupyter-widgets/base",
            "_model_module_version": "1.2.0",
            "_model_name": "LayoutModel",
            "_view_count": null,
            "_view_module": "@jupyter-widgets/base",
            "_view_module_version": "1.2.0",
            "_view_name": "LayoutView",
            "align_content": null,
            "align_items": null,
            "align_self": null,
            "border": null,
            "bottom": null,
            "display": null,
            "flex": null,
            "flex_flow": null,
            "grid_area": null,
            "grid_auto_columns": null,
            "grid_auto_flow": null,
            "grid_auto_rows": null,
            "grid_column": null,
            "grid_gap": null,
            "grid_row": null,
            "grid_template_areas": null,
            "grid_template_columns": null,
            "grid_template_rows": null,
            "height": null,
            "justify_content": null,
            "justify_items": null,
            "left": null,
            "margin": null,
            "max_height": null,
            "max_width": null,
            "min_height": null,
            "min_width": null,
            "object_fit": null,
            "object_position": null,
            "order": null,
            "overflow": null,
            "overflow_x": null,
            "overflow_y": null,
            "padding": null,
            "right": null,
            "top": null,
            "visibility": null,
            "width": null
          }
        },
        "de80b40f5cd742718c6f623d9a22e7a6": {
          "model_module": "@jupyter-widgets/controls",
          "model_name": "ProgressStyleModel",
          "model_module_version": "1.5.0",
          "state": {
            "_model_module": "@jupyter-widgets/controls",
            "_model_module_version": "1.5.0",
            "_model_name": "ProgressStyleModel",
            "_view_count": null,
            "_view_module": "@jupyter-widgets/base",
            "_view_module_version": "1.2.0",
            "_view_name": "StyleView",
            "bar_color": null,
            "description_width": ""
          }
        },
        "7aead34fce5f4eabb54e654bf55c0956": {
          "model_module": "@jupyter-widgets/base",
          "model_name": "LayoutModel",
          "model_module_version": "1.2.0",
          "state": {
            "_model_module": "@jupyter-widgets/base",
            "_model_module_version": "1.2.0",
            "_model_name": "LayoutModel",
            "_view_count": null,
            "_view_module": "@jupyter-widgets/base",
            "_view_module_version": "1.2.0",
            "_view_name": "LayoutView",
            "align_content": null,
            "align_items": null,
            "align_self": null,
            "border": null,
            "bottom": null,
            "display": null,
            "flex": null,
            "flex_flow": null,
            "grid_area": null,
            "grid_auto_columns": null,
            "grid_auto_flow": null,
            "grid_auto_rows": null,
            "grid_column": null,
            "grid_gap": null,
            "grid_row": null,
            "grid_template_areas": null,
            "grid_template_columns": null,
            "grid_template_rows": null,
            "height": null,
            "justify_content": null,
            "justify_items": null,
            "left": null,
            "margin": null,
            "max_height": null,
            "max_width": null,
            "min_height": null,
            "min_width": null,
            "object_fit": null,
            "object_position": null,
            "order": null,
            "overflow": null,
            "overflow_x": null,
            "overflow_y": null,
            "padding": null,
            "right": null,
            "top": null,
            "visibility": null,
            "width": null
          }
        },
        "42ab925df39f418aaa8ae55e7ede3060": {
          "model_module": "@jupyter-widgets/controls",
          "model_name": "DescriptionStyleModel",
          "model_module_version": "1.5.0",
          "state": {
            "_model_module": "@jupyter-widgets/controls",
            "_model_module_version": "1.5.0",
            "_model_name": "DescriptionStyleModel",
            "_view_count": null,
            "_view_module": "@jupyter-widgets/base",
            "_view_module_version": "1.2.0",
            "_view_name": "StyleView",
            "description_width": ""
          }
        }
      }
    }
  },
  "nbformat": 4,
  "nbformat_minor": 0
}